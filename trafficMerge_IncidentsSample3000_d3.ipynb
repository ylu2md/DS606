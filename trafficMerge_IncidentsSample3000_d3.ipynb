{
 "cells": [
  {
   "cell_type": "code",
   "execution_count": 1,
   "metadata": {},
   "outputs": [],
   "source": [
    "# <1> \n",
    "# Import libraries\n",
    "import seaborn as sns\n",
    "import pandas as pd\n",
    "import numpy as np\n",
    "\n",
    "from gc import collect\n",
    "\n",
    "\n",
    "from matplotlib import patheffects as path_effects\n",
    "import matplotlib.pyplot as plt\n",
    "\n",
    "from sklearn.neighbors import RadiusNeighborsRegressor\n",
    "from sklearn.cluster import KMeans\n",
    "from folium.plugins import HeatMap\n",
    "\n",
    "import folium"
   ]
  },
  {
   "cell_type": "code",
   "execution_count": 2,
   "metadata": {},
   "outputs": [
    {
     "name": "stderr",
     "output_type": "stream",
     "text": [
      "C:\\Users\\ywei1\\Anaconda3\\lib\\site-packages\\IPython\\core\\interactiveshell.py:3049: DtypeWarning: Columns (1) have mixed types. Specify dtype option on import or set low_memory=False.\n",
      "  interactivity=interactivity, compiler=compiler, result=result)\n"
     ]
    }
   ],
   "source": [
    "# load three datasets of fatal crash\n",
    "df_I = pd.read_csv(\"Crash_Reporting_Incidents_Data.csv\")"
   ]
  },
  {
   "cell_type": "code",
   "execution_count": 3,
   "metadata": {},
   "outputs": [],
   "source": [
    "df_I_sampling = df_I.sample(n=5000) "
   ]
  },
  {
   "cell_type": "code",
   "execution_count": 4,
   "metadata": {},
   "outputs": [
    {
     "name": "stdout",
     "output_type": "stream",
     "text": [
      "<class 'pandas.core.frame.DataFrame'>\n",
      "Int64Index: 5000 entries, 36438 to 29947\n",
      "Data columns (total 46 columns):\n",
      "Report Number                   5000 non-null object\n",
      "Local Case Number               5000 non-null object\n",
      "Agency Name                     5000 non-null object\n",
      "ACRS Report Type                5000 non-null object\n",
      "Unnamed: 4                      0 non-null float64\n",
      "Crash Date                      5000 non-null object\n",
      "Crash Time                      5000 non-null object\n",
      "Hit/Run                         5000 non-null object\n",
      "Route Type                      4342 non-null object\n",
      "Mile Point                      4368 non-null float64\n",
      "Mile Point Direction            4344 non-null object\n",
      "Lane Direction                  4369 non-null object\n",
      "Lane Number                     5000 non-null int64\n",
      "Lane Type                       516 non-null object\n",
      "Number of Lanes                 5000 non-null int64\n",
      "Direction                       4368 non-null object\n",
      "Distance                        4505 non-null float64\n",
      "Distance Unit                   4369 non-null object\n",
      "Road Grade                      4327 non-null object\n",
      "NonTraffic                      5000 non-null object\n",
      "Road Name                       4369 non-null object\n",
      "Cross-Street Type               4340 non-null object\n",
      "Cross-Street Name               4369 non-null object\n",
      "Off-Road Description            631 non-null object\n",
      "Municipality                    540 non-null object\n",
      "Related Non-Motorist            262 non-null object\n",
      "At Fault                        5000 non-null object\n",
      "Collision Type                  4976 non-null object\n",
      "Weather                         4597 non-null object\n",
      "Surface Condition               4239 non-null object\n",
      "Light                           4960 non-null object\n",
      "Traffic Control                 4133 non-null object\n",
      "Driver Substance Abuse          4167 non-null object\n",
      "Non-Motorist Substance Abuse    195 non-null object\n",
      "First Harmful Event             4971 non-null object\n",
      "Second Harmful Event            1281 non-null object\n",
      "Fixed Oject Struck              1001 non-null object\n",
      "Junction                        3714 non-null object\n",
      "Intersection Type               2524 non-null object\n",
      "Intersection Area               1469 non-null object\n",
      "Road Alignment                  4351 non-null object\n",
      "Road Condition                  4172 non-null object\n",
      "Road Division                   4306 non-null object\n",
      "Latitude                        5000 non-null float64\n",
      "Longitude                       5000 non-null float64\n",
      "Location                        5000 non-null object\n",
      "dtypes: float64(5), int64(2), object(39)\n",
      "memory usage: 1.8+ MB\n"
     ]
    }
   ],
   "source": [
    "df_I_sampling.info()"
   ]
  },
  {
   "cell_type": "code",
   "execution_count": 5,
   "metadata": {},
   "outputs": [
    {
     "data": {
      "text/plain": [
       "Property Damage Crash    3209\n",
       "Injury Crash             1775\n",
       "Fatal Crash                16\n",
       "Name: ACRS Report Type, dtype: int64"
      ]
     },
     "execution_count": 5,
     "metadata": {},
     "output_type": "execute_result"
    }
   ],
   "source": [
    "df_I_sampling['ACRS Report Type'].value_counts()"
   ]
  },
  {
   "cell_type": "code",
   "execution_count": 6,
   "metadata": {},
   "outputs": [],
   "source": [
    "df_I_sampling = df_I_sampling[df_I_sampling['ACRS Report Type'] != 'Fatal Crash']"
   ]
  },
  {
   "cell_type": "code",
   "execution_count": 7,
   "metadata": {},
   "outputs": [
    {
     "data": {
      "text/plain": [
       "Property Damage Crash    3209\n",
       "Injury Crash             1775\n",
       "Name: ACRS Report Type, dtype: int64"
      ]
     },
     "execution_count": 7,
     "metadata": {},
     "output_type": "execute_result"
    }
   ],
   "source": [
    "df_I_sampling['ACRS Report Type'].value_counts()"
   ]
  },
  {
   "cell_type": "code",
   "execution_count": 8,
   "metadata": {},
   "outputs": [],
   "source": [
    "df_f = pd.read_csv(\"Crash_Reporting_IncidentsData_Part.csv\")"
   ]
  },
  {
   "cell_type": "code",
   "execution_count": 9,
   "metadata": {},
   "outputs": [],
   "source": [
    "df_I_sampling1 = pd.concat([df_I_sampling, df_f], ignore_index=True)"
   ]
  },
  {
   "cell_type": "code",
   "execution_count": 10,
   "metadata": {},
   "outputs": [
    {
     "name": "stdout",
     "output_type": "stream",
     "text": [
      "<class 'pandas.core.frame.DataFrame'>\n",
      "RangeIndex: 5158 entries, 0 to 5157\n",
      "Data columns (total 46 columns):\n",
      "Report Number                   5158 non-null object\n",
      "Local Case Number               5158 non-null object\n",
      "Agency Name                     5158 non-null object\n",
      "ACRS Report Type                5158 non-null object\n",
      "Unnamed: 4                      0 non-null float64\n",
      "Crash Date                      5158 non-null object\n",
      "Crash Time                      5158 non-null object\n",
      "Hit/Run                         5158 non-null object\n",
      "Route Type                      4494 non-null object\n",
      "Mile Point                      4521 non-null float64\n",
      "Mile Point Direction            4496 non-null object\n",
      "Lane Direction                  4523 non-null object\n",
      "Lane Number                     5158 non-null int64\n",
      "Lane Type                       524 non-null object\n",
      "Number of Lanes                 5158 non-null int64\n",
      "Direction                       4521 non-null object\n",
      "Distance                        4659 non-null float64\n",
      "Distance Unit                   4523 non-null object\n",
      "Road Grade                      4481 non-null object\n",
      "NonTraffic                      5158 non-null object\n",
      "Road Name                       4523 non-null object\n",
      "Cross-Street Type               4492 non-null object\n",
      "Cross-Street Name               4523 non-null object\n",
      "Off-Road Description            635 non-null object\n",
      "Municipality                    562 non-null object\n",
      "Related Non-Motorist            331 non-null object\n",
      "At Fault                        5158 non-null object\n",
      "Collision Type                  5134 non-null object\n",
      "Weather                         4744 non-null object\n",
      "Surface Condition               4390 non-null object\n",
      "Light                           5118 non-null object\n",
      "Traffic Control                 4256 non-null object\n",
      "Driver Substance Abuse          4315 non-null object\n",
      "Non-Motorist Substance Abuse    259 non-null object\n",
      "First Harmful Event             5129 non-null object\n",
      "Second Harmful Event            1356 non-null object\n",
      "Fixed Oject Struck              1070 non-null object\n",
      "Junction                        3859 non-null object\n",
      "Intersection Type               2602 non-null object\n",
      "Intersection Area               1487 non-null object\n",
      "Road Alignment                  4505 non-null object\n",
      "Road Condition                  4322 non-null object\n",
      "Road Division                   4459 non-null object\n",
      "Latitude                        5158 non-null float64\n",
      "Longitude                       5158 non-null float64\n",
      "Location                        5158 non-null object\n",
      "dtypes: float64(5), int64(2), object(39)\n",
      "memory usage: 1.8+ MB\n"
     ]
    }
   ],
   "source": [
    "df_I_sampling1.info()"
   ]
  },
  {
   "cell_type": "code",
   "execution_count": 11,
   "metadata": {},
   "outputs": [
    {
     "name": "stdout",
     "output_type": "stream",
     "text": [
      "<class 'pandas.core.frame.DataFrame'>\n",
      "RangeIndex: 115002 entries, 0 to 115001\n",
      "Data columns (total 43 columns):\n",
      "Report Number                     115002 non-null object\n",
      "Local Case Number                 115002 non-null object\n",
      "Agency Name                       115002 non-null object\n",
      "ACRS Report Type                  115002 non-null object\n",
      "Crash Date/Time                   115002 non-null object\n",
      "Route Type                        103866 non-null object\n",
      "Road Name                         104427 non-null object\n",
      "Cross-Street Type                 103852 non-null object\n",
      "Cross-Street Name                 104423 non-null object\n",
      "Off-Road Description              10574 non-null object\n",
      "Municipality                      12520 non-null object\n",
      "Related Non-Motorist              3572 non-null object\n",
      "Collision Type                    114620 non-null object\n",
      "Weather                           105914 non-null object\n",
      "Surface Condition                 101388 non-null object\n",
      "Light                             114050 non-null object\n",
      "Traffic Control                   96723 non-null object\n",
      "Driver Substance Abuse            93901 non-null object\n",
      "Non-Motorist Substance Abuse      2827 non-null object\n",
      "Person ID                         115002 non-null object\n",
      "Driver At Fault                   115002 non-null object\n",
      "Injury Severity                   115002 non-null object\n",
      "Circumstance                      22297 non-null object\n",
      "Driver Distracted By              115002 non-null object\n",
      "Drivers License State             109512 non-null object\n",
      "Vehicle ID                        115002 non-null object\n",
      "Vehicle Damage Extent             114798 non-null object\n",
      "Vehicle First Impact Location     114846 non-null object\n",
      "Vehicle Second Impact Location    114746 non-null object\n",
      "Vehicle Body Type                 113349 non-null object\n",
      "Vehicle Movement                  114767 non-null object\n",
      "Vehicle Continuing Dir            113298 non-null object\n",
      "Vehicle Going Dir                 113298 non-null object\n",
      "Speed Limit                       115002 non-null int64\n",
      "Driverless Vehicle                115002 non-null object\n",
      "Parked Vehicle                    115002 non-null object\n",
      "Vehicle Year                      115002 non-null int64\n",
      "Vehicle Make                      114981 non-null object\n",
      "Vehicle Model                     114950 non-null object\n",
      "Equipment Problems                89484 non-null object\n",
      "Latitude                          115002 non-null float64\n",
      "Longitude                         115002 non-null float64\n",
      "Location                          115002 non-null object\n",
      "dtypes: float64(2), int64(2), object(39)\n",
      "memory usage: 37.7+ MB\n"
     ]
    }
   ],
   "source": [
    "df_D = pd.read_csv(\"Crash_Reporting_-_Drivers_Data.csv\")\n",
    "df_D.info()"
   ]
  },
  {
   "cell_type": "code",
   "execution_count": 12,
   "metadata": {},
   "outputs": [],
   "source": [
    "merged = df_I_sampling1.merge(df_D, on='Report Number', how='inner')"
   ]
  },
  {
   "cell_type": "code",
   "execution_count": 13,
   "metadata": {},
   "outputs": [
    {
     "data": {
      "text/html": [
       "<div>\n",
       "<style scoped>\n",
       "    .dataframe tbody tr th:only-of-type {\n",
       "        vertical-align: middle;\n",
       "    }\n",
       "\n",
       "    .dataframe tbody tr th {\n",
       "        vertical-align: top;\n",
       "    }\n",
       "\n",
       "    .dataframe thead th {\n",
       "        text-align: right;\n",
       "    }\n",
       "</style>\n",
       "<table border=\"1\" class=\"dataframe\">\n",
       "  <thead>\n",
       "    <tr style=\"text-align: right;\">\n",
       "      <th></th>\n",
       "      <th>Report Number</th>\n",
       "      <th>Local Case Number_x</th>\n",
       "      <th>Agency Name_x</th>\n",
       "      <th>ACRS Report Type_x</th>\n",
       "      <th>Unnamed: 4</th>\n",
       "      <th>Crash Date</th>\n",
       "      <th>Crash Time</th>\n",
       "      <th>Hit/Run</th>\n",
       "      <th>Route Type_x</th>\n",
       "      <th>Mile Point</th>\n",
       "      <th>...</th>\n",
       "      <th>Speed Limit</th>\n",
       "      <th>Driverless Vehicle</th>\n",
       "      <th>Parked Vehicle</th>\n",
       "      <th>Vehicle Year</th>\n",
       "      <th>Vehicle Make</th>\n",
       "      <th>Vehicle Model</th>\n",
       "      <th>Equipment Problems</th>\n",
       "      <th>Latitude_y</th>\n",
       "      <th>Longitude_y</th>\n",
       "      <th>Location_y</th>\n",
       "    </tr>\n",
       "  </thead>\n",
       "  <tbody>\n",
       "    <tr>\n",
       "      <th>0</th>\n",
       "      <td>MCP21620024</td>\n",
       "      <td>17013193</td>\n",
       "      <td>Montgomery County Police</td>\n",
       "      <td>Injury Crash</td>\n",
       "      <td>NaN</td>\n",
       "      <td>3/13/2017</td>\n",
       "      <td>8:02:00 PM</td>\n",
       "      <td>No</td>\n",
       "      <td>Maryland (State)</td>\n",
       "      <td>20.5</td>\n",
       "      <td>...</td>\n",
       "      <td>35</td>\n",
       "      <td>No</td>\n",
       "      <td>No</td>\n",
       "      <td>2008</td>\n",
       "      <td>VOLKSWAGEN</td>\n",
       "      <td>PASSAT</td>\n",
       "      <td>NO MISUSE</td>\n",
       "      <td>39.2264</td>\n",
       "      <td>-77.069486</td>\n",
       "      <td>(39.22640027, -77.06948608)</td>\n",
       "    </tr>\n",
       "  </tbody>\n",
       "</table>\n",
       "<p>1 rows × 88 columns</p>\n",
       "</div>"
      ],
      "text/plain": [
       "  Report Number Local Case Number_x             Agency Name_x  \\\n",
       "0   MCP21620024            17013193  Montgomery County Police   \n",
       "\n",
       "  ACRS Report Type_x  Unnamed: 4 Crash Date  Crash Time Hit/Run  \\\n",
       "0       Injury Crash         NaN  3/13/2017  8:02:00 PM      No   \n",
       "\n",
       "       Route Type_x  Mile Point  ... Speed Limit Driverless Vehicle  \\\n",
       "0  Maryland (State)        20.5  ...          35                 No   \n",
       "\n",
       "   Parked Vehicle Vehicle Year  Vehicle Make Vehicle Model  \\\n",
       "0              No         2008    VOLKSWAGEN        PASSAT   \n",
       "\n",
       "   Equipment Problems Latitude_y Longitude_y                   Location_y  \n",
       "0           NO MISUSE    39.2264  -77.069486  (39.22640027, -77.06948608)  \n",
       "\n",
       "[1 rows x 88 columns]"
      ]
     },
     "execution_count": 13,
     "metadata": {},
     "output_type": "execute_result"
    }
   ],
   "source": [
    "merged.head(1)"
   ]
  },
  {
   "cell_type": "code",
   "execution_count": 14,
   "metadata": {},
   "outputs": [
    {
     "name": "stdout",
     "output_type": "stream",
     "text": [
      "<class 'pandas.core.frame.DataFrame'>\n",
      "Int64Index: 9193 entries, 0 to 9192\n",
      "Data columns (total 88 columns):\n",
      "Report Number                     9193 non-null object\n",
      "Local Case Number_x               9193 non-null object\n",
      "Agency Name_x                     9193 non-null object\n",
      "ACRS Report Type_x                9193 non-null object\n",
      "Unnamed: 4                        0 non-null float64\n",
      "Crash Date                        9193 non-null object\n",
      "Crash Time                        9193 non-null object\n",
      "Hit/Run                           9193 non-null object\n",
      "Route Type_x                      8314 non-null object\n",
      "Mile Point                        8356 non-null float64\n",
      "Mile Point Direction              8318 non-null object\n",
      "Lane Direction                    8359 non-null object\n",
      "Lane Number                       9193 non-null int64\n",
      "Lane Type                         890 non-null object\n",
      "Number of Lanes                   9193 non-null int64\n",
      "Direction                         8356 non-null object\n",
      "Distance                          8536 non-null float64\n",
      "Distance Unit                     8359 non-null object\n",
      "Road Grade                        8282 non-null object\n",
      "NonTraffic                        9193 non-null object\n",
      "Road Name_x                       8359 non-null object\n",
      "Cross-Street Type_x               8311 non-null object\n",
      "Cross-Street Name_x               8359 non-null object\n",
      "Off-Road Description_x            834 non-null object\n",
      "Municipality_x                    1031 non-null object\n",
      "Related Non-Motorist_x            340 non-null object\n",
      "At Fault                          9193 non-null object\n",
      "Collision Type_x                  9167 non-null object\n",
      "Weather_x                         8493 non-null object\n",
      "Surface Condition_x               8125 non-null object\n",
      "Light_x                           9124 non-null object\n",
      "Traffic Control_x                 7777 non-null object\n",
      "Driver Substance Abuse_x          7783 non-null object\n",
      "Non-Motorist Substance Abuse_x    266 non-null object\n",
      "First Harmful Event               9155 non-null object\n",
      "Second Harmful Event              2765 non-null object\n",
      "Fixed Oject Struck                1406 non-null object\n",
      "Junction                          7158 non-null object\n",
      "Intersection Type                 5079 non-null object\n",
      "Intersection Area                 2876 non-null object\n",
      "Road Alignment                    8329 non-null object\n",
      "Road Condition                    8010 non-null object\n",
      "Road Division                     8256 non-null object\n",
      "Latitude_x                        9193 non-null float64\n",
      "Longitude_x                       9193 non-null float64\n",
      "Location_x                        9193 non-null object\n",
      "Local Case Number_y               9193 non-null object\n",
      "Agency Name_y                     9193 non-null object\n",
      "ACRS Report Type_y                9193 non-null object\n",
      "Crash Date/Time                   9193 non-null object\n",
      "Route Type_y                      8314 non-null object\n",
      "Road Name_y                       8359 non-null object\n",
      "Cross-Street Type_y               8311 non-null object\n",
      "Cross-Street Name_y               8359 non-null object\n",
      "Off-Road Description_y            834 non-null object\n",
      "Municipality_y                    1031 non-null object\n",
      "Related Non-Motorist_y            340 non-null object\n",
      "Collision Type_y                  9167 non-null object\n",
      "Weather_y                         8493 non-null object\n",
      "Surface Condition_y               8125 non-null object\n",
      "Light_y                           9124 non-null object\n",
      "Traffic Control_y                 7777 non-null object\n",
      "Driver Substance Abuse_y          7487 non-null object\n",
      "Non-Motorist Substance Abuse_y    266 non-null object\n",
      "Person ID                         9193 non-null object\n",
      "Driver At Fault                   9193 non-null object\n",
      "Injury Severity                   9193 non-null object\n",
      "Circumstance                      1778 non-null object\n",
      "Driver Distracted By              9193 non-null object\n",
      "Drivers License State             8757 non-null object\n",
      "Vehicle ID                        9193 non-null object\n",
      "Vehicle Damage Extent             9173 non-null object\n",
      "Vehicle First Impact Location     9178 non-null object\n",
      "Vehicle Second Impact Location    9171 non-null object\n",
      "Vehicle Body Type                 9056 non-null object\n",
      "Vehicle Movement                  9170 non-null object\n",
      "Vehicle Continuing Dir            9039 non-null object\n",
      "Vehicle Going Dir                 9039 non-null object\n",
      "Speed Limit                       9193 non-null int64\n",
      "Driverless Vehicle                9193 non-null object\n",
      "Parked Vehicle                    9193 non-null object\n",
      "Vehicle Year                      9193 non-null int64\n",
      "Vehicle Make                      9190 non-null object\n",
      "Vehicle Model                     9189 non-null object\n",
      "Equipment Problems                7087 non-null object\n",
      "Latitude_y                        9193 non-null float64\n",
      "Longitude_y                       9193 non-null float64\n",
      "Location_y                        9193 non-null object\n",
      "dtypes: float64(7), int64(4), object(77)\n",
      "memory usage: 6.2+ MB\n"
     ]
    }
   ],
   "source": [
    "merged.info()"
   ]
  },
  {
   "cell_type": "code",
   "execution_count": 15,
   "metadata": {},
   "outputs": [
    {
     "data": {
      "text/html": [
       "<div>\n",
       "<style scoped>\n",
       "    .dataframe tbody tr th:only-of-type {\n",
       "        vertical-align: middle;\n",
       "    }\n",
       "\n",
       "    .dataframe tbody tr th {\n",
       "        vertical-align: top;\n",
       "    }\n",
       "\n",
       "    .dataframe thead th {\n",
       "        text-align: right;\n",
       "    }\n",
       "</style>\n",
       "<table border=\"1\" class=\"dataframe\">\n",
       "  <thead>\n",
       "    <tr style=\"text-align: right;\">\n",
       "      <th></th>\n",
       "      <th>Report Number</th>\n",
       "      <th>Local Case Number_x</th>\n",
       "      <th>Agency Name_x</th>\n",
       "      <th>ACRS Report Type_x</th>\n",
       "      <th>Unnamed: 4</th>\n",
       "      <th>Crash Date</th>\n",
       "      <th>Crash Time</th>\n",
       "      <th>Hit/Run</th>\n",
       "      <th>Route Type_x</th>\n",
       "      <th>Mile Point</th>\n",
       "      <th>...</th>\n",
       "      <th>Speed Limit</th>\n",
       "      <th>Driverless Vehicle</th>\n",
       "      <th>Parked Vehicle</th>\n",
       "      <th>Vehicle Year</th>\n",
       "      <th>Vehicle Make</th>\n",
       "      <th>Vehicle Model</th>\n",
       "      <th>Equipment Problems</th>\n",
       "      <th>Latitude_y</th>\n",
       "      <th>Longitude_y</th>\n",
       "      <th>Location_y</th>\n",
       "    </tr>\n",
       "  </thead>\n",
       "  <tbody>\n",
       "    <tr>\n",
       "      <th>0</th>\n",
       "      <td>MCP21620024</td>\n",
       "      <td>17013193</td>\n",
       "      <td>Montgomery County Police</td>\n",
       "      <td>Injury Crash</td>\n",
       "      <td>NaN</td>\n",
       "      <td>3/13/2017</td>\n",
       "      <td>8:02:00 PM</td>\n",
       "      <td>No</td>\n",
       "      <td>Maryland (State)</td>\n",
       "      <td>20.50</td>\n",
       "      <td>...</td>\n",
       "      <td>35</td>\n",
       "      <td>No</td>\n",
       "      <td>No</td>\n",
       "      <td>2008</td>\n",
       "      <td>VOLKSWAGEN</td>\n",
       "      <td>PASSAT</td>\n",
       "      <td>NO MISUSE</td>\n",
       "      <td>39.226400</td>\n",
       "      <td>-77.069486</td>\n",
       "      <td>(39.22640027, -77.06948608)</td>\n",
       "    </tr>\n",
       "    <tr>\n",
       "      <th>1</th>\n",
       "      <td>MCP3018000B</td>\n",
       "      <td>17006820</td>\n",
       "      <td>Montgomery County Police</td>\n",
       "      <td>Property Damage Crash</td>\n",
       "      <td>NaN</td>\n",
       "      <td>2/8/2017</td>\n",
       "      <td>7:23:00 AM</td>\n",
       "      <td>No</td>\n",
       "      <td>Maryland (State)</td>\n",
       "      <td>6.42</td>\n",
       "      <td>...</td>\n",
       "      <td>45</td>\n",
       "      <td>No</td>\n",
       "      <td>No</td>\n",
       "      <td>2017</td>\n",
       "      <td>TOYTA</td>\n",
       "      <td>CAMRY</td>\n",
       "      <td>NO MISUSE</td>\n",
       "      <td>39.077262</td>\n",
       "      <td>-77.070747</td>\n",
       "      <td>(39.07726167, -77.07074667)</td>\n",
       "    </tr>\n",
       "    <tr>\n",
       "      <th>2</th>\n",
       "      <td>MCP2116003B</td>\n",
       "      <td>16001191</td>\n",
       "      <td>Montgomery County Police</td>\n",
       "      <td>Injury Crash</td>\n",
       "      <td>NaN</td>\n",
       "      <td>1/7/2016</td>\n",
       "      <td>3:56:00 PM</td>\n",
       "      <td>No</td>\n",
       "      <td>Maryland (State)</td>\n",
       "      <td>17.02</td>\n",
       "      <td>...</td>\n",
       "      <td>40</td>\n",
       "      <td>No</td>\n",
       "      <td>No</td>\n",
       "      <td>2005</td>\n",
       "      <td>HOND</td>\n",
       "      <td>TK</td>\n",
       "      <td>NO MISUSE</td>\n",
       "      <td>39.106307</td>\n",
       "      <td>-77.233205</td>\n",
       "      <td>(39.10630667, -77.233205)</td>\n",
       "    </tr>\n",
       "    <tr>\n",
       "      <th>3</th>\n",
       "      <td>MCP2116003B</td>\n",
       "      <td>16001191</td>\n",
       "      <td>Montgomery County Police</td>\n",
       "      <td>Injury Crash</td>\n",
       "      <td>NaN</td>\n",
       "      <td>1/7/2016</td>\n",
       "      <td>3:56:00 PM</td>\n",
       "      <td>No</td>\n",
       "      <td>Maryland (State)</td>\n",
       "      <td>17.02</td>\n",
       "      <td>...</td>\n",
       "      <td>40</td>\n",
       "      <td>No</td>\n",
       "      <td>No</td>\n",
       "      <td>2007</td>\n",
       "      <td>MERC</td>\n",
       "      <td>TK</td>\n",
       "      <td>NO MISUSE</td>\n",
       "      <td>39.106307</td>\n",
       "      <td>-77.233205</td>\n",
       "      <td>(39.10630667, -77.233205)</td>\n",
       "    </tr>\n",
       "    <tr>\n",
       "      <th>4</th>\n",
       "      <td>DD5502002F</td>\n",
       "      <td>16021995</td>\n",
       "      <td>Rockville Police Departme</td>\n",
       "      <td>Property Damage Crash</td>\n",
       "      <td>NaN</td>\n",
       "      <td>5/3/2016</td>\n",
       "      <td>12:00:00 PM</td>\n",
       "      <td>Yes</td>\n",
       "      <td>Municipality</td>\n",
       "      <td>0.53</td>\n",
       "      <td>...</td>\n",
       "      <td>25</td>\n",
       "      <td>No</td>\n",
       "      <td>No</td>\n",
       "      <td>0</td>\n",
       "      <td>UNKNOWN</td>\n",
       "      <td>UNKNOWN</td>\n",
       "      <td>NaN</td>\n",
       "      <td>39.072949</td>\n",
       "      <td>-77.145583</td>\n",
       "      <td>(39.07294876, -77.14558303)</td>\n",
       "    </tr>\n",
       "  </tbody>\n",
       "</table>\n",
       "<p>5 rows × 88 columns</p>\n",
       "</div>"
      ],
      "text/plain": [
       "  Report Number Local Case Number_x              Agency Name_x  \\\n",
       "0   MCP21620024            17013193   Montgomery County Police   \n",
       "1   MCP3018000B            17006820   Montgomery County Police   \n",
       "2   MCP2116003B            16001191   Montgomery County Police   \n",
       "3   MCP2116003B            16001191   Montgomery County Police   \n",
       "4    DD5502002F            16021995  Rockville Police Departme   \n",
       "\n",
       "      ACRS Report Type_x  Unnamed: 4 Crash Date   Crash Time Hit/Run  \\\n",
       "0           Injury Crash         NaN  3/13/2017   8:02:00 PM      No   \n",
       "1  Property Damage Crash         NaN   2/8/2017   7:23:00 AM      No   \n",
       "2           Injury Crash         NaN   1/7/2016   3:56:00 PM      No   \n",
       "3           Injury Crash         NaN   1/7/2016   3:56:00 PM      No   \n",
       "4  Property Damage Crash         NaN   5/3/2016  12:00:00 PM     Yes   \n",
       "\n",
       "       Route Type_x  Mile Point  ... Speed Limit Driverless Vehicle  \\\n",
       "0  Maryland (State)       20.50  ...          35                 No   \n",
       "1  Maryland (State)        6.42  ...          45                 No   \n",
       "2  Maryland (State)       17.02  ...          40                 No   \n",
       "3  Maryland (State)       17.02  ...          40                 No   \n",
       "4      Municipality        0.53  ...          25                 No   \n",
       "\n",
       "   Parked Vehicle Vehicle Year  Vehicle Make Vehicle Model  \\\n",
       "0              No         2008    VOLKSWAGEN        PASSAT   \n",
       "1              No         2017         TOYTA         CAMRY   \n",
       "2              No         2005          HOND            TK   \n",
       "3              No         2007          MERC            TK   \n",
       "4              No            0       UNKNOWN       UNKNOWN   \n",
       "\n",
       "   Equipment Problems Latitude_y Longitude_y                   Location_y  \n",
       "0           NO MISUSE  39.226400  -77.069486  (39.22640027, -77.06948608)  \n",
       "1           NO MISUSE  39.077262  -77.070747  (39.07726167, -77.07074667)  \n",
       "2           NO MISUSE  39.106307  -77.233205    (39.10630667, -77.233205)  \n",
       "3           NO MISUSE  39.106307  -77.233205    (39.10630667, -77.233205)  \n",
       "4                 NaN  39.072949  -77.145583  (39.07294876, -77.14558303)  \n",
       "\n",
       "[5 rows x 88 columns]"
      ]
     },
     "execution_count": 15,
     "metadata": {},
     "output_type": "execute_result"
    }
   ],
   "source": [
    "merged.head(5)"
   ]
  },
  {
   "cell_type": "code",
   "execution_count": 16,
   "metadata": {},
   "outputs": [
    {
     "data": {
      "text/plain": [
       "MCP15800085    7\n",
       "MCP1022004Q    5\n",
       "MCP2919003Q    5\n",
       "MCP28670045    5\n",
       "MCP2546002D    5\n",
       "MCP2813007L    5\n",
       "MCP137800PF    5\n",
       "MCP2965002D    5\n",
       "MCP28780024    5\n",
       "MCP1182002Y    5\n",
       "MCP2504001M    5\n",
       "MCP2785000G    5\n",
       "MCP2347000M    5\n",
       "MCP1128004C    5\n",
       "EJ7858004J     5\n",
       "Name: Report Number, dtype: int64"
      ]
     },
     "execution_count": 16,
     "metadata": {},
     "output_type": "execute_result"
    }
   ],
   "source": [
    "merged['Report Number'].value_counts().head(15)"
   ]
  },
  {
   "cell_type": "code",
   "execution_count": 17,
   "metadata": {},
   "outputs": [
    {
     "data": {
      "text/plain": [
       "Property Damage Crash    5595\n",
       "Injury Crash             3351\n",
       "Fatal Crash               247\n",
       "Name: ACRS Report Type_x, dtype: int64"
      ]
     },
     "execution_count": 17,
     "metadata": {},
     "output_type": "execute_result"
    }
   ],
   "source": [
    "merged[\"ACRS Report Type_x\"].value_counts()"
   ]
  },
  {
   "cell_type": "markdown",
   "metadata": {},
   "source": [
    "## For those duplicated columns and columns with lots of null values, I would drop them. "
   ]
  },
  {
   "cell_type": "code",
   "execution_count": 18,
   "metadata": {},
   "outputs": [],
   "source": [
    "merged1 = merged.drop(columns =[\"Light_y\",'Surface Condition_y','Non-Motorist Substance Abuse_y','Location_y','Collision Type_y','Driver Substance Abuse_y','Municipality_y','Road Name_y','Traffic Control_y','Weather_y','Related Non-Motorist_y','Local Case Number_y','Road Name_x','Vehicle ID','Road Name_y','Unnamed: 4','Road Name_x','Cross-Street Name_x','Cross-Street Name_y','Crash Date/Time','ACRS Report Type_y','Local Case Number_x','Agency Name_y','Route Type_y','Cross-Street Type_y','Off-Road Description_y','Latitude_y','Longitude_y'])"
   ]
  },
  {
   "cell_type": "code",
   "execution_count": 19,
   "metadata": {},
   "outputs": [
    {
     "data": {
      "text/plain": [
       "Report Number                        0\n",
       "Agency Name_x                        0\n",
       "ACRS Report Type_x                   0\n",
       "Crash Date                           0\n",
       "Crash Time                           0\n",
       "Hit/Run                              0\n",
       "Route Type_x                       879\n",
       "Mile Point                         837\n",
       "Mile Point Direction               875\n",
       "Lane Direction                     834\n",
       "Lane Number                          0\n",
       "Lane Type                         8303\n",
       "Number of Lanes                      0\n",
       "Direction                          837\n",
       "Distance                           657\n",
       "Distance Unit                      834\n",
       "Road Grade                         911\n",
       "NonTraffic                           0\n",
       "Cross-Street Type_x                882\n",
       "Off-Road Description_x            8359\n",
       "Municipality_x                    8162\n",
       "Related Non-Motorist_x            8853\n",
       "At Fault                             0\n",
       "Collision Type_x                    26\n",
       "Weather_x                          700\n",
       "Surface Condition_x               1068\n",
       "Light_x                             69\n",
       "Traffic Control_x                 1416\n",
       "Driver Substance Abuse_x          1410\n",
       "Non-Motorist Substance Abuse_x    8927\n",
       "                                  ... \n",
       "Fixed Oject Struck                7787\n",
       "Junction                          2035\n",
       "Intersection Type                 4114\n",
       "Intersection Area                 6317\n",
       "Road Alignment                     864\n",
       "Road Condition                    1183\n",
       "Road Division                      937\n",
       "Latitude_x                           0\n",
       "Longitude_x                          0\n",
       "Location_x                           0\n",
       "Person ID                            0\n",
       "Driver At Fault                      0\n",
       "Injury Severity                      0\n",
       "Circumstance                      7415\n",
       "Driver Distracted By                 0\n",
       "Drivers License State              436\n",
       "Vehicle Damage Extent               20\n",
       "Vehicle First Impact Location       15\n",
       "Vehicle Second Impact Location      22\n",
       "Vehicle Body Type                  137\n",
       "Vehicle Movement                    23\n",
       "Vehicle Continuing Dir             154\n",
       "Vehicle Going Dir                  154\n",
       "Speed Limit                          0\n",
       "Driverless Vehicle                   0\n",
       "Parked Vehicle                       0\n",
       "Vehicle Year                         0\n",
       "Vehicle Make                         3\n",
       "Vehicle Model                        4\n",
       "Equipment Problems                2106\n",
       "Length: 62, dtype: int64"
      ]
     },
     "execution_count": 19,
     "metadata": {},
     "output_type": "execute_result"
    }
   ],
   "source": [
    "# A few more data checks\n",
    "merged1.isnull().sum()"
   ]
  },
  {
   "cell_type": "code",
   "execution_count": 20,
   "metadata": {},
   "outputs": [
    {
     "name": "stdout",
     "output_type": "stream",
     "text": [
      "<class 'pandas.core.frame.DataFrame'>\n",
      "Int64Index: 9193 entries, 0 to 9192\n",
      "Data columns (total 62 columns):\n",
      "Report Number                     9193 non-null object\n",
      "Agency Name_x                     9193 non-null object\n",
      "ACRS Report Type_x                9193 non-null object\n",
      "Crash Date                        9193 non-null object\n",
      "Crash Time                        9193 non-null object\n",
      "Hit/Run                           9193 non-null object\n",
      "Route Type_x                      8314 non-null object\n",
      "Mile Point                        8356 non-null float64\n",
      "Mile Point Direction              8318 non-null object\n",
      "Lane Direction                    8359 non-null object\n",
      "Lane Number                       9193 non-null int64\n",
      "Lane Type                         890 non-null object\n",
      "Number of Lanes                   9193 non-null int64\n",
      "Direction                         8356 non-null object\n",
      "Distance                          8536 non-null float64\n",
      "Distance Unit                     8359 non-null object\n",
      "Road Grade                        8282 non-null object\n",
      "NonTraffic                        9193 non-null object\n",
      "Cross-Street Type_x               8311 non-null object\n",
      "Off-Road Description_x            834 non-null object\n",
      "Municipality_x                    1031 non-null object\n",
      "Related Non-Motorist_x            340 non-null object\n",
      "At Fault                          9193 non-null object\n",
      "Collision Type_x                  9167 non-null object\n",
      "Weather_x                         8493 non-null object\n",
      "Surface Condition_x               8125 non-null object\n",
      "Light_x                           9124 non-null object\n",
      "Traffic Control_x                 7777 non-null object\n",
      "Driver Substance Abuse_x          7783 non-null object\n",
      "Non-Motorist Substance Abuse_x    266 non-null object\n",
      "First Harmful Event               9155 non-null object\n",
      "Second Harmful Event              2765 non-null object\n",
      "Fixed Oject Struck                1406 non-null object\n",
      "Junction                          7158 non-null object\n",
      "Intersection Type                 5079 non-null object\n",
      "Intersection Area                 2876 non-null object\n",
      "Road Alignment                    8329 non-null object\n",
      "Road Condition                    8010 non-null object\n",
      "Road Division                     8256 non-null object\n",
      "Latitude_x                        9193 non-null float64\n",
      "Longitude_x                       9193 non-null float64\n",
      "Location_x                        9193 non-null object\n",
      "Person ID                         9193 non-null object\n",
      "Driver At Fault                   9193 non-null object\n",
      "Injury Severity                   9193 non-null object\n",
      "Circumstance                      1778 non-null object\n",
      "Driver Distracted By              9193 non-null object\n",
      "Drivers License State             8757 non-null object\n",
      "Vehicle Damage Extent             9173 non-null object\n",
      "Vehicle First Impact Location     9178 non-null object\n",
      "Vehicle Second Impact Location    9171 non-null object\n",
      "Vehicle Body Type                 9056 non-null object\n",
      "Vehicle Movement                  9170 non-null object\n",
      "Vehicle Continuing Dir            9039 non-null object\n",
      "Vehicle Going Dir                 9039 non-null object\n",
      "Speed Limit                       9193 non-null int64\n",
      "Driverless Vehicle                9193 non-null object\n",
      "Parked Vehicle                    9193 non-null object\n",
      "Vehicle Year                      9193 non-null int64\n",
      "Vehicle Make                      9190 non-null object\n",
      "Vehicle Model                     9189 non-null object\n",
      "Equipment Problems                7087 non-null object\n",
      "dtypes: float64(4), int64(4), object(54)\n",
      "memory usage: 4.4+ MB\n"
     ]
    }
   ],
   "source": [
    "merged1.info()"
   ]
  },
  {
   "cell_type": "code",
   "execution_count": 21,
   "metadata": {},
   "outputs": [],
   "source": [
    "New = merged1.drop(columns =[\"Off-Road Description_x\",'Person ID','Municipality_x','Intersection Area','Lane Type','Circumstance'])"
   ]
  },
  {
   "cell_type": "code",
   "execution_count": 22,
   "metadata": {
    "scrolled": true
   },
   "outputs": [
    {
     "name": "stdout",
     "output_type": "stream",
     "text": [
      "<class 'pandas.core.frame.DataFrame'>\n",
      "Int64Index: 9193 entries, 0 to 9192\n",
      "Data columns (total 56 columns):\n",
      "Report Number                     9193 non-null object\n",
      "Agency Name_x                     9193 non-null object\n",
      "ACRS Report Type_x                9193 non-null object\n",
      "Crash Date                        9193 non-null object\n",
      "Crash Time                        9193 non-null object\n",
      "Hit/Run                           9193 non-null object\n",
      "Route Type_x                      8314 non-null object\n",
      "Mile Point                        8356 non-null float64\n",
      "Mile Point Direction              8318 non-null object\n",
      "Lane Direction                    8359 non-null object\n",
      "Lane Number                       9193 non-null int64\n",
      "Number of Lanes                   9193 non-null int64\n",
      "Direction                         8356 non-null object\n",
      "Distance                          8536 non-null float64\n",
      "Distance Unit                     8359 non-null object\n",
      "Road Grade                        8282 non-null object\n",
      "NonTraffic                        9193 non-null object\n",
      "Cross-Street Type_x               8311 non-null object\n",
      "Related Non-Motorist_x            340 non-null object\n",
      "At Fault                          9193 non-null object\n",
      "Collision Type_x                  9167 non-null object\n",
      "Weather_x                         8493 non-null object\n",
      "Surface Condition_x               8125 non-null object\n",
      "Light_x                           9124 non-null object\n",
      "Traffic Control_x                 7777 non-null object\n",
      "Driver Substance Abuse_x          7783 non-null object\n",
      "Non-Motorist Substance Abuse_x    266 non-null object\n",
      "First Harmful Event               9155 non-null object\n",
      "Second Harmful Event              2765 non-null object\n",
      "Fixed Oject Struck                1406 non-null object\n",
      "Junction                          7158 non-null object\n",
      "Intersection Type                 5079 non-null object\n",
      "Road Alignment                    8329 non-null object\n",
      "Road Condition                    8010 non-null object\n",
      "Road Division                     8256 non-null object\n",
      "Latitude_x                        9193 non-null float64\n",
      "Longitude_x                       9193 non-null float64\n",
      "Location_x                        9193 non-null object\n",
      "Driver At Fault                   9193 non-null object\n",
      "Injury Severity                   9193 non-null object\n",
      "Driver Distracted By              9193 non-null object\n",
      "Drivers License State             8757 non-null object\n",
      "Vehicle Damage Extent             9173 non-null object\n",
      "Vehicle First Impact Location     9178 non-null object\n",
      "Vehicle Second Impact Location    9171 non-null object\n",
      "Vehicle Body Type                 9056 non-null object\n",
      "Vehicle Movement                  9170 non-null object\n",
      "Vehicle Continuing Dir            9039 non-null object\n",
      "Vehicle Going Dir                 9039 non-null object\n",
      "Speed Limit                       9193 non-null int64\n",
      "Driverless Vehicle                9193 non-null object\n",
      "Parked Vehicle                    9193 non-null object\n",
      "Vehicle Year                      9193 non-null int64\n",
      "Vehicle Make                      9190 non-null object\n",
      "Vehicle Model                     9189 non-null object\n",
      "Equipment Problems                7087 non-null object\n",
      "dtypes: float64(4), int64(4), object(48)\n",
      "memory usage: 4.0+ MB\n"
     ]
    }
   ],
   "source": [
    "New.info()"
   ]
  },
  {
   "cell_type": "code",
   "execution_count": 23,
   "metadata": {},
   "outputs": [],
   "source": [
    "New.fillna('UNKNOWN', inplace=True)"
   ]
  },
  {
   "cell_type": "code",
   "execution_count": 24,
   "metadata": {},
   "outputs": [
    {
     "data": {
      "text/plain": [
       "UNKNOWN                 8975\n",
       "NONE DETECTED            201\n",
       "ALCOHOL PRESENT           12\n",
       "ALCOHOL CONTRIBUTED        3\n",
       "N/A, NONE DETECTED         1\n",
       "ILLEGAL DRUG PRESENT       1\n",
       "Name: Non-Motorist Substance Abuse_x, dtype: int64"
      ]
     },
     "execution_count": 24,
     "metadata": {},
     "output_type": "execute_result"
    }
   ],
   "source": [
    "# explore each column to check missing values and the different catagories\n",
    "New['Non-Motorist Substance Abuse_x'].value_counts()"
   ]
  },
  {
   "cell_type": "code",
   "execution_count": 27,
   "metadata": {},
   "outputs": [
    {
     "data": {
      "text/plain": [
       "1    9177\n",
       "2      16\n",
       "Name: Non-Motorist Substance Abuse_x, dtype: int64"
      ]
     },
     "execution_count": 27,
     "metadata": {},
     "output_type": "execute_result"
    }
   ],
   "source": [
    "encoding_substance = {\"Non-Motorist Substance Abuse_x\": \n",
    "                            {\"UNKNOWN\": 1,\n",
    "                             \"NONE DETECTED\": 1,\n",
    "                             \"ALCOHOL PRESENT\": 2,\n",
    "                             \"ALCOHOL CONTRIBUTED\": 2,\n",
    "                             \"N/A, NONE DETECTED\": 1,\n",
    "                             \"OTHER\": 1,\n",
    "                             \"ILLEGAL DRUG CONTRIBUTED\":2,\n",
    "                             \"ILLEGAL DRUG PRESENT\": 2\n",
    "                             }}\n",
    "New.replace(encoding_substance, inplace=True)\n",
    "New['Non-Motorist Substance Abuse_x'].value_counts()"
   ]
  },
  {
   "cell_type": "code",
   "execution_count": 28,
   "metadata": {},
   "outputs": [
    {
     "data": {
      "text/plain": [
       "NO APPARENT INJURY          7349\n",
       "POSSIBLE INJURY              947\n",
       "SUSPECTED MINOR INJURY       730\n",
       "FATAL INJURY                  86\n",
       "SUSPECTED SERIOUS INJURY      81\n",
       "Name: Injury Severity, dtype: int64"
      ]
     },
     "execution_count": 28,
     "metadata": {},
     "output_type": "execute_result"
    }
   ],
   "source": [
    "# Here Injury Severity meas the injury to a Driver\n",
    "New['Injury Severity'].value_counts()"
   ]
  },
  {
   "cell_type": "code",
   "execution_count": 29,
   "metadata": {
    "scrolled": true
   },
   "outputs": [
    {
     "data": {
      "text/plain": [
       "PASSENGER CAR                                                6375\n",
       "(SPORT) UTILITY VEHICLE                                       834\n",
       "PICKUP TRUCK                                                  347\n",
       "VAN                                                           258\n",
       "TRANSIT BUS                                                   190\n",
       "UNKNOWN                                                       183\n",
       "SCHOOL BUS                                                    155\n",
       "OTHER LIGHT TRUCKS (10,000LBS (4,536KG) OR LESS)              113\n",
       "POLICE VEHICLE/NON EMERGENCY                                  110\n",
       "OTHER                                                          94\n",
       "MEDIUM/HEAVY TRUCKS 3 AXLES (OVER 10,000LBS (4,536KG))         84\n",
       "POLICE VEHICLE/EMERGENCY                                       83\n",
       "CARGO VAN/LIGHT TRUCK 2 AXLES (OVER 10,000LBS (4,536 KG))      83\n",
       "MOTORCYCLE                                                     63\n",
       "STATION WAGON                                                  46\n",
       "TRUCK TRACTOR                                                  33\n",
       "FIRE VEHICLE/EMERGENCY                                         25\n",
       "AMBULANCE/EMERGENCY                                            22\n",
       "OTHER BUS                                                      20\n",
       "ALL TERRAIN VEHICLE (ATV)                                      14\n",
       "FIRE VEHICLE/NON EMERGENCY                                     13\n",
       "RECREATIONAL VEHICLE                                           13\n",
       "MOPED                                                           9\n",
       "AMBULANCE/NON EMERGENCY                                         9\n",
       "SNOWMOBILE                                                      8\n",
       "LOW SPEED VEHICLE                                               4\n",
       "AUTOCYCLE                                                       2\n",
       "FARM VEHICLE                                                    2\n",
       "CROSS COUNTRY BUS                                               1\n",
       "Name: Vehicle Body Type, dtype: int64"
      ]
     },
     "execution_count": 29,
     "metadata": {},
     "output_type": "execute_result"
    }
   ],
   "source": [
    "New['Vehicle Body Type'].value_counts()"
   ]
  },
  {
   "cell_type": "code",
   "execution_count": 30,
   "metadata": {},
   "outputs": [
    {
     "data": {
      "text/plain": [
       "No         9146\n",
       "Unknown      47\n",
       "Name: Driverless Vehicle, dtype: int64"
      ]
     },
     "execution_count": 30,
     "metadata": {},
     "output_type": "execute_result"
    }
   ],
   "source": [
    "New['Driverless Vehicle'].value_counts()"
   ]
  },
  {
   "cell_type": "code",
   "execution_count": 31,
   "metadata": {},
   "outputs": [
    {
     "data": {
      "text/plain": [
       "NO CONTROLS                3583\n",
       "TRAFFIC SIGNAL             3133\n",
       "UNKNOWN                    1428\n",
       "STOP SIGN                   685\n",
       "FLASHING TRAFFIC SIGNAL     128\n",
       "OTHER                       114\n",
       "YIELD SIGN                   92\n",
       "PERSON                       17\n",
       "WARNING SIGN                 12\n",
       "RAILWAY CROSSING DEVICE       1\n",
       "Name: Traffic Control_x, dtype: int64"
      ]
     },
     "execution_count": 31,
     "metadata": {},
     "output_type": "execute_result"
    }
   ],
   "source": [
    "New['Traffic Control_x'].value_counts()"
   ]
  },
  {
   "cell_type": "code",
   "execution_count": 32,
   "metadata": {},
   "outputs": [
    {
     "data": {
      "text/plain": [
       "1     3583\n",
       "3     3133\n",
       "7     1428\n",
       "5      685\n",
       "2      128\n",
       "6      114\n",
       "8       92\n",
       "10      17\n",
       "4       12\n",
       "9        1\n",
       "Name: Traffic Control_x, dtype: int64"
      ]
     },
     "execution_count": 32,
     "metadata": {},
     "output_type": "execute_result"
    }
   ],
   "source": [
    "encoding_control = {\"Traffic Control_x\": \n",
    "                            {\"NO CONTROLS\": 1,\n",
    "                             \"FLASHING TRAFFIC SIGNAL\": 2,\n",
    "                             \"TRAFFIC SIGNAL\": 3,\n",
    "                             \"WARNING SIGN\": 4,\n",
    "                             \"STOP SIGN\": 5,\n",
    "                             \"OTHER\": 6,\n",
    "                             \"UNKNOWN\": 7,\n",
    "                             \"YIELD SIGN\":8,\n",
    "                             \"RAILWAY CROSSING DEVICE\": 9,\n",
    "                             \"PERSON\": 10,\n",
    "                             'SCHOOL ZONE SIGN DEVICE': 4,\n",
    "                             }}\n",
    "New.replace(encoding_control, inplace=True)\n",
    "New['Traffic Control_x'].value_counts()"
   ]
  },
  {
   "cell_type": "code",
   "execution_count": 33,
   "metadata": {},
   "outputs": [
    {
     "data": {
      "text/plain": [
       "No     9039\n",
       "Yes     154\n",
       "Name: Parked Vehicle, dtype: int64"
      ]
     },
     "execution_count": 33,
     "metadata": {},
     "output_type": "execute_result"
    }
   ],
   "source": [
    "New['Parked Vehicle'].value_counts()"
   ]
  },
  {
   "cell_type": "code",
   "execution_count": 34,
   "metadata": {},
   "outputs": [
    {
     "data": {
      "text/plain": [
       "1    9039\n",
       "2     154\n",
       "Name: Parked Vehicle, dtype: int64"
      ]
     },
     "execution_count": 34,
     "metadata": {},
     "output_type": "execute_result"
    }
   ],
   "source": [
    "encoding_parked = {\"Parked Vehicle\": \n",
    "                            {\"No\": 1,\n",
    "                             \"Yes\": 2,\n",
    "                             }}\n",
    "New.replace(encoding_parked, inplace=True)\n",
    "New['Parked Vehicle'].value_counts()"
   ]
  },
  {
   "cell_type": "code",
   "execution_count": 35,
   "metadata": {},
   "outputs": [
    {
     "data": {
      "text/plain": [
       "INTERSECTION              3323\n",
       "NON INTERSECTION          2197\n",
       "UNKNOWN                   2038\n",
       "INTERSECTION RELATED      1242\n",
       "COMMERCIAL DRIVEWAY        123\n",
       "INTERCHANGE RELATED         91\n",
       "OTHER                       83\n",
       "CROSSOVER RELATED           44\n",
       "RESIDENTIAL DRIVEWAY        31\n",
       "OTHER DRIVEWAY              20\n",
       "RAILWAY GRADE CROSSING       1\n",
       "Name: Junction, dtype: int64"
      ]
     },
     "execution_count": 35,
     "metadata": {},
     "output_type": "execute_result"
    }
   ],
   "source": [
    "New['Junction'].value_counts()"
   ]
  },
  {
   "cell_type": "code",
   "execution_count": 164,
   "metadata": {},
   "outputs": [
    {
     "data": {
      "text/plain": [
       "1    4565\n",
       "2    2197\n",
       "4    2121\n",
       "3     174\n",
       "5     136\n",
       "Name: Junction, dtype: int64"
      ]
     },
     "execution_count": 164,
     "metadata": {},
     "output_type": "execute_result"
    }
   ],
   "source": [
    "encoding_Junction = {\"Junction\": \n",
    "                            {\"INTERSECTION\": 1,\n",
    "                             \"NON INTERSECTION\": 2,\n",
    "                             \"INTERSECTION RELATED\": 1,\n",
    "                             \"RESIDENTIAL DRIVEWAY\": 3,\n",
    "                             \"COMMERCIAL DRIVEWAY\": 3,\n",
    "                             \"INTERCHANGE RELATED\": 5,\n",
    "                             \"OTHER\": 4,\n",
    "                            \"UNKNOWN\": 4,\n",
    "                             \"CROSSOVER RELATED\": 5,\n",
    "                             \"OTHER DRIVEWAY\": 3,\n",
    "                             \"RAILWAY GRADE CROSSING\":5,\n",
    "                             \"ALLEY\": 4,\n",
    "                             }}\n",
    "New.replace(encoding_Junction, inplace=True)\n",
    "New['Junction'].value_counts()"
   ]
  },
  {
   "cell_type": "code",
   "execution_count": 37,
   "metadata": {},
   "outputs": [
    {
     "data": {
      "text/plain": [
       "35    2602\n",
       "40    1910\n",
       "25    1258\n",
       "30    1239\n",
       "45     703\n",
       "15     294\n",
       "0      286\n",
       "50     281\n",
       "5      206\n",
       "55     191\n",
       "10     159\n",
       "20      58\n",
       "60       5\n",
       "65       1\n",
       "Name: Speed Limit, dtype: int64"
      ]
     },
     "execution_count": 37,
     "metadata": {},
     "output_type": "execute_result"
    }
   ],
   "source": [
    "New['Speed Limit'].value_counts()"
   ]
  },
  {
   "cell_type": "code",
   "execution_count": 38,
   "metadata": {},
   "outputs": [
    {
     "data": {
      "text/plain": [
       "SAME DIR REAR END               2999\n",
       "STRAIGHT MOVEMENT ANGLE         1620\n",
       "OTHER                            966\n",
       "SINGLE VEHICLE                   868\n",
       "SAME DIRECTION SIDESWIPE         832\n",
       "HEAD ON LEFT TURN                753\n",
       "HEAD ON                          216\n",
       "SAME DIRECTION LEFT TURN         197\n",
       "SAME DIRECTION RIGHT TURN        186\n",
       "OPPOSITE DIRECTION SIDESWIPE     134\n",
       "ANGLE MEETS LEFT TURN            111\n",
       "UNKNOWN                           68\n",
       "ANGLE MEETS LEFT HEAD ON          53\n",
       "ANGLE MEETS RIGHT TURN            52\n",
       "SAME DIR REND RIGHT TURN          48\n",
       "SAME DIR REND LEFT TURN           38\n",
       "SAME DIR BOTH LEFT TURN           32\n",
       "OPPOSITE DIR BOTH LEFT TURN       20\n",
       "Name: Collision Type_x, dtype: int64"
      ]
     },
     "execution_count": 38,
     "metadata": {},
     "output_type": "execute_result"
    }
   ],
   "source": [
    "New['Collision Type_x'].value_counts()"
   ]
  },
  {
   "cell_type": "markdown",
   "metadata": {},
   "source": [
    "df = New.groupby(['Collision Type_x']).size().reset_index(name='counts')\n",
    "\n",
    "fig, ax = plt.subplots(figsize=(10,6))\n",
    "\n",
    "sns.barplot(x ='Collision Type_x',\n",
    "            y='counts',\n",
    "            ax=ax,\n",
    "            data=df)\n",
    "ax.set_title('Collision Type', fontsize=18, position=(0.5,1.05))"
   ]
  },
  {
   "cell_type": "code",
   "execution_count": 39,
   "metadata": {},
   "outputs": [
    {
     "data": {
      "text/plain": [
       "5     2999\n",
       "2     1620\n",
       "9     1034\n",
       "1      868\n",
       "10     832\n",
       "4      753\n",
       "3      216\n",
       "7      197\n",
       "11     186\n",
       "12     134\n",
       "13     111\n",
       "8       53\n",
       "14      52\n",
       "6       48\n",
       "15      38\n",
       "16      32\n",
       "17      20\n",
       "Name: Collision Type_x, dtype: int64"
      ]
     },
     "execution_count": 39,
     "metadata": {},
     "output_type": "execute_result"
    }
   ],
   "source": [
    "encoding_CollisionType = {\"Collision Type_x\": \n",
    "                            {\"SINGLE VEHICLE\": 1,\n",
    "                             \"STRAIGHT MOVEMENT ANGLE\": 2,\n",
    "                             \"HEAD ON\": 3,\n",
    "                             \"HEAD ON LEFT TURN\": 4,\n",
    "                             \"SAME DIR REAR END\": 5,\n",
    "                             \"SAME DIR REND RIGHT TURN\": 6,\n",
    "                             \"SAME DIRECTION LEFT TURN\": 7,\n",
    "                             \"ANGLE MEETS LEFT HEAD ON\": 8,\n",
    "                             \"OTHER\": 9,\n",
    "                             \"SAME DIRECTION SIDESWIPE\": 10,\n",
    "                             \"SAME DIRECTION RIGHT TURN\": 11,\n",
    "                             \"OPPOSITE DIRECTION SIDESWIPE\":12,\n",
    "                             \"ANGLE MEETS LEFT TURN\": 13,\n",
    "                             \"ANGLE MEETS RIGHT TURN\": 14,\n",
    "                             \"UNKNOWN\": 9, \n",
    "                             \"SAME DIR REND LEFT TURN\": 15,          \n",
    "                            \"SAME DIR BOTH LEFT TURN\":16,\n",
    "                            \"OPPOSITE DIR BOTH LEFT TURN\": 17\n",
    "                             }}\n",
    "New.replace(encoding_CollisionType, inplace=True)\n",
    "New['Collision Type_x'].value_counts()"
   ]
  },
  {
   "cell_type": "code",
   "execution_count": 40,
   "metadata": {},
   "outputs": [
    {
     "data": {
      "text/plain": [
       "NONE DETECTED                                5899\n",
       "UNKNOWN                                      1699\n",
       "NONE DETECTED, UNKNOWN                        581\n",
       "N/A, NONE DETECTED                            387\n",
       "ALCOHOL PRESENT, NONE DETECTED                158\n",
       "N/A, UNKNOWN                                  119\n",
       "ALCOHOL PRESENT                               114\n",
       "ALCOHOL PRESENT, N/A                           52\n",
       "ALCOHOL CONTRIBUTED                            44\n",
       "ALCOHOL CONTRIBUTED, NONE DETECTED             39\n",
       "ILLEGAL DRUG PRESENT, NONE DETECTED            21\n",
       "ALCOHOL CONTRIBUTED, N/A                       14\n",
       "ALCOHOL PRESENT, N/A, NONE DETECTED            11\n",
       "COMBINED SUBSTANCE PRESENT, NONE DETECTED       6\n",
       "MEDICATION CONTRIBUTED, NONE DETECTED           6\n",
       "ALCOHOL PRESENT, UNKNOWN                        6\n",
       "ILLEGAL DRUG CONTRIBUTED, NONE DETECTED         5\n",
       "MEDICATION PRESENT, NONE DETECTED               4\n",
       "COMBINED SUBSTANCE PRESENT, N/A                 4\n",
       "N/A, NONE DETECTED, UNKNOWN                     4\n",
       "MEDICATION PRESENT                              4\n",
       "ILLEGAL DRUG CONTRIBUTED                        3\n",
       "COMBINATION CONTRIBUTED                         3\n",
       "ILLEGAL DRUG PRESENT                            3\n",
       "ILLEGAL DRUG PRESENT, N/A                       2\n",
       "NONE DETECTED, OTHER                            2\n",
       "COMBINATION CONTRIBUTED, NONE DETECTED          2\n",
       "COMBINED SUBSTANCE PRESENT                      1\n",
       "Name: Driver Substance Abuse_x, dtype: int64"
      ]
     },
     "execution_count": 40,
     "metadata": {},
     "output_type": "execute_result"
    }
   ],
   "source": [
    "New['Driver Substance Abuse_x'].value_counts() "
   ]
  },
  {
   "cell_type": "code",
   "execution_count": 41,
   "metadata": {},
   "outputs": [
    {
     "data": {
      "text/plain": [
       "1    8691\n",
       "2     443\n",
       "3      34\n",
       "4      25\n",
       "Name: Driver Substance Abuse_x, dtype: int64"
      ]
     },
     "execution_count": 41,
     "metadata": {},
     "output_type": "execute_result"
    }
   ],
   "source": [
    "encoding_DriverAbuse = {\"Driver Substance Abuse_x\": \n",
    "                            {\"NONE DETECTED\": 1,\n",
    "                             \"UNKNOWN\": 1,\n",
    "                             \"ALCOHOL PRESENT\": 2,\n",
    "                             \"NONE DETECTED, UNKNOWN\":1,\n",
    "                            \"N/A, NONE DETECTED\":1,\n",
    "                            \"ALCOHOL PRESENT, NONE DETECTED\": 2,\n",
    "                            \"N/A, UNKNOWN\":1,   \n",
    "                            \"ILLEGAL DRUG CONTRIBUTED, NONE DETECTED\": 3,\n",
    "                            \"ALCOHOL PRESENT, N/A\":2,   \n",
    "                            \"ALCOHOL CONTRIBUTED\": 2,   \n",
    "                            \"ALCOHOL CONTRIBUTED, NONE DETECTED\": 2,\n",
    "                            \"ALCOHOL CONTRIBUTED, N/A\": 2,    \n",
    "                            \"ILLEGAL DRUG PRESENT, NONE DETECTED\": 3,\n",
    "                            \"ILLEGAL DRUG PRESENT, N/A\": 3,\n",
    "                            \"ILLEGAL DRUG PRESENT\":  3,\n",
    "                            \"MEDICATION CONTRIBUTED\":2,\n",
    "                            \"ALCOHOL PRESENT, N/A, NONE DETECTED\": 4, \n",
    "                            \"N/A, NONE DETECTED, UNKNOWN\": 1,  \n",
    "                            \"MEDICATION PRESENT, NONE DETECTED\": 4,\n",
    "                            \"MEDICATION PRESENT, N/A, UNKNOWN\":4,            \n",
    "                            \"OTHER\":1,                            \n",
    "                             \"MEDICATION PRESENT, N/A\":4,\n",
    "                            \"MEDICATION PRESENT\": 4,\n",
    "                            \"MEDICATION CONTRIBUTED, N/A\": 4,  \n",
    "                            \"COMBINED SUBSTANCE PRESENT, NONE DETECTED\": 2,\n",
    "                            \"MEDICATION CONTRIBUTED, NONE DETECTED\": 4,\n",
    "                            \"ILLEGAL DRUG CONTRIBUTED\": 3, \n",
    "                            \"COMBINATION CONTRIBUTED\": 2,\n",
    "                            \"COMBINED SUBSTANCE PRESENT\": 2,\n",
    "                             \"ALCOHOL CONTRIBUTED\": 2,\n",
    "                             \"ILLEGAL DRUG PRESENT\": 3,\n",
    "                             \"MEDICATION PRESENT\": 4,\n",
    "                             \"ALCOHOL PRESENT, UNKNOWN\":2, \n",
    "\"COMBINATION CONTRIBUTED, NONE DETECTED\":2,   \n",
    "\"ALCOHOL PRESENT, N/A, UNKNOWN\":2,  \n",
    "\"COMBINED SUBSTANCE PRESENT, N/A\":2,  \n",
    "\"ALCOHOL CONTRIBUTED, NONE DETECTED, UNKNOWN\": 2, \n",
    "\"N/A, OTHER\": 1,\n",
    "\"NONE DETECTED, OTHER\": 1,\n",
    "                             \"ALCOHOL CONTRIBUTED, N/A, NONE DETECTED\":2,\n",
    "                             \"ALCOHOL CONTRIBUTED, ALCOHOL PRESENT\":2\n",
    "                             }}\n",
    "New.replace(encoding_DriverAbuse, inplace=True)\n",
    "New['Driver Substance Abuse_x'].value_counts()"
   ]
  },
  {
   "cell_type": "code",
   "execution_count": 42,
   "metadata": {},
   "outputs": [],
   "source": [
    "New['Driver Substance Abuse_x'].fillna('UNKNOWN', inplace=True)"
   ]
  },
  {
   "cell_type": "code",
   "execution_count": 43,
   "metadata": {},
   "outputs": [],
   "source": [
    "New['Non-Motorist Substance Abuse_x'].fillna('UNKNOWN', inplace=True)"
   ]
  },
  {
   "cell_type": "code",
   "execution_count": 44,
   "metadata": {},
   "outputs": [
    {
     "data": {
      "text/plain": [
       "1    9177\n",
       "2      16\n",
       "Name: Non-Motorist Substance Abuse_x, dtype: int64"
      ]
     },
     "execution_count": 44,
     "metadata": {},
     "output_type": "execute_result"
    }
   ],
   "source": [
    "New['Non-Motorist Substance Abuse_x'].value_counts()"
   ]
  },
  {
   "cell_type": "code",
   "execution_count": 45,
   "metadata": {
    "scrolled": true
   },
   "outputs": [
    {
     "data": {
      "text/plain": [
       "Maryland (State)        4150\n",
       "County                  2957\n",
       "UNKNOWN                  879\n",
       "Municipality             543\n",
       "US (State)               380\n",
       "Interstate (State)       154\n",
       "Other Public Roadway      58\n",
       "Government                42\n",
       "Ramp                      26\n",
       "Service Road               4\n",
       "Name: Route Type_x, dtype: int64"
      ]
     },
     "execution_count": 45,
     "metadata": {},
     "output_type": "execute_result"
    }
   ],
   "source": [
    "New['Route Type_x'].value_counts()"
   ]
  },
  {
   "cell_type": "code",
   "execution_count": 46,
   "metadata": {},
   "outputs": [
    {
     "data": {
      "text/plain": [
       "NOT DISTRACTED                                       5787\n",
       "UNKNOWN                                              1806\n",
       "LOOKED BUT DID NOT SEE                               1043\n",
       "INATTENTIVE OR LOST IN THOUGHT                        215\n",
       "OTHER DISTRACTION                                     156\n",
       "DISTRACTED BY OUTSIDE PERSON OBJECT OR EVENT           48\n",
       "OTHER ELECTRONIC DEVICE (NAVIGATIONAL PALM PILOT)      24\n",
       "BY OTHER OCCUPANTS                                     19\n",
       "TALKING OR LISTENING TO CELLULAR PHONE                 17\n",
       "BY MOVING OBJECT IN VEHICLE                            16\n",
       "OTHER CELLULAR PHONE RELATED                           16\n",
       "NO DRIVER PRESENT                                      13\n",
       "EATING OR DRINKING                                     11\n",
       "USING OTHER DEVICE CONTROLS INTEGRAL TO VEHICLE         8\n",
       "ADJUSTING AUDIO AND OR CLIMATE CONTROLS                 7\n",
       "USING DEVICE OBJECT BROUGHT INTO VEHICLE                3\n",
       "TEXTING FROM A CELLULAR PHONE                           3\n",
       "SMOKING RELATED                                         1\n",
       "Name: Driver Distracted By, dtype: int64"
      ]
     },
     "execution_count": 46,
     "metadata": {},
     "output_type": "execute_result"
    }
   ],
   "source": [
    "New['Driver Distracted By'].value_counts()"
   ]
  },
  {
   "cell_type": "code",
   "execution_count": 47,
   "metadata": {},
   "outputs": [
    {
     "data": {
      "text/plain": [
       "1    7593\n",
       "7    1481\n",
       "2      36\n",
       "5      27\n",
       "8      24\n",
       "6      13\n",
       "4      12\n",
       "3       7\n",
       "Name: Driver Distracted By, dtype: int64"
      ]
     },
     "execution_count": 47,
     "metadata": {},
     "output_type": "execute_result"
    }
   ],
   "source": [
    "encoding_DriverDistract = {\"Driver Distracted By\": \n",
    "                            {\"NOT DISTRACTED\": 1,\n",
    "                             \"UNKNOWN\": 1,\n",
    "                             \"LOOKED BUT DID NOT SEE\": 7,\n",
    "                             \"TALKING OR LISTENING TO CELLULAR PHONE\": 2,\n",
    "                             \"OTHER DISTRACTION\": 7,\n",
    "                             \"INATTENTIVE OR LOST IN THOUGHT\": 7,\n",
    "                             \"DISTRACTED BY OUTSIDE PERSON OBJECT OR EVENT\": 7, \n",
    "\"OTHER CELLULAR PHONE RELATED\":2,\n",
    "\"BY OTHER OCCUPANTS\": 7,        \n",
    "\"OTHER ELECTRONIC DEVICE (NAVIGATIONAL PALM PILOT)\": 8,\n",
    "\"NO DRIVER PRESENT\": 6,                                    \n",
    "\"TEXTING FROM A CELLULAR PHONE\": 2,\n",
    "\"USING OTHER DEVICE CONTROLS INTEGRAL TO VEHICLE\": 5,\n",
    "\"ADJUSTING AUDIO AND OR CLIMATE CONTROLS\": 3, \n",
    "\"USING DEVICE OBJECT BROUGHT INTO VEHICLE\": 5,              \n",
    "\"DIALING CELLULAR PHONE\": 2,                                 \n",
    "\"BY MOVING OBJECT IN VEHICLE\": 5,   \n",
    "\"EATING OR DRINKING\":4,   \n",
    "\"SMOKING RELATED\":4,\n",
    "                            \n",
    "                             }}\n",
    "New.replace(encoding_DriverDistract, inplace=True)\n",
    "New['Driver Distracted By'].value_counts()"
   ]
  },
  {
   "cell_type": "code",
   "execution_count": 48,
   "metadata": {},
   "outputs": [
    {
     "data": {
      "text/plain": [
       "No     7821\n",
       "Yes    1372\n",
       "Name: Hit/Run, dtype: int64"
      ]
     },
     "execution_count": 48,
     "metadata": {},
     "output_type": "execute_result"
    }
   ],
   "source": [
    "New['Hit/Run'].value_counts()"
   ]
  },
  {
   "cell_type": "code",
   "execution_count": 49,
   "metadata": {},
   "outputs": [
    {
     "data": {
      "text/plain": [
       "1    7821\n",
       "2    1372\n",
       "Name: Hit/Run, dtype: int64"
      ]
     },
     "execution_count": 49,
     "metadata": {},
     "output_type": "execute_result"
    }
   ],
   "source": [
    "encoding_hitrun = {\"Hit/Run\": \n",
    "                            {\"No\": 1,\n",
    "                             \"Yes\": 2\n",
    "                             }}\n",
    "New.replace(encoding_hitrun, inplace=True)\n",
    "New['Hit/Run'].value_counts()"
   ]
  },
  {
   "cell_type": "code",
   "execution_count": 165,
   "metadata": {},
   "outputs": [
    {
     "data": {
      "text/plain": [
       "1     7423\n",
       "3      677\n",
       "6      610\n",
       "2      257\n",
       "7       77\n",
       "5       72\n",
       "4       51\n",
       "10      12\n",
       "8        8\n",
       "11       4\n",
       "12       1\n",
       "9        1\n",
       "Name: First Harmful Event, dtype: int64"
      ]
     },
     "execution_count": 165,
     "metadata": {},
     "output_type": "execute_result"
    }
   ],
   "source": [
    "encoding_FirstHarm = {\"First Harmful Event\": \n",
    "                            {\"OTHER VEHICLE\": 1,\n",
    "                             \"PEDESTRIAN\": 2,\n",
    "                             \"FIXED OBJECT\": 3,\n",
    "                             \"PARKED VEHICLE\":6,\n",
    "                             \"OTHER OBJECT\": 3,\n",
    "                             \"BICYCLE\": 4,\n",
    "                             \"OFF ROAD\": 7,\n",
    "                             \"OVERTURN\": 7,\n",
    "                             \"UNKNOWN\": 5,\n",
    "                             'OTHER CONVEYANCE':5,\n",
    "                             \"OTHER\":5,\n",
    "                             \"OTHER NON COLLISION\": 5,\n",
    "                             \"ANIMAL\":6,\n",
    "                             \"U-TURN\": 7,\n",
    "                             \"BACKING\": 8,\n",
    "                             \"IMMERSION\": 12,\n",
    "                             \"OTHER PEDALCYCLE\":9,\n",
    "                             \"SPILLED CARGO\": 10,\n",
    "                            \"RAILWAY TRAIN\":11,\n",
    "                             \"THROWN OR FALLING OBJECT\":10,\n",
    "                            \"JACKKNIFE\": 11,\n",
    "                           \"DOWNHILL RUNAWAY\":12 }}\n",
    "New.replace(encoding_FirstHarm, inplace=True)\n",
    "New['First Harmful Event'].value_counts()"
   ]
  },
  {
   "cell_type": "code",
   "execution_count": 52,
   "metadata": {},
   "outputs": [
    {
     "data": {
      "text/plain": [
       "TWELVE OCLOCK    3688\n",
       "SIX OCLOCK       1837\n",
       "ONE OCLOCK        807\n",
       "ELEVEN OCLOCK     783\n",
       "TEN OCLOCK        307\n",
       "TWO OCLOCK        303\n",
       "FIVE OCLOCK       227\n",
       "SEVEN OCLOCK      218\n",
       "FOUR OCLOCK       207\n",
       "EIGHT OCLOCK      201\n",
       "THREE OCLOCK      197\n",
       "NINE OCLOCK       182\n",
       "UNKNOWN           166\n",
       "UNDERSIDE          29\n",
       "ROOF TOP           28\n",
       "NON-COLLISION      13\n",
       "Name: Vehicle First Impact Location, dtype: int64"
      ]
     },
     "execution_count": 52,
     "metadata": {},
     "output_type": "execute_result"
    }
   ],
   "source": [
    "New['Vehicle First Impact Location'].value_counts()"
   ]
  },
  {
   "cell_type": "code",
   "execution_count": 55,
   "metadata": {},
   "outputs": [
    {
     "data": {
      "text/plain": [
       "6     6442\n",
       "1     1832\n",
       "3      777\n",
       "5       93\n",
       "2       34\n",
       "10       8\n",
       "8        4\n",
       "7        2\n",
       "4        1\n",
       "Name: Second Harmful Event, dtype: int64"
      ]
     },
     "execution_count": 55,
     "metadata": {},
     "output_type": "execute_result"
    }
   ],
   "source": [
    "encoding_SecondHarm = {\"Second Harmful Event\": \n",
    "                            {\"OTHER VEHICLE\": 1,\n",
    "                             \"PEDESTRIAN\": 2,\n",
    "                             \"FIXED OBJECT\": 3,\n",
    "                             \"OTHER\": 6,\n",
    "                             \"ANIMAL\":4,\n",
    "                             \"OTHER CONVEYANCE\": 1,\n",
    "                             \"OFF ROAD\": 5,\n",
    "                             \"OVERTURN\": 5,\n",
    "                             \"PARKED VEHICLE\": 3,\n",
    "                             'OTHER OBJECT':3,\n",
    "                             'FELL JUMPED FROM MOTOR VEHICLE':5,\n",
    "                             'UNKNOWN': 6,\n",
    "                            'BICYCLE': 7,   \n",
    "'EXPLOSION OR FIRE':8,   \n",
    "'DOWNHILL RUNAWAY':9,  \n",
    "'OTHER NON COLLISION':   10,\n",
    "'JACKKNIFE': 10,\n",
    "'THROWN OR FALLING OBJECT': 10,\n",
    "'IMMERSION': 10,\n",
    "'OTHER PEDALCYCLE': 2,\n",
    "                            \"BACKING\": 10}}\n",
    "New.replace(encoding_SecondHarm, inplace=True)\n",
    "New['Second Harmful Event'].value_counts()"
   ]
  },
  {
   "cell_type": "code",
   "execution_count": 56,
   "metadata": {},
   "outputs": [],
   "source": [
    "## I think 'First Harmful Event' shall be given different weight, need further consideration of how to apply that in model?"
   ]
  },
  {
   "cell_type": "code",
   "execution_count": 57,
   "metadata": {},
   "outputs": [
    {
     "data": {
      "text/plain": [
       "DRY                       6326\n",
       "WET                       1636\n",
       "UNKNOWN                   1092\n",
       "ICE                         72\n",
       "SNOW                        41\n",
       "SLUSH                       15\n",
       "OTHER                        8\n",
       "MUD, DIRT, GRAVEL            1\n",
       "OIL                          1\n",
       "WATER(STANDING/MOVING)       1\n",
       "Name: Surface Condition_x, dtype: int64"
      ]
     },
     "execution_count": 57,
     "metadata": {},
     "output_type": "execute_result"
    }
   ],
   "source": [
    "New['Surface Condition_x'].value_counts()"
   ]
  },
  {
   "cell_type": "code",
   "execution_count": 58,
   "metadata": {},
   "outputs": [],
   "source": [
    "New['Surface Condition_x'].fillna('OTHER', inplace=True)"
   ]
  },
  {
   "cell_type": "code",
   "execution_count": 59,
   "metadata": {},
   "outputs": [
    {
     "data": {
      "text/plain": [
       "1    7426\n",
       "2    1653\n",
       "3     113\n",
       "4       1\n",
       "Name: Surface Condition_x, dtype: int64"
      ]
     },
     "execution_count": 59,
     "metadata": {},
     "output_type": "execute_result"
    }
   ],
   "source": [
    "encoding_surface = {\"Surface Condition_x\": \n",
    "                            {\"DRY\": 1,\n",
    "                             \"WET\": 2,\n",
    "                             \"SLUSH\": 2,\n",
    "                             'OTHER': 1,\n",
    "                             \"UNKNOWN\": 1, \n",
    "                            \"SNOW\":3,\n",
    "                            \"ICE\":3,\n",
    "                            \"MUD, DIRT, GRAVEL\":4,\n",
    "                           \"WATER(STANDING/MOVING)\":2,\n",
    "                            'OIL': 2}}\n",
    "New.replace(encoding_surface, inplace=True)\n",
    "New['Surface Condition_x'].value_counts()"
   ]
  },
  {
   "cell_type": "code",
   "execution_count": 60,
   "metadata": {},
   "outputs": [
    {
     "data": {
      "text/plain": [
       "CLEAR                       6062\n",
       "RAINING                     1190\n",
       "CLOUDY                      1026\n",
       "UNKNOWN                      739\n",
       "SNOW                          70\n",
       "FOGGY                         29\n",
       "WINTRY MIX                    26\n",
       "OTHER                         22\n",
       "SLEET                         11\n",
       "SEVERE WINDS                  10\n",
       "BLOWING SNOW                   6\n",
       "BLOWING SAND, SOIL, DIRT       2\n",
       "Name: Weather_x, dtype: int64"
      ]
     },
     "execution_count": 60,
     "metadata": {},
     "output_type": "execute_result"
    }
   ],
   "source": [
    "New['Weather_x'].value_counts()"
   ]
  },
  {
   "cell_type": "code",
   "execution_count": 61,
   "metadata": {},
   "outputs": [
    {
     "data": {
      "text/plain": [
       "1    7849\n",
       "2    1201\n",
       "6      76\n",
       "5      29\n",
       "3      26\n",
       "4      10\n",
       "7       2\n",
       "Name: Weather_x, dtype: int64"
      ]
     },
     "execution_count": 61,
     "metadata": {},
     "output_type": "execute_result"
    }
   ],
   "source": [
    "encoding_weather = {\"Weather_x\": \n",
    "                            {\"CLEAR\": 1,\n",
    "                             \"RAINING\": 2,\n",
    "                             \"CLOUDY\": 1,\n",
    "                             \"WINTRY MIX\": 3,\n",
    "                             \"SEVERE WINDS\": 4,\n",
    "                             \"FOGGY\": 5,\n",
    "                             \"SNOW\":6,\n",
    "                             \"BLOWING SNOW\": 6,\n",
    "                             \"OTHER\": 1,\n",
    "                             \"SLEET\": 2,\n",
    "                             \"UNKNOWN\": 1,\n",
    "                            'BLOWING SAND, SOIL, DIRT':7}}\n",
    "New.replace(encoding_weather, inplace=True)\n",
    "New['Weather_x'].value_counts()"
   ]
  },
  {
   "cell_type": "code",
   "execution_count": 62,
   "metadata": {},
   "outputs": [
    {
     "data": {
      "text/plain": [
       "Text(0.5, 1.05, 'Weather Condition')"
      ]
     },
     "execution_count": 62,
     "metadata": {},
     "output_type": "execute_result"
    },
    {
     "data": {
      "image/png": "[encoded data removed]",
      "text/plain": [
       "<Figure size 720x432 with 1 Axes>"
      ]
     },
     "metadata": {
      "needs_background": "light"
     },
     "output_type": "display_data"
    }
   ],
   "source": [
    "df = New.groupby(['Weather_x']).size().reset_index(name='counts')\n",
    "\n",
    "fig, ax = plt.subplots(figsize=(10,6))\n",
    "\n",
    "sns.barplot(x ='Weather_x',\n",
    "            y='counts',\n",
    "            ax=ax,\n",
    "            data=df)\n",
    "ax.set_title('Weather Condition', fontsize=18, position=(0.5,1.05))"
   ]
  },
  {
   "cell_type": "code",
   "execution_count": 63,
   "metadata": {},
   "outputs": [
    {
     "data": {
      "text/plain": [
       "0     8:02:00 PM\n",
       "1     7:23:00 AM\n",
       "2     3:56:00 PM\n",
       "3     3:56:00 PM\n",
       "4    12:00:00 PM\n",
       "Name: Crash Time, dtype: object"
      ]
     },
     "execution_count": 63,
     "metadata": {},
     "output_type": "execute_result"
    }
   ],
   "source": [
    "merged1['Crash Time'].head(5)"
   ]
  },
  {
   "cell_type": "code",
   "execution_count": 64,
   "metadata": {},
   "outputs": [],
   "source": [
    "def period(row):\n",
    "    rdf = []\n",
    "    if(type(row) == float):\n",
    "        row = str(row)\n",
    "        rdf = row.split(\".\")\n",
    "    else:\n",
    "        rdf = str(row).split(\":\"); # day -- 7am-7pm\n",
    "        \n",
    "    hr = rdf[0]\n",
    "    if int(hr) > 7 and int(hr) < 9: # morning rush hour\n",
    "        return 1;\n",
    "    if int(hr) > 9 and int(hr) < 16:# day time\n",
    "        return 2;\n",
    "    if int(hr) > 16 and int(hr) <19: # afternoon rush hour:\n",
    "        return 3;\n",
    "    else: # night\n",
    "        return 4;"
   ]
  },
  {
   "cell_type": "code",
   "execution_count": 65,
   "metadata": {},
   "outputs": [],
   "source": [
    "New['Crash Time'] = New['Crash Time'].apply(period)"
   ]
  },
  {
   "cell_type": "code",
   "execution_count": 66,
   "metadata": {},
   "outputs": [
    {
     "data": {
      "text/plain": [
       "4    6316\n",
       "2    1957\n",
       "1     885\n",
       "3      35\n",
       "Name: Crash Time, dtype: int64"
      ]
     },
     "execution_count": 66,
     "metadata": {},
     "output_type": "execute_result"
    }
   ],
   "source": [
    "New['Crash Time'].value_counts()"
   ]
  },
  {
   "cell_type": "code",
   "execution_count": 67,
   "metadata": {},
   "outputs": [
    {
     "data": {
      "text/plain": [
       "Text(0.5, 1.05, 'Crash Time Distribution')"
      ]
     },
     "execution_count": 67,
     "metadata": {},
     "output_type": "execute_result"
    },
    {
     "data": {
      "image/png": "[encoded data removed]",
      "text/plain": [
       "<Figure size 720x432 with 1 Axes>"
      ]
     },
     "metadata": {
      "needs_background": "light"
     },
     "output_type": "display_data"
    }
   ],
   "source": [
    "df = New.groupby(['Crash Time']).size().reset_index(name='counts')\n",
    "\n",
    "fig, ax = plt.subplots(figsize=(10,6))\n",
    "\n",
    "sns.barplot(x ='Crash Time',\n",
    "            y='counts',\n",
    "            ax=ax,\n",
    "            data=df)\n",
    "ax.set_title('Crash Time Distribution', fontsize=18, position=(0.5,1.05))"
   ]
  },
  {
   "cell_type": "code",
   "execution_count": 68,
   "metadata": {},
   "outputs": [
    {
     "data": {
      "text/plain": [
       "DAYLIGHT                    6269\n",
       "DARK LIGHTS ON              2076\n",
       "DARK NO LIGHTS               257\n",
       "DUSK                         211\n",
       "DAWN                         181\n",
       "UNKNOWN                       97\n",
       "DARK -- UNKNOWN LIGHTING      93\n",
       "OTHER                          9\n",
       "Name: Light_x, dtype: int64"
      ]
     },
     "execution_count": 68,
     "metadata": {},
     "output_type": "execute_result"
    }
   ],
   "source": [
    "New[\"Light_x\"].value_counts()"
   ]
  },
  {
   "cell_type": "code",
   "execution_count": 69,
   "metadata": {},
   "outputs": [],
   "source": [
    "New['Light_x'].fillna('UNKNOWN', inplace=True)"
   ]
  },
  {
   "cell_type": "code",
   "execution_count": 70,
   "metadata": {},
   "outputs": [
    {
     "data": {
      "text/plain": [
       "1    6375\n",
       "2    2076\n",
       "4     392\n",
       "3     350\n",
       "Name: Light_x, dtype: int64"
      ]
     },
     "execution_count": 70,
     "metadata": {},
     "output_type": "execute_result"
    }
   ],
   "source": [
    "encoding_light = {\"Light_x\": \n",
    "                            {\"DAYLIGHT\": 1,\n",
    "                             \"DARK LIGHTS ON\": 2,\n",
    "                             \"DARK NO LIGHTS\": 3,\n",
    "                             \"DUSK\": 4,\n",
    "                             \"DARK -- UNKNOWN LIGHTING\": 3,\n",
    "                             \"DAWN\": 4,\n",
    "                             \"UNKNOWN\": 1,\n",
    "                            \"OTHER\": 1}}\n",
    "New.replace(encoding_light, inplace=True)\n",
    "New['Light_x'].value_counts()"
   ]
  },
  {
   "cell_type": "code",
   "execution_count": 71,
   "metadata": {},
   "outputs": [
    {
     "data": {
      "text/plain": [
       "Text(0.5, 1.05, 'Light Condition')"
      ]
     },
     "execution_count": 71,
     "metadata": {},
     "output_type": "execute_result"
    },
    {
     "data": {
      "image/png": "[encoded data removed]",
      "text/plain": [
       "<Figure size 720x432 with 1 Axes>"
      ]
     },
     "metadata": {
      "needs_background": "light"
     },
     "output_type": "display_data"
    }
   ],
   "source": [
    "df = New.groupby(['Light_x']).size().reset_index(name='counts')\n",
    "\n",
    "fig, ax = plt.subplots(figsize=(10,6))\n",
    "\n",
    "sns.barplot(x ='Light_x',\n",
    "            y='counts',\n",
    "            ax=ax,\n",
    "            data=df)\n",
    "ax.set_title('Light Condition', fontsize=18, position=(0.5,1.05))"
   ]
  },
  {
   "cell_type": "code",
   "execution_count": 72,
   "metadata": {},
   "outputs": [
    {
     "name": "stdout",
     "output_type": "stream",
     "text": [
      "['Report Number', 'Agency Name_x', 'ACRS Report Type_x', 'Crash Date', 'Crash Time', 'Hit/Run', 'Route Type_x', 'Mile Point', 'Mile Point Direction', 'Lane Direction', 'Lane Number', 'Number of Lanes', 'Direction', 'Distance', 'Distance Unit', 'Road Grade', 'NonTraffic', 'Cross-Street Type_x', 'Related Non-Motorist_x', 'At Fault', 'Collision Type_x', 'Weather_x', 'Surface Condition_x', 'Light_x', 'Traffic Control_x', 'Driver Substance Abuse_x', 'Non-Motorist Substance Abuse_x', 'First Harmful Event', 'Second Harmful Event', 'Fixed Oject Struck', 'Junction', 'Intersection Type', 'Road Alignment', 'Road Condition', 'Road Division', 'Latitude_x', 'Longitude_x', 'Location_x', 'Driver At Fault', 'Injury Severity', 'Driver Distracted By', 'Drivers License State', 'Vehicle Damage Extent', 'Vehicle First Impact Location', 'Vehicle Second Impact Location', 'Vehicle Body Type', 'Vehicle Movement', 'Vehicle Continuing Dir', 'Vehicle Going Dir', 'Speed Limit', 'Driverless Vehicle', 'Parked Vehicle', 'Vehicle Year', 'Vehicle Make', 'Vehicle Model', 'Equipment Problems']\n"
     ]
    }
   ],
   "source": [
    "#print(New.columns.values)\n",
    "print(New.columns.tolist())"
   ]
  },
  {
   "cell_type": "code",
   "execution_count": 73,
   "metadata": {},
   "outputs": [
    {
     "data": {
      "text/plain": [
       "2015    680\n",
       "2014    662\n",
       "2013    594\n",
       "2016    581\n",
       "2012    532\n",
       "2011    496\n",
       "2007    489\n",
       "2008    484\n",
       "2006    476\n",
       "2005    421\n",
       "2009    405\n",
       "2010    395\n",
       "2004    387\n",
       "2017    379\n",
       "2003    322\n",
       "2002    251\n",
       "2001    248\n",
       "2018    227\n",
       "2000    201\n",
       "0       198\n",
       "1999    152\n",
       "2019    126\n",
       "1998    110\n",
       "1997     97\n",
       "1996     60\n",
       "1995     43\n",
       "1994     34\n",
       "2020     34\n",
       "1993     25\n",
       "1992     11\n",
       "1990      9\n",
       "1988      9\n",
       "1991      8\n",
       "1987      8\n",
       "1989      7\n",
       "1900      4\n",
       "1985      4\n",
       "1984      3\n",
       "99        3\n",
       "9999      2\n",
       "1978      2\n",
       "1975      1\n",
       "1983      1\n",
       "1025      1\n",
       "3863      1\n",
       "2022      1\n",
       "1234      1\n",
       "1986      1\n",
       "1901      1\n",
       "198       1\n",
       "1971      1\n",
       "2021      1\n",
       "1972      1\n",
       "1980      1\n",
       "1140      1\n",
       "Name: Vehicle Year, dtype: int64"
      ]
     },
     "execution_count": 73,
     "metadata": {},
     "output_type": "execute_result"
    }
   ],
   "source": [
    "New['Vehicle Year'].value_counts()"
   ]
  },
  {
   "cell_type": "code",
   "execution_count": 74,
   "metadata": {},
   "outputs": [
    {
     "data": {
      "text/plain": [
       "TOYOTA         1247\n",
       "HONDA          1022\n",
       "FORD            906\n",
       "NISSAN          488\n",
       "TOYT            457\n",
       "HOND            306\n",
       "DODGE           246\n",
       "CHEV            206\n",
       "CHEVROLET       202\n",
       "JEEP            188\n",
       "HYUNDAI         180\n",
       "UNKNOWN         179\n",
       "BMW             178\n",
       "NISS            164\n",
       "CHEVY           160\n",
       "LEXUS           149\n",
       "ACURA           136\n",
       "KIA             128\n",
       "SUBARU          112\n",
       "MAZDA           110\n",
       "HYUN            109\n",
       "GMC             104\n",
       "MERZ             92\n",
       "THOMAS           83\n",
       "AUDI             81\n",
       "MERCEDES         73\n",
       "VOLK             66\n",
       "GILL             63\n",
       "DODG             54\n",
       "VOLKSWAGON       53\n",
       "               ... \n",
       "TOYTOTA           1\n",
       "KTM               1\n",
       "LINCOLDN          1\n",
       "JOHN DEERE        1\n",
       "WORK              1\n",
       "CHERVOLET         1\n",
       "GRUNMAN           1\n",
       "HUY               1\n",
       "HYUNADAI          1\n",
       "INFINTI           1\n",
       "STER              1\n",
       "INFINIT           1\n",
       "GOLD              1\n",
       "VOLVE             1\n",
       "TRIU              1\n",
       "CRYS              1\n",
       "HODA              1\n",
       "NDMC              1\n",
       "BMX               1\n",
       "JEP               1\n",
       "TOY0TA            1\n",
       "PUSH              1\n",
       "GILLET            1\n",
       "HD                1\n",
       "CHRYSLR           1\n",
       "GILLEM            1\n",
       "HUYUNDAI          1\n",
       "TOYOVAL1999       1\n",
       "CHRYS             1\n",
       "GILL BUS          1\n",
       "Name: Vehicle Make, Length: 355, dtype: int64"
      ]
     },
     "execution_count": 74,
     "metadata": {},
     "output_type": "execute_result"
    }
   ],
   "source": [
    "New['Vehicle Make'].value_counts()"
   ]
  },
  {
   "cell_type": "code",
   "execution_count": 75,
   "metadata": {},
   "outputs": [
    {
     "data": {
      "text/plain": [
       "4S             780\n",
       "TK             606\n",
       "COROLLA        332\n",
       "CAMRY          325\n",
       "ACCORD         312\n",
       "CIVIC          302\n",
       "BUS            219\n",
       "UNKNOWN        184\n",
       "CRV            152\n",
       "4D             149\n",
       "ALTIMA         149\n",
       "RAV4           124\n",
       "VAN            100\n",
       "SUV            100\n",
       "TRUCK           91\n",
       "VN              90\n",
       "SIENNA          88\n",
       "PRIUS           86\n",
       "CHARGER         84\n",
       "EXPLORER        81\n",
       "2S              78\n",
       "SENTRA          77\n",
       "ODYSSEY         76\n",
       "ELANTRA         75\n",
       "SONATA          71\n",
       "HIGHLANDER      71\n",
       "PILOT           71\n",
       "4DR             68\n",
       "F150            63\n",
       "JETTA           62\n",
       "              ... \n",
       "ECONOVAN         1\n",
       "WRANLER          1\n",
       "ACCORD4S         1\n",
       "2S`              1\n",
       "E450             1\n",
       "RX7              1\n",
       "ODESSY           1\n",
       "LIMITED          1\n",
       "X8               1\n",
       "T800             1\n",
       "V50              1\n",
       "BUCKET TK        1\n",
       "FORD             1\n",
       "B CLASS          1\n",
       "TOWER            1\n",
       "AVALON  XLS      1\n",
       "ROX              1\n",
       "YN50             1\n",
       "GS300            1\n",
       "CANYONS          1\n",
       "3201             1\n",
       "CRANE            1\n",
       "268A-15          1\n",
       "ASPH PATCH       1\n",
       "KX60             1\n",
       "LAGACY           1\n",
       "V70, SW          1\n",
       "TUSCAN           1\n",
       "SARARI           1\n",
       "300C             1\n",
       "Name: Vehicle Model, Length: 1169, dtype: int64"
      ]
     },
     "execution_count": 75,
     "metadata": {},
     "output_type": "execute_result"
    }
   ],
   "source": [
    "New['Vehicle Model'].value_counts()"
   ]
  },
  {
   "cell_type": "code",
   "execution_count": 76,
   "metadata": {},
   "outputs": [],
   "source": [
    "# I decided to drop vehicle year, vehicle model and make. I don't think much trend related to vehicle."
   ]
  },
  {
   "cell_type": "code",
   "execution_count": 77,
   "metadata": {},
   "outputs": [
    {
     "data": {
      "text/plain": [
       "TWO-WAY, DIVIDED, POSITIVE MEDIAN BARRIER           4252\n",
       "TWO-WAY, NOT DIVIDED                                2785\n",
       "UNKNOWN                                              939\n",
       "TWO-WAY, DIVIDED, UNPROTECTED PAINTED MIN 4 FEET     888\n",
       "ONE-WAY TRAFFICWAY                                   171\n",
       "OTHER                                                116\n",
       "TWO-WAY, NOT DIVIDED WITH A CONTINUOUS LEFT TURN      42\n",
       "Name: Road Division, dtype: int64"
      ]
     },
     "execution_count": 77,
     "metadata": {},
     "output_type": "execute_result"
    }
   ],
   "source": [
    "New['Road Division'].value_counts()"
   ]
  },
  {
   "cell_type": "code",
   "execution_count": 78,
   "metadata": {},
   "outputs": [
    {
     "data": {
      "text/plain": [
       "1    5307\n",
       "2    2827\n",
       "3     888\n",
       "4     171\n",
       "Name: Road Division, dtype: int64"
      ]
     },
     "execution_count": 78,
     "metadata": {},
     "output_type": "execute_result"
    }
   ],
   "source": [
    "encoding_RoadDivision = {\"Road Division\": \n",
    "                            {\"TWO-WAY, DIVIDED, POSITIVE MEDIAN BARRIER\": 1,\n",
    "                             \"TWO-WAY, NOT DIVIDED\": 2,\n",
    "                             \"TWO-WAY, DIVIDED, UNPROTECTED PAINTED MIN 4 FEET\": 3,\n",
    "                             \"TWO-WAY, NOT DIVIDED WITH A CONTINUOUS LEFT TURN\": 2,\n",
    "                             \"ONE-WAY TRAFFICWAY\": 4,\n",
    "                             \"OTHER\": 1,\n",
    "                             \"UNKNOWN\": 1}}\n",
    "New.replace(encoding_RoadDivision, inplace=True)\n",
    "New['Road Division'].value_counts()"
   ]
  },
  {
   "cell_type": "code",
   "execution_count": 79,
   "metadata": {},
   "outputs": [
    {
     "data": {
      "text/plain": [
       "STRAIGHT       0.808985\n",
       "UNKNOWN        0.094637\n",
       "CURVE RIGHT    0.054607\n",
       "CURVE LEFT     0.037420\n",
       "OTHER          0.004351\n",
       "Name: Road Alignment, dtype: float64"
      ]
     },
     "execution_count": 79,
     "metadata": {},
     "output_type": "execute_result"
    }
   ],
   "source": [
    "New['Road Alignment'].value_counts(normalize= True)"
   ]
  },
  {
   "cell_type": "code",
   "execution_count": 80,
   "metadata": {},
   "outputs": [
    {
     "data": {
      "text/plain": [
       "Text(0.5, 1.05, 'Road Alignment')"
      ]
     },
     "execution_count": 80,
     "metadata": {},
     "output_type": "execute_result"
    },
    {
     "data": {
      "image/png": "[encoded data removed]",
      "text/plain": [
       "<Figure size 720x432 with 1 Axes>"
      ]
     },
     "metadata": {
      "needs_background": "light"
     },
     "output_type": "display_data"
    }
   ],
   "source": [
    "df = New.groupby(['Road Alignment']).size().reset_index(name='counts')\n",
    "\n",
    "fig, ax = plt.subplots(figsize=(10,6))\n",
    "\n",
    "sns.barplot(x ='Road Alignment',\n",
    "            y='counts',\n",
    "            ax=ax,\n",
    "            data=df)\n",
    "ax.set_title('Road Alignment', fontsize=18, position=(0.5,1.05))"
   ]
  },
  {
   "cell_type": "code",
   "execution_count": 81,
   "metadata": {},
   "outputs": [
    {
     "data": {
      "text/plain": [
       "1    7437\n",
       "4     910\n",
       "2     502\n",
       "3     344\n",
       "Name: Road Alignment, dtype: int64"
      ]
     },
     "execution_count": 81,
     "metadata": {},
     "output_type": "execute_result"
    }
   ],
   "source": [
    "encoding_RoadAlign = {\"Road Alignment\": \n",
    "                            {\"STRAIGHT\": 1,\n",
    "                             \"CURVE RIGHT\": 2,\n",
    "                             \"CURVE LEFT\": 3,\n",
    "                             \"UNKNOWN\": 4,\n",
    "                             \"OTHER\": 4}}\n",
    "New.replace(encoding_RoadAlign, inplace=True)\n",
    "New['Road Alignment'].value_counts()"
   ]
  },
  {
   "cell_type": "code",
   "execution_count": 82,
   "metadata": {},
   "outputs": [
    {
     "data": {
      "text/plain": [
       "North      3544\n",
       "East       2115\n",
       "South      1644\n",
       "West       1049\n",
       "UNKNOWN     837\n",
       "Unknown       4\n",
       "Name: Direction, dtype: int64"
      ]
     },
     "execution_count": 82,
     "metadata": {},
     "output_type": "execute_result"
    }
   ],
   "source": [
    "New['Direction'].value_counts()"
   ]
  },
  {
   "cell_type": "code",
   "execution_count": 83,
   "metadata": {},
   "outputs": [
    {
     "data": {
      "text/plain": [
       "3     2917\n",
       "2     2705\n",
       "1     1643\n",
       "0      874\n",
       "4      710\n",
       "5      155\n",
       "6      150\n",
       "7       18\n",
       "8       15\n",
       "10       3\n",
       "9        2\n",
       "12       1\n",
       "Name: Number of Lanes, dtype: int64"
      ]
     },
     "execution_count": 83,
     "metadata": {},
     "output_type": "execute_result"
    }
   ],
   "source": [
    "New['Number of Lanes'].value_counts()"
   ]
  },
  {
   "cell_type": "code",
   "execution_count": 84,
   "metadata": {},
   "outputs": [
    {
     "data": {
      "text/plain": [
       "1    4285\n",
       "2    1851\n",
       "0    1830\n",
       "3    1096\n",
       "4     117\n",
       "6       7\n",
       "5       7\n",
       "Name: Lane Number, dtype: int64"
      ]
     },
     "execution_count": 84,
     "metadata": {},
     "output_type": "execute_result"
    }
   ],
   "source": [
    "New['Lane Number'].value_counts()"
   ]
  },
  {
   "cell_type": "code",
   "execution_count": 85,
   "metadata": {},
   "outputs": [
    {
     "data": {
      "text/plain": [
       "MOVING CONSTANT SPEED      3567\n",
       "SLOWING OR STOPPING        1360\n",
       "STOPPED IN TRAFFIC LANE    1000\n",
       "MAKING LEFT TURN            900\n",
       "ACCELERATING                511\n",
       "BACKING                     282\n",
       "MAKING RIGHT TURN           280\n",
       "CHANGING LANES              244\n",
       "STARTING FROM LANE          218\n",
       "UNKNOWN                     183\n",
       "PARKED                      154\n",
       "STARTING FROM PARKED        112\n",
       "PARKING                     102\n",
       "MAKING U TURN                64\n",
       "SKIDDING                     45\n",
       "ENTERING TRAFFIC LANE        42\n",
       "PASSING                      40\n",
       "OTHER                        40\n",
       "NEGOTIATING A CURVE          27\n",
       "RIGHT TURN ON RED            11\n",
       "LEAVING TRAFFIC LANE         10\n",
       "DRIVERLESS MOVING VEH.        1\n",
       "Name: Vehicle Movement, dtype: int64"
      ]
     },
     "execution_count": 85,
     "metadata": {},
     "output_type": "execute_result"
    }
   ],
   "source": [
    "New['Vehicle Movement'].value_counts()"
   ]
  },
  {
   "cell_type": "code",
   "execution_count": 86,
   "metadata": {},
   "outputs": [
    {
     "data": {
      "text/plain": [
       "No     8359\n",
       "Yes     834\n",
       "Name: NonTraffic, dtype: int64"
      ]
     },
     "execution_count": 86,
     "metadata": {},
     "output_type": "execute_result"
    }
   ],
   "source": [
    "New['NonTraffic'].value_counts()"
   ]
  },
  {
   "cell_type": "code",
   "execution_count": 87,
   "metadata": {},
   "outputs": [
    {
     "data": {
      "text/plain": [
       "1    8359\n",
       "2     834\n",
       "Name: NonTraffic, dtype: int64"
      ]
     },
     "execution_count": 87,
     "metadata": {},
     "output_type": "execute_result"
    }
   ],
   "source": [
    "encoding_NonTraffic = {\"NonTraffic\": \n",
    "                           \n",
    "                            {\"No\": 1,\n",
    "                             \"Yes\": 2,\n",
    "                           }}\n",
    "New.replace(encoding_NonTraffic, inplace=True)\n",
    "New['NonTraffic'].value_counts()"
   ]
  },
  {
   "cell_type": "code",
   "execution_count": 88,
   "metadata": {
    "scrolled": true
   },
   "outputs": [
    {
     "data": {
      "text/plain": [
       "UNKNOWN                   8853\n",
       "PEDESTRIAN                 265\n",
       "BICYCLIST                   63\n",
       "OTHER CONVEYANCE             6\n",
       "OTHER                        5\n",
       "MACHINE OPERATOR/RIDER       1\n",
       "Name: Related Non-Motorist_x, dtype: int64"
      ]
     },
     "execution_count": 88,
     "metadata": {},
     "output_type": "execute_result"
    }
   ],
   "source": [
    "New['Related Non-Motorist_x'].value_counts()"
   ]
  },
  {
   "cell_type": "code",
   "execution_count": 89,
   "metadata": {},
   "outputs": [
    {
     "data": {
      "text/plain": [
       "DRIVER         8611\n",
       "UNKNOWN         497\n",
       "NONMOTORIST      70\n",
       "BOTH             15\n",
       "Name: At Fault, dtype: int64"
      ]
     },
     "execution_count": 89,
     "metadata": {},
     "output_type": "execute_result"
    }
   ],
   "source": [
    "New['At Fault'].value_counts()"
   ]
  },
  {
   "cell_type": "code",
   "execution_count": 90,
   "metadata": {},
   "outputs": [
    {
     "data": {
      "text/plain": [
       "1    8626\n",
       "3     497\n",
       "2      70\n",
       "Name: At Fault, dtype: int64"
      ]
     },
     "execution_count": 90,
     "metadata": {},
     "output_type": "execute_result"
    }
   ],
   "source": [
    "encoding_AtFault = {\"At Fault\":                   \n",
    "                            {\"UNKNOWN\": 3,\n",
    "                             \"DRIVER\": 1,\n",
    "                             'NONMOTORIST': 2,\n",
    "                             'BOTH': 1 }}\n",
    "New.replace(encoding_AtFault, inplace=True)\n",
    "New['At Fault'].value_counts()"
   ]
  },
  {
   "cell_type": "markdown",
   "metadata": {},
   "source": [
    "df_train1 = New[['Related Non-Motorist_x', \"Driver Substance Abuse_x\",'Collision Type_x', 'Weather_x', 'Surface Condition_x', 'Light_x', 'Traffic Control_x', 'Non-Motorist Substance Abuse_x', 'At Fault', 'Driver Distracted By', 'Vehicle Body Type', 'Vehicle Movement', 'Vehicle Continuing Dir', 'Vehicle Going Dir', 'Speed Limit', 'Driverless Vehicle', 'Equipment Problems', 'Crash Date', 'Crash Time', 'Hit/Run', 'Mile Point', 'Distance', 'Distance Unit', 'NonTraffic', 'First Harmful Event', 'Fixed Oject Struck', 'Junction', 'Intersection Type', 'Road Alignment', 'Road Division']]"
   ]
  },
  {
   "cell_type": "code",
   "execution_count": 180,
   "metadata": {},
   "outputs": [],
   "source": [
    "df_train1 = New[[\"Driver Substance Abuse_x\",'Collision Type_x', 'Weather_x', 'Surface Condition_x', 'Light_x', 'Traffic Control_x', 'Non-Motorist Substance Abuse_x', 'At Fault', 'Driver Distracted By', 'Vehicle Body Type', 'Vehicle Movement', 'Vehicle Continuing Dir', 'Vehicle Going Dir', 'Speed Limit', 'Equipment Problems', 'Crash Date', 'Crash Time', 'Hit/Run', 'Distance', 'NonTraffic',  'Fixed Oject Struck', 'Intersection Type', 'Road Alignment', 'Road Division']]"
   ]
  },
  {
   "cell_type": "code",
   "execution_count": 181,
   "metadata": {},
   "outputs": [
    {
     "name": "stdout",
     "output_type": "stream",
     "text": [
      "<class 'pandas.core.frame.DataFrame'>\n",
      "Int64Index: 9193 entries, 0 to 9192\n",
      "Data columns (total 24 columns):\n",
      "Driver Substance Abuse_x          9193 non-null int64\n",
      "Collision Type_x                  9193 non-null int64\n",
      "Weather_x                         9193 non-null int64\n",
      "Surface Condition_x               9193 non-null int64\n",
      "Light_x                           9193 non-null int64\n",
      "Traffic Control_x                 9193 non-null object\n",
      "Non-Motorist Substance Abuse_x    9193 non-null int64\n",
      "At Fault                          9193 non-null int64\n",
      "Driver Distracted By              9193 non-null int64\n",
      "Vehicle Body Type                 9193 non-null object\n",
      "Vehicle Movement                  9193 non-null object\n",
      "Vehicle Continuing Dir            9193 non-null object\n",
      "Vehicle Going Dir                 9193 non-null object\n",
      "Speed Limit                       9193 non-null int64\n",
      "Equipment Problems                9193 non-null object\n",
      "Crash Date                        9193 non-null object\n",
      "Crash Time                        9193 non-null int64\n",
      "Hit/Run                           9193 non-null int64\n",
      "Distance                          9193 non-null object\n",
      "NonTraffic                        9193 non-null int64\n",
      "Fixed Oject Struck                9193 non-null object\n",
      "Intersection Type                 9193 non-null object\n",
      "Road Alignment                    9193 non-null int64\n",
      "Road Division                     9193 non-null int64\n",
      "dtypes: int64(14), object(10)\n",
      "memory usage: 1.8+ MB\n"
     ]
    }
   ],
   "source": [
    "df_train1.info()"
   ]
  },
  {
   "cell_type": "code",
   "execution_count": 182,
   "metadata": {},
   "outputs": [],
   "source": [
    "import pandas as pd\n",
    "import numpy as np\n",
    "pd.set_option('display.max_columns', 50)\n",
    "import matplotlib.pyplot as plt\n",
    "%matplotlib inline\n",
    "np.random.seed(123)\n",
    "import seaborn as sns\n",
    "from sklearn.preprocessing import StandardScaler, MinMaxScaler\n",
    "from sklearn.model_selection import train_test_split\n",
    "from sklearn.metrics import accuracy_score\n",
    "from sklearn.utils import resample\n",
    "from sklearn.ensemble import RandomForestClassifier\n",
    "from sklearn.linear_model import LogisticRegression\n",
    "from sklearn.metrics import classification_report, confusion_matrix\n",
    "from imblearn.over_sampling import SMOTE\n",
    "from xgboost import XGBClassifier, plot_importance, plot_tree\n",
    "import itertools"
   ]
  },
  {
   "cell_type": "code",
   "execution_count": 183,
   "metadata": {},
   "outputs": [
    {
     "name": "stderr",
     "output_type": "stream",
     "text": [
      "C:\\Users\\ywei1\\Anaconda3\\lib\\site-packages\\ipykernel_launcher.py:7: SettingWithCopyWarning: \n",
      "A value is trying to be set on a copy of a slice from a DataFrame.\n",
      "Try using .loc[row_indexer,col_indexer] = value instead\n",
      "\n",
      "See the caveats in the documentation: http://pandas.pydata.org/pandas-docs/stable/indexing.html#indexing-view-versus-copy\n",
      "  import sys\n"
     ]
    },
    {
     "ename": "TypeError",
     "evalue": "Encoders require their input to be uniformly strings or numbers. Got ['float', 'str']",
     "output_type": "error",
     "traceback": [
      "\u001b[1;31m---------------------------------------------------------------------------\u001b[0m",
      "\u001b[1;31mTypeError\u001b[0m                                 Traceback (most recent call last)",
      "\u001b[1;32m~\\Anaconda3\\lib\\site-packages\\sklearn\\preprocessing\\_label.py\u001b[0m in \u001b[0;36m_encode\u001b[1;34m(values, uniques, encode, check_unknown)\u001b[0m\n\u001b[0;32m    112\u001b[0m         \u001b[1;32mtry\u001b[0m\u001b[1;33m:\u001b[0m\u001b[1;33m\u001b[0m\u001b[1;33m\u001b[0m\u001b[0m\n\u001b[1;32m--> 113\u001b[1;33m             \u001b[0mres\u001b[0m \u001b[1;33m=\u001b[0m \u001b[0m_encode_python\u001b[0m\u001b[1;33m(\u001b[0m\u001b[0mvalues\u001b[0m\u001b[1;33m,\u001b[0m \u001b[0muniques\u001b[0m\u001b[1;33m,\u001b[0m \u001b[0mencode\u001b[0m\u001b[1;33m)\u001b[0m\u001b[1;33m\u001b[0m\u001b[1;33m\u001b[0m\u001b[0m\n\u001b[0m\u001b[0;32m    114\u001b[0m         \u001b[1;32mexcept\u001b[0m \u001b[0mTypeError\u001b[0m\u001b[1;33m:\u001b[0m\u001b[1;33m\u001b[0m\u001b[1;33m\u001b[0m\u001b[0m\n",
      "\u001b[1;32m~\\Anaconda3\\lib\\site-packages\\sklearn\\preprocessing\\_label.py\u001b[0m in \u001b[0;36m_encode_python\u001b[1;34m(values, uniques, encode)\u001b[0m\n\u001b[0;32m     60\u001b[0m     \u001b[1;32mif\u001b[0m \u001b[0muniques\u001b[0m \u001b[1;32mis\u001b[0m \u001b[1;32mNone\u001b[0m\u001b[1;33m:\u001b[0m\u001b[1;33m\u001b[0m\u001b[1;33m\u001b[0m\u001b[0m\n\u001b[1;32m---> 61\u001b[1;33m         \u001b[0muniques\u001b[0m \u001b[1;33m=\u001b[0m \u001b[0msorted\u001b[0m\u001b[1;33m(\u001b[0m\u001b[0mset\u001b[0m\u001b[1;33m(\u001b[0m\u001b[0mvalues\u001b[0m\u001b[1;33m)\u001b[0m\u001b[1;33m)\u001b[0m\u001b[1;33m\u001b[0m\u001b[1;33m\u001b[0m\u001b[0m\n\u001b[0m\u001b[0;32m     62\u001b[0m         \u001b[0muniques\u001b[0m \u001b[1;33m=\u001b[0m \u001b[0mnp\u001b[0m\u001b[1;33m.\u001b[0m\u001b[0marray\u001b[0m\u001b[1;33m(\u001b[0m\u001b[0muniques\u001b[0m\u001b[1;33m,\u001b[0m \u001b[0mdtype\u001b[0m\u001b[1;33m=\u001b[0m\u001b[0mvalues\u001b[0m\u001b[1;33m.\u001b[0m\u001b[0mdtype\u001b[0m\u001b[1;33m)\u001b[0m\u001b[1;33m\u001b[0m\u001b[1;33m\u001b[0m\u001b[0m\n",
      "\u001b[1;31mTypeError\u001b[0m: '<' not supported between instances of 'str' and 'float'",
      "\nDuring handling of the above exception, another exception occurred:\n",
      "\u001b[1;31mTypeError\u001b[0m                                 Traceback (most recent call last)",
      "\u001b[1;32m<ipython-input-183-2894032059d1>\u001b[0m in \u001b[0;36m<module>\u001b[1;34m\u001b[0m\n\u001b[0;32m      4\u001b[0m \u001b[1;32mfor\u001b[0m \u001b[0mi\u001b[0m \u001b[1;32min\u001b[0m \u001b[0mdf_train1\u001b[0m\u001b[1;33m:\u001b[0m\u001b[1;33m\u001b[0m\u001b[1;33m\u001b[0m\u001b[0m\n\u001b[0;32m      5\u001b[0m     \u001b[1;32mif\u001b[0m \u001b[0mdf_train1\u001b[0m\u001b[1;33m[\u001b[0m\u001b[0mi\u001b[0m\u001b[1;33m]\u001b[0m\u001b[1;33m.\u001b[0m\u001b[0mdtype\u001b[0m \u001b[1;33m==\u001b[0m \u001b[1;34m'object'\u001b[0m\u001b[1;33m:\u001b[0m\u001b[1;33m\u001b[0m\u001b[1;33m\u001b[0m\u001b[0m\n\u001b[1;32m----> 6\u001b[1;33m         \u001b[0mlblE\u001b[0m\u001b[1;33m.\u001b[0m\u001b[0mfit\u001b[0m\u001b[1;33m(\u001b[0m\u001b[0mdf_train1\u001b[0m\u001b[1;33m[\u001b[0m\u001b[0mi\u001b[0m\u001b[1;33m]\u001b[0m\u001b[1;33m)\u001b[0m\u001b[1;33m\u001b[0m\u001b[1;33m\u001b[0m\u001b[0m\n\u001b[0m\u001b[0;32m      7\u001b[0m         \u001b[0mdf_train1\u001b[0m\u001b[1;33m[\u001b[0m\u001b[0mi\u001b[0m\u001b[1;33m]\u001b[0m \u001b[1;33m=\u001b[0m \u001b[0mlblE\u001b[0m\u001b[1;33m.\u001b[0m\u001b[0mtransform\u001b[0m\u001b[1;33m(\u001b[0m\u001b[0mdf_train1\u001b[0m\u001b[1;33m[\u001b[0m\u001b[0mi\u001b[0m\u001b[1;33m]\u001b[0m\u001b[1;33m)\u001b[0m\u001b[1;33m\u001b[0m\u001b[1;33m\u001b[0m\u001b[0m\n",
      "\u001b[1;32m~\\Anaconda3\\lib\\site-packages\\sklearn\\preprocessing\\_label.py\u001b[0m in \u001b[0;36mfit\u001b[1;34m(self, y)\u001b[0m\n\u001b[0;32m    238\u001b[0m         \"\"\"\n\u001b[0;32m    239\u001b[0m         \u001b[0my\u001b[0m \u001b[1;33m=\u001b[0m \u001b[0mcolumn_or_1d\u001b[0m\u001b[1;33m(\u001b[0m\u001b[0my\u001b[0m\u001b[1;33m,\u001b[0m \u001b[0mwarn\u001b[0m\u001b[1;33m=\u001b[0m\u001b[1;32mTrue\u001b[0m\u001b[1;33m)\u001b[0m\u001b[1;33m\u001b[0m\u001b[1;33m\u001b[0m\u001b[0m\n\u001b[1;32m--> 240\u001b[1;33m         \u001b[0mself\u001b[0m\u001b[1;33m.\u001b[0m\u001b[0mclasses_\u001b[0m \u001b[1;33m=\u001b[0m \u001b[0m_encode\u001b[0m\u001b[1;33m(\u001b[0m\u001b[0my\u001b[0m\u001b[1;33m)\u001b[0m\u001b[1;33m\u001b[0m\u001b[1;33m\u001b[0m\u001b[0m\n\u001b[0m\u001b[0;32m    241\u001b[0m         \u001b[1;32mreturn\u001b[0m \u001b[0mself\u001b[0m\u001b[1;33m\u001b[0m\u001b[1;33m\u001b[0m\u001b[0m\n\u001b[0;32m    242\u001b[0m \u001b[1;33m\u001b[0m\u001b[0m\n",
      "\u001b[1;32m~\\Anaconda3\\lib\\site-packages\\sklearn\\preprocessing\\_label.py\u001b[0m in \u001b[0;36m_encode\u001b[1;34m(values, uniques, encode, check_unknown)\u001b[0m\n\u001b[0;32m    115\u001b[0m             types = sorted(t.__qualname__\n\u001b[0;32m    116\u001b[0m                            for t in set(type(v) for v in values))\n\u001b[1;32m--> 117\u001b[1;33m             raise TypeError(\"Encoders require their input to be uniformly \"\n\u001b[0m\u001b[0;32m    118\u001b[0m                             f\"strings or numbers. Got {types}\")\n\u001b[0;32m    119\u001b[0m         \u001b[1;32mreturn\u001b[0m \u001b[0mres\u001b[0m\u001b[1;33m\u001b[0m\u001b[1;33m\u001b[0m\u001b[0m\n",
      "\u001b[1;31mTypeError\u001b[0m: Encoders require their input to be uniformly strings or numbers. Got ['float', 'str']"
     ]
    }
   ],
   "source": [
    "# Label encoder\n",
    "from sklearn.preprocessing import LabelEncoder\n",
    "lblE = LabelEncoder()\n",
    "for i in df_train1:\n",
    "    if df_train1[i].dtype == 'object':\n",
    "        lblE.fit(df_train1[i])\n",
    "        df_train1[i] = lblE.transform(df_train1[i])"
   ]
  },
  {
   "cell_type": "code",
   "execution_count": 184,
   "metadata": {},
   "outputs": [
    {
     "name": "stdout",
     "output_type": "stream",
     "text": [
      "Couldn't covert Distance to float\n",
      "Couldn't covert Fixed Oject Struck to float\n",
      "Couldn't covert Intersection Type to float\n"
     ]
    }
   ],
   "source": [
    "cols_to_remove = []\n",
    "\n",
    "for col in df_train1.columns:\n",
    "    try:\n",
    "        _ = df_train1[col].astype(float)\n",
    "    except ValueError:\n",
    "        print('Couldn\\'t covert %s to float' % col)\n",
    "        cols_to_remove.append(col)\n",
    "        pass\n",
    "\n",
    "# keep only the columns in df that do not contain string\n",
    "df_train = df_train1[[col for col in df_train1.columns if col not in cols_to_remove]]"
   ]
  },
  {
   "cell_type": "code",
   "execution_count": 185,
   "metadata": {},
   "outputs": [
    {
     "name": "stdout",
     "output_type": "stream",
     "text": [
      "['Driver Substance Abuse_x', 'Collision Type_x', 'Weather_x', 'Surface Condition_x', 'Light_x', 'Traffic Control_x', 'Non-Motorist Substance Abuse_x', 'At Fault', 'Driver Distracted By', 'Vehicle Body Type', 'Vehicle Movement', 'Vehicle Continuing Dir', 'Vehicle Going Dir', 'Speed Limit', 'Equipment Problems', 'Crash Date', 'Crash Time', 'Hit/Run', 'NonTraffic', 'Road Alignment', 'Road Division']\n"
     ]
    }
   ],
   "source": [
    "#print(New.columns.values)\n",
    "print(df_train.columns.tolist())"
   ]
  },
  {
   "cell_type": "code",
   "execution_count": 186,
   "metadata": {},
   "outputs": [
    {
     "name": "stdout",
     "output_type": "stream",
     "text": [
      "<class 'pandas.core.frame.DataFrame'>\n",
      "Int64Index: 9193 entries, 0 to 9192\n",
      "Data columns (total 21 columns):\n",
      "Driver Substance Abuse_x          9193 non-null int64\n",
      "Collision Type_x                  9193 non-null int64\n",
      "Weather_x                         9193 non-null int64\n",
      "Surface Condition_x               9193 non-null int64\n",
      "Light_x                           9193 non-null int64\n",
      "Traffic Control_x                 9193 non-null int32\n",
      "Non-Motorist Substance Abuse_x    9193 non-null int64\n",
      "At Fault                          9193 non-null int64\n",
      "Driver Distracted By              9193 non-null int64\n",
      "Vehicle Body Type                 9193 non-null int32\n",
      "Vehicle Movement                  9193 non-null int32\n",
      "Vehicle Continuing Dir            9193 non-null int32\n",
      "Vehicle Going Dir                 9193 non-null int32\n",
      "Speed Limit                       9193 non-null int64\n",
      "Equipment Problems                9193 non-null int32\n",
      "Crash Date                        9193 non-null int32\n",
      "Crash Time                        9193 non-null int64\n",
      "Hit/Run                           9193 non-null int64\n",
      "NonTraffic                        9193 non-null int64\n",
      "Road Alignment                    9193 non-null int64\n",
      "Road Division                     9193 non-null int64\n",
      "dtypes: int32(7), int64(14)\n",
      "memory usage: 1.3 MB\n"
     ]
    }
   ],
   "source": [
    "df_train.info()"
   ]
  },
  {
   "cell_type": "code",
   "execution_count": 137,
   "metadata": {},
   "outputs": [
    {
     "ename": "TypeError",
     "evalue": "Cannot compare types 'ndarray(dtype=int64)' and 'str'",
     "output_type": "error",
     "traceback": [
      "\u001b[1;31m---------------------------------------------------------------------------\u001b[0m",
      "\u001b[1;31mTypeError\u001b[0m                                 Traceback (most recent call last)",
      "\u001b[1;32m<ipython-input-137-2cc22cf5772b>\u001b[0m in \u001b[0;36m<module>\u001b[1;34m\u001b[0m\n\u001b[0;32m      5\u001b[0m                              \u001b[1;34m'POSSIBLE INJURY'\u001b[0m\u001b[1;33m:\u001b[0m \u001b[1;36m2\u001b[0m\u001b[1;33m,\u001b[0m\u001b[1;33m\u001b[0m\u001b[1;33m\u001b[0m\u001b[0m\n\u001b[0;32m      6\u001b[0m                             'SUSPECTED SERIOUS INJURY': 1}}\n\u001b[1;32m----> 7\u001b[1;33m \u001b[0mNew\u001b[0m\u001b[1;33m.\u001b[0m\u001b[0mreplace\u001b[0m\u001b[1;33m(\u001b[0m\u001b[0mencoding_Severity\u001b[0m\u001b[1;33m,\u001b[0m \u001b[0minplace\u001b[0m\u001b[1;33m=\u001b[0m\u001b[1;32mTrue\u001b[0m\u001b[1;33m)\u001b[0m\u001b[1;33m\u001b[0m\u001b[1;33m\u001b[0m\u001b[0m\n\u001b[0m\u001b[0;32m      8\u001b[0m \u001b[0mNew\u001b[0m\u001b[1;33m[\u001b[0m\u001b[1;34m'Injury Severity'\u001b[0m\u001b[1;33m]\u001b[0m\u001b[1;33m.\u001b[0m\u001b[0mvalue_counts\u001b[0m\u001b[1;33m(\u001b[0m\u001b[1;33m)\u001b[0m\u001b[1;33m\u001b[0m\u001b[1;33m\u001b[0m\u001b[0m\n",
      "\u001b[1;32m~\\Anaconda3\\lib\\site-packages\\pandas\\core\\frame.py\u001b[0m in \u001b[0;36mreplace\u001b[1;34m(self, to_replace, value, inplace, limit, regex, method)\u001b[0m\n\u001b[0;32m   4040\u001b[0m                                               \u001b[0mvalue\u001b[0m\u001b[1;33m=\u001b[0m\u001b[0mvalue\u001b[0m\u001b[1;33m,\u001b[0m \u001b[0minplace\u001b[0m\u001b[1;33m=\u001b[0m\u001b[0minplace\u001b[0m\u001b[1;33m,\u001b[0m\u001b[1;33m\u001b[0m\u001b[1;33m\u001b[0m\u001b[0m\n\u001b[0;32m   4041\u001b[0m                                               \u001b[0mlimit\u001b[0m\u001b[1;33m=\u001b[0m\u001b[0mlimit\u001b[0m\u001b[1;33m,\u001b[0m \u001b[0mregex\u001b[0m\u001b[1;33m=\u001b[0m\u001b[0mregex\u001b[0m\u001b[1;33m,\u001b[0m\u001b[1;33m\u001b[0m\u001b[1;33m\u001b[0m\u001b[0m\n\u001b[1;32m-> 4042\u001b[1;33m                                               method=method)\n\u001b[0m\u001b[0;32m   4043\u001b[0m \u001b[1;33m\u001b[0m\u001b[0m\n\u001b[0;32m   4044\u001b[0m     \u001b[1;33m@\u001b[0m\u001b[0mAppender\u001b[0m\u001b[1;33m(\u001b[0m\u001b[0m_shared_docs\u001b[0m\u001b[1;33m[\u001b[0m\u001b[1;34m'shift'\u001b[0m\u001b[1;33m]\u001b[0m \u001b[1;33m%\u001b[0m \u001b[0m_shared_doc_kwargs\u001b[0m\u001b[1;33m)\u001b[0m\u001b[1;33m\u001b[0m\u001b[1;33m\u001b[0m\u001b[0m\n",
      "\u001b[1;32m~\\Anaconda3\\lib\\site-packages\\pandas\\core\\generic.py\u001b[0m in \u001b[0;36mreplace\u001b[1;34m(self, to_replace, value, inplace, limit, regex, method)\u001b[0m\n\u001b[0;32m   6496\u001b[0m \u001b[1;33m\u001b[0m\u001b[0m\n\u001b[0;32m   6497\u001b[0m             return self.replace(to_replace, value, inplace=inplace,\n\u001b[1;32m-> 6498\u001b[1;33m                                 limit=limit, regex=regex)\n\u001b[0m\u001b[0;32m   6499\u001b[0m         \u001b[1;32melse\u001b[0m\u001b[1;33m:\u001b[0m\u001b[1;33m\u001b[0m\u001b[1;33m\u001b[0m\u001b[0m\n\u001b[0;32m   6500\u001b[0m \u001b[1;33m\u001b[0m\u001b[0m\n",
      "\u001b[1;32m~\\Anaconda3\\lib\\site-packages\\pandas\\core\\frame.py\u001b[0m in \u001b[0;36mreplace\u001b[1;34m(self, to_replace, value, inplace, limit, regex, method)\u001b[0m\n\u001b[0;32m   4040\u001b[0m                                               \u001b[0mvalue\u001b[0m\u001b[1;33m=\u001b[0m\u001b[0mvalue\u001b[0m\u001b[1;33m,\u001b[0m \u001b[0minplace\u001b[0m\u001b[1;33m=\u001b[0m\u001b[0minplace\u001b[0m\u001b[1;33m,\u001b[0m\u001b[1;33m\u001b[0m\u001b[1;33m\u001b[0m\u001b[0m\n\u001b[0;32m   4041\u001b[0m                                               \u001b[0mlimit\u001b[0m\u001b[1;33m=\u001b[0m\u001b[0mlimit\u001b[0m\u001b[1;33m,\u001b[0m \u001b[0mregex\u001b[0m\u001b[1;33m=\u001b[0m\u001b[0mregex\u001b[0m\u001b[1;33m,\u001b[0m\u001b[1;33m\u001b[0m\u001b[1;33m\u001b[0m\u001b[0m\n\u001b[1;32m-> 4042\u001b[1;33m                                               method=method)\n\u001b[0m\u001b[0;32m   4043\u001b[0m \u001b[1;33m\u001b[0m\u001b[0m\n\u001b[0;32m   4044\u001b[0m     \u001b[1;33m@\u001b[0m\u001b[0mAppender\u001b[0m\u001b[1;33m(\u001b[0m\u001b[0m_shared_docs\u001b[0m\u001b[1;33m[\u001b[0m\u001b[1;34m'shift'\u001b[0m\u001b[1;33m]\u001b[0m \u001b[1;33m%\u001b[0m \u001b[0m_shared_doc_kwargs\u001b[0m\u001b[1;33m)\u001b[0m\u001b[1;33m\u001b[0m\u001b[1;33m\u001b[0m\u001b[0m\n",
      "\u001b[1;32m~\\Anaconda3\\lib\\site-packages\\pandas\\core\\generic.py\u001b[0m in \u001b[0;36mreplace\u001b[1;34m(self, to_replace, value, inplace, limit, regex, method)\u001b[0m\n\u001b[0;32m   6515\u001b[0m                                                     \u001b[0mvalue\u001b[0m\u001b[1;33m=\u001b[0m\u001b[0mvalue\u001b[0m\u001b[1;33m[\u001b[0m\u001b[0mc\u001b[0m\u001b[1;33m]\u001b[0m\u001b[1;33m,\u001b[0m\u001b[1;33m\u001b[0m\u001b[1;33m\u001b[0m\u001b[0m\n\u001b[0;32m   6516\u001b[0m                                                     \u001b[0minplace\u001b[0m\u001b[1;33m=\u001b[0m\u001b[1;32mFalse\u001b[0m\u001b[1;33m,\u001b[0m\u001b[1;33m\u001b[0m\u001b[1;33m\u001b[0m\u001b[0m\n\u001b[1;32m-> 6517\u001b[1;33m                                                     regex=regex)\n\u001b[0m\u001b[0;32m   6518\u001b[0m                     \u001b[1;32mreturn\u001b[0m \u001b[1;32mNone\u001b[0m \u001b[1;32mif\u001b[0m \u001b[0minplace\u001b[0m \u001b[1;32melse\u001b[0m \u001b[0mres\u001b[0m\u001b[1;33m\u001b[0m\u001b[1;33m\u001b[0m\u001b[0m\n\u001b[0;32m   6519\u001b[0m \u001b[1;33m\u001b[0m\u001b[0m\n",
      "\u001b[1;32m~\\Anaconda3\\lib\\site-packages\\pandas\\core\\series.py\u001b[0m in \u001b[0;36mreplace\u001b[1;34m(self, to_replace, value, inplace, limit, regex, method)\u001b[0m\n\u001b[0;32m   3843\u001b[0m         return super(Series, self).replace(to_replace=to_replace, value=value,\n\u001b[0;32m   3844\u001b[0m                                            \u001b[0minplace\u001b[0m\u001b[1;33m=\u001b[0m\u001b[0minplace\u001b[0m\u001b[1;33m,\u001b[0m \u001b[0mlimit\u001b[0m\u001b[1;33m=\u001b[0m\u001b[0mlimit\u001b[0m\u001b[1;33m,\u001b[0m\u001b[1;33m\u001b[0m\u001b[1;33m\u001b[0m\u001b[0m\n\u001b[1;32m-> 3845\u001b[1;33m                                            regex=regex, method=method)\n\u001b[0m\u001b[0;32m   3846\u001b[0m \u001b[1;33m\u001b[0m\u001b[0m\n\u001b[0;32m   3847\u001b[0m     \u001b[1;33m@\u001b[0m\u001b[0mAppender\u001b[0m\u001b[1;33m(\u001b[0m\u001b[0mgeneric\u001b[0m\u001b[1;33m.\u001b[0m\u001b[0m_shared_docs\u001b[0m\u001b[1;33m[\u001b[0m\u001b[1;34m'shift'\u001b[0m\u001b[1;33m]\u001b[0m \u001b[1;33m%\u001b[0m \u001b[0m_shared_doc_kwargs\u001b[0m\u001b[1;33m)\u001b[0m\u001b[1;33m\u001b[0m\u001b[1;33m\u001b[0m\u001b[0m\n",
      "\u001b[1;32m~\\Anaconda3\\lib\\site-packages\\pandas\\core\\generic.py\u001b[0m in \u001b[0;36mreplace\u001b[1;34m(self, to_replace, value, inplace, limit, regex, method)\u001b[0m\n\u001b[0;32m   6545\u001b[0m                                                        \u001b[0mdest_list\u001b[0m\u001b[1;33m=\u001b[0m\u001b[0mvalue\u001b[0m\u001b[1;33m,\u001b[0m\u001b[1;33m\u001b[0m\u001b[1;33m\u001b[0m\u001b[0m\n\u001b[0;32m   6546\u001b[0m                                                        \u001b[0minplace\u001b[0m\u001b[1;33m=\u001b[0m\u001b[0minplace\u001b[0m\u001b[1;33m,\u001b[0m\u001b[1;33m\u001b[0m\u001b[1;33m\u001b[0m\u001b[0m\n\u001b[1;32m-> 6547\u001b[1;33m                                                        regex=regex)\n\u001b[0m\u001b[0;32m   6548\u001b[0m \u001b[1;33m\u001b[0m\u001b[0m\n\u001b[0;32m   6549\u001b[0m                 \u001b[1;32melse\u001b[0m\u001b[1;33m:\u001b[0m  \u001b[1;31m# [NA, ''] -> 0\u001b[0m\u001b[1;33m\u001b[0m\u001b[1;33m\u001b[0m\u001b[0m\n",
      "\u001b[1;32m~\\Anaconda3\\lib\\site-packages\\pandas\\core\\internals\\managers.py\u001b[0m in \u001b[0;36mreplace_list\u001b[1;34m(self, src_list, dest_list, inplace, regex)\u001b[0m\n\u001b[0;32m    557\u001b[0m             \u001b[1;32mreturn\u001b[0m \u001b[0m_compare_or_regex_search\u001b[0m\u001b[1;33m(\u001b[0m\u001b[0mvalues\u001b[0m\u001b[1;33m,\u001b[0m \u001b[0ms\u001b[0m\u001b[1;33m,\u001b[0m \u001b[0mregex\u001b[0m\u001b[1;33m)\u001b[0m\u001b[1;33m\u001b[0m\u001b[1;33m\u001b[0m\u001b[0m\n\u001b[0;32m    558\u001b[0m \u001b[1;33m\u001b[0m\u001b[0m\n\u001b[1;32m--> 559\u001b[1;33m         \u001b[0mmasks\u001b[0m \u001b[1;33m=\u001b[0m \u001b[1;33m[\u001b[0m\u001b[0mcomp\u001b[0m\u001b[1;33m(\u001b[0m\u001b[0ms\u001b[0m\u001b[1;33m,\u001b[0m \u001b[0mregex\u001b[0m\u001b[1;33m)\u001b[0m \u001b[1;32mfor\u001b[0m \u001b[0mi\u001b[0m\u001b[1;33m,\u001b[0m \u001b[0ms\u001b[0m \u001b[1;32min\u001b[0m \u001b[0menumerate\u001b[0m\u001b[1;33m(\u001b[0m\u001b[0msrc_list\u001b[0m\u001b[1;33m)\u001b[0m\u001b[1;33m]\u001b[0m\u001b[1;33m\u001b[0m\u001b[1;33m\u001b[0m\u001b[0m\n\u001b[0m\u001b[0;32m    560\u001b[0m \u001b[1;33m\u001b[0m\u001b[0m\n\u001b[0;32m    561\u001b[0m         \u001b[0mresult_blocks\u001b[0m \u001b[1;33m=\u001b[0m \u001b[1;33m[\u001b[0m\u001b[1;33m]\u001b[0m\u001b[1;33m\u001b[0m\u001b[1;33m\u001b[0m\u001b[0m\n",
      "\u001b[1;32m~\\Anaconda3\\lib\\site-packages\\pandas\\core\\internals\\managers.py\u001b[0m in \u001b[0;36m<listcomp>\u001b[1;34m(.0)\u001b[0m\n\u001b[0;32m    557\u001b[0m             \u001b[1;32mreturn\u001b[0m \u001b[0m_compare_or_regex_search\u001b[0m\u001b[1;33m(\u001b[0m\u001b[0mvalues\u001b[0m\u001b[1;33m,\u001b[0m \u001b[0ms\u001b[0m\u001b[1;33m,\u001b[0m \u001b[0mregex\u001b[0m\u001b[1;33m)\u001b[0m\u001b[1;33m\u001b[0m\u001b[1;33m\u001b[0m\u001b[0m\n\u001b[0;32m    558\u001b[0m \u001b[1;33m\u001b[0m\u001b[0m\n\u001b[1;32m--> 559\u001b[1;33m         \u001b[0mmasks\u001b[0m \u001b[1;33m=\u001b[0m \u001b[1;33m[\u001b[0m\u001b[0mcomp\u001b[0m\u001b[1;33m(\u001b[0m\u001b[0ms\u001b[0m\u001b[1;33m,\u001b[0m \u001b[0mregex\u001b[0m\u001b[1;33m)\u001b[0m \u001b[1;32mfor\u001b[0m \u001b[0mi\u001b[0m\u001b[1;33m,\u001b[0m \u001b[0ms\u001b[0m \u001b[1;32min\u001b[0m \u001b[0menumerate\u001b[0m\u001b[1;33m(\u001b[0m\u001b[0msrc_list\u001b[0m\u001b[1;33m)\u001b[0m\u001b[1;33m]\u001b[0m\u001b[1;33m\u001b[0m\u001b[1;33m\u001b[0m\u001b[0m\n\u001b[0m\u001b[0;32m    560\u001b[0m \u001b[1;33m\u001b[0m\u001b[0m\n\u001b[0;32m    561\u001b[0m         \u001b[0mresult_blocks\u001b[0m \u001b[1;33m=\u001b[0m \u001b[1;33m[\u001b[0m\u001b[1;33m]\u001b[0m\u001b[1;33m\u001b[0m\u001b[1;33m\u001b[0m\u001b[0m\n",
      "\u001b[1;32m~\\Anaconda3\\lib\\site-packages\\pandas\\core\\internals\\managers.py\u001b[0m in \u001b[0;36mcomp\u001b[1;34m(s, regex)\u001b[0m\n\u001b[0;32m    555\u001b[0m                 return _compare_or_regex_search(maybe_convert_objects(values),\n\u001b[0;32m    556\u001b[0m                                                 getattr(s, 'asm8'), regex)\n\u001b[1;32m--> 557\u001b[1;33m             \u001b[1;32mreturn\u001b[0m \u001b[0m_compare_or_regex_search\u001b[0m\u001b[1;33m(\u001b[0m\u001b[0mvalues\u001b[0m\u001b[1;33m,\u001b[0m \u001b[0ms\u001b[0m\u001b[1;33m,\u001b[0m \u001b[0mregex\u001b[0m\u001b[1;33m)\u001b[0m\u001b[1;33m\u001b[0m\u001b[1;33m\u001b[0m\u001b[0m\n\u001b[0m\u001b[0;32m    558\u001b[0m \u001b[1;33m\u001b[0m\u001b[0m\n\u001b[0;32m    559\u001b[0m         \u001b[0mmasks\u001b[0m \u001b[1;33m=\u001b[0m \u001b[1;33m[\u001b[0m\u001b[0mcomp\u001b[0m\u001b[1;33m(\u001b[0m\u001b[0ms\u001b[0m\u001b[1;33m,\u001b[0m \u001b[0mregex\u001b[0m\u001b[1;33m)\u001b[0m \u001b[1;32mfor\u001b[0m \u001b[0mi\u001b[0m\u001b[1;33m,\u001b[0m \u001b[0ms\u001b[0m \u001b[1;32min\u001b[0m \u001b[0menumerate\u001b[0m\u001b[1;33m(\u001b[0m\u001b[0msrc_list\u001b[0m\u001b[1;33m)\u001b[0m\u001b[1;33m]\u001b[0m\u001b[1;33m\u001b[0m\u001b[1;33m\u001b[0m\u001b[0m\n",
      "\u001b[1;32m~\\Anaconda3\\lib\\site-packages\\pandas\\core\\internals\\managers.py\u001b[0m in \u001b[0;36m_compare_or_regex_search\u001b[1;34m(a, b, regex)\u001b[0m\n\u001b[0;32m   1949\u001b[0m         raise TypeError(\n\u001b[0;32m   1950\u001b[0m             \"Cannot compare types {a!r} and {b!r}\".format(a=type_names[0],\n\u001b[1;32m-> 1951\u001b[1;33m                                                           b=type_names[1]))\n\u001b[0m\u001b[0;32m   1952\u001b[0m     \u001b[1;32mreturn\u001b[0m \u001b[0mresult\u001b[0m\u001b[1;33m\u001b[0m\u001b[1;33m\u001b[0m\u001b[0m\n\u001b[0;32m   1953\u001b[0m \u001b[1;33m\u001b[0m\u001b[0m\n",
      "\u001b[1;31mTypeError\u001b[0m: Cannot compare types 'ndarray(dtype=int64)' and 'str'"
     ]
    }
   ],
   "source": [
    "encoding_Severity = {\"Injury Severity\":                      \n",
    "                            {\"NO APPARENT INJURY\": 3,\n",
    "                             \"FATAL INJURY\": 1,\n",
    "                             'SUSPECTED MINOR INJURY': 2,\n",
    "                             'POSSIBLE INJURY': 2,\n",
    "                            'SUSPECTED SERIOUS INJURY': 1}}\n",
    "New.replace(encoding_Severity, inplace=True)\n",
    "New['Injury Severity'].value_counts()"
   ]
  },
  {
   "cell_type": "code",
   "execution_count": 100,
   "metadata": {},
   "outputs": [
    {
     "data": {
      "text/plain": [
       "3    7349\n",
       "2    1677\n",
       "1     167\n",
       "Name: Injury Severity, dtype: int64"
      ]
     },
     "execution_count": 100,
     "metadata": {},
     "output_type": "execute_result"
    }
   ],
   "source": [
    "New['Injury Severity'].value_counts()"
   ]
  },
  {
   "cell_type": "code",
   "execution_count": 101,
   "metadata": {},
   "outputs": [],
   "source": [
    "df_test = New[['Injury Severity']]"
   ]
  },
  {
   "cell_type": "code",
   "execution_count": 138,
   "metadata": {},
   "outputs": [],
   "source": [
    "# Splitting the data into train and test sets (automatically uses stratified sampling by labels)\n",
    "from sklearn.model_selection import train_test_split\n",
    "X_train, X_test, y_train, y_test = train_test_split(df_train, df_test, test_size=0.3)"
   ]
  },
  {
   "cell_type": "code",
   "execution_count": 187,
   "metadata": {},
   "outputs": [],
   "source": [
    "from sklearn.model_selection import train_test_split\n",
    "X_train, X_test, y_train, y_test = train_test_split(df_train, df_test, test_size=0.25, random_state=42)"
   ]
  },
  {
   "cell_type": "code",
   "execution_count": 188,
   "metadata": {},
   "outputs": [
    {
     "name": "stderr",
     "output_type": "stream",
     "text": [
      "C:\\Users\\ywei1\\Anaconda3\\lib\\site-packages\\sklearn\\utils\\validation.py:72: DataConversionWarning: A column-vector y was passed when a 1d array was expected. Please change the shape of y to (n_samples, ), for example using ravel().\n",
      "  return f(**kwargs)\n"
     ]
    },
    {
     "name": "stdout",
     "output_type": "stream",
     "text": [
      "[[   0    0   51]\n",
      " [   0    0  417]\n",
      " [   0    0 1831]]\n",
      "              precision    recall  f1-score   support\n",
      "\n",
      "           1       0.00      0.00      0.00        51\n",
      "           2       0.00      0.00      0.00       417\n",
      "           3       0.80      1.00      0.89      1831\n",
      "\n",
      "    accuracy                           0.80      2299\n",
      "   macro avg       0.27      0.33      0.30      2299\n",
      "weighted avg       0.63      0.80      0.71      2299\n",
      "\n",
      "Accuracy: 0.7964332318399304\n"
     ]
    },
    {
     "name": "stderr",
     "output_type": "stream",
     "text": [
      "C:\\Users\\ywei1\\Anaconda3\\lib\\site-packages\\sklearn\\linear_model\\_logistic.py:764: ConvergenceWarning: lbfgs failed to converge (status=1):\n",
      "STOP: TOTAL NO. of ITERATIONS REACHED LIMIT.\n",
      "\n",
      "Increase the number of iterations (max_iter) or scale the data as shown in:\n",
      "    https://scikit-learn.org/stable/modules/preprocessing.html\n",
      "Please also refer to the documentation for alternative solver options:\n",
      "    https://scikit-learn.org/stable/modules/linear_model.html#logistic-regression\n",
      "  extra_warning_msg=_LOGISTIC_SOLVER_CONVERGENCE_MSG)\n",
      "C:\\Users\\ywei1\\Anaconda3\\lib\\site-packages\\sklearn\\metrics\\_classification.py:1221: UndefinedMetricWarning: Precision and F-score are ill-defined and being set to 0.0 in labels with no predicted samples. Use `zero_division` parameter to control this behavior.\n",
      "  _warn_prf(average, modifier, msg_start, len(result))\n",
      "C:\\Users\\ywei1\\Anaconda3\\lib\\site-packages\\sklearn\\metrics\\_classification.py:1221: UndefinedMetricWarning: Precision and F-score are ill-defined and being set to 0.0 in labels with no predicted samples. Use `zero_division` parameter to control this behavior.\n",
      "  _warn_prf(average, modifier, msg_start, len(result))\n",
      "C:\\Users\\ywei1\\Anaconda3\\lib\\site-packages\\sklearn\\metrics\\_classification.py:1221: UndefinedMetricWarning: Precision and F-score are ill-defined and being set to 0.0 in labels with no predicted samples. Use `zero_division` parameter to control this behavior.\n",
      "  _warn_prf(average, modifier, msg_start, len(result))\n"
     ]
    }
   ],
   "source": [
    "from sklearn.linear_model import LogisticRegression\n",
    "logisticRegr = LogisticRegression()\n",
    "logisticRegr.fit(X_train, y_train)\n",
    "y_pred = logisticRegr.predict(X_test)\n",
    "print(confusion_matrix(y_test, y_pred))  \n",
    "print(classification_report(y_test, y_pred)) \n",
    "print(\"Accuracy:\",metrics.accuracy_score(y_test, y_pred))"
   ]
  },
  {
   "cell_type": "code",
   "execution_count": 189,
   "metadata": {},
   "outputs": [
    {
     "name": "stderr",
     "output_type": "stream",
     "text": [
      "C:\\Users\\ywei1\\Anaconda3\\lib\\site-packages\\sklearn\\utils\\validation.py:72: DataConversionWarning: A column-vector y was passed when a 1d array was expected. Please change the shape of y to (n_samples, ), for example using ravel().\n",
      "  return f(**kwargs)\n"
     ]
    },
    {
     "name": "stdout",
     "output_type": "stream",
     "text": [
      "              precision    recall  f1-score   support\n",
      "\n",
      "           1       0.00      0.00      0.00        51\n",
      "           2       0.00      0.00      0.00       417\n",
      "           3       0.80      1.00      0.89      1831\n",
      "\n",
      "    accuracy                           0.80      2299\n",
      "   macro avg       0.27      0.33      0.30      2299\n",
      "weighted avg       0.63      0.80      0.71      2299\n",
      "\n",
      "Accuracy: 0.7964332318399304\n"
     ]
    },
    {
     "name": "stderr",
     "output_type": "stream",
     "text": [
      "C:\\Users\\ywei1\\Anaconda3\\lib\\site-packages\\sklearn\\linear_model\\_logistic.py:764: ConvergenceWarning: lbfgs failed to converge (status=1):\n",
      "STOP: TOTAL NO. of ITERATIONS REACHED LIMIT.\n",
      "\n",
      "Increase the number of iterations (max_iter) or scale the data as shown in:\n",
      "    https://scikit-learn.org/stable/modules/preprocessing.html\n",
      "Please also refer to the documentation for alternative solver options:\n",
      "    https://scikit-learn.org/stable/modules/linear_model.html#logistic-regression\n",
      "  extra_warning_msg=_LOGISTIC_SOLVER_CONVERGENCE_MSG)\n",
      "C:\\Users\\ywei1\\Anaconda3\\lib\\site-packages\\sklearn\\metrics\\_classification.py:1221: UndefinedMetricWarning: Precision and F-score are ill-defined and being set to 0.0 in labels with no predicted samples. Use `zero_division` parameter to control this behavior.\n",
      "  _warn_prf(average, modifier, msg_start, len(result))\n",
      "C:\\Users\\ywei1\\Anaconda3\\lib\\site-packages\\sklearn\\metrics\\_classification.py:1221: UndefinedMetricWarning: Precision and F-score are ill-defined and being set to 0.0 in labels with no predicted samples. Use `zero_division` parameter to control this behavior.\n",
      "  _warn_prf(average, modifier, msg_start, len(result))\n",
      "C:\\Users\\ywei1\\Anaconda3\\lib\\site-packages\\sklearn\\metrics\\_classification.py:1221: UndefinedMetricWarning: Precision and F-score are ill-defined and being set to 0.0 in labels with no predicted samples. Use `zero_division` parameter to control this behavior.\n",
      "  _warn_prf(average, modifier, msg_start, len(result))\n"
     ]
    }
   ],
   "source": [
    "from sklearn.linear_model import LogisticRegression\n",
    "logisticRegr = LogisticRegression()\n",
    "logisticRegr.fit(X_train, y_train)\n",
    "y_pred = logisticRegr.predict(X_test)\n",
    "#print(confusion_matrix(y_test, y_pred))  \n",
    "print(classification_report(y_test, y_pred)) \n",
    "print(\"Accuracy:\",metrics.accuracy_score(y_test, y_pred))"
   ]
  },
  {
   "cell_type": "code",
   "execution_count": 190,
   "metadata": {
    "scrolled": true
   },
   "outputs": [
    {
     "name": "stdout",
     "output_type": "stream",
     "text": [
      "Train: 0.800406150275602\n",
      "Test: 0.7964332318399304\n",
      "              precision    recall  f1-score   support\n",
      "\n",
      "           1       0.00      0.00      0.00       116\n",
      "           2       0.00      0.00      0.00      1260\n",
      "           3       0.80      1.00      0.89      5518\n",
      "\n",
      "    accuracy                           0.80      6894\n",
      "   macro avg       0.27      0.33      0.30      6894\n",
      "weighted avg       0.64      0.80      0.71      6894\n",
      "\n",
      "              precision    recall  f1-score   support\n",
      "\n",
      "           1       0.00      0.00      0.00        51\n",
      "           2       0.00      0.00      0.00       417\n",
      "           3       0.80      1.00      0.89      1831\n",
      "\n",
      "    accuracy                           0.80      2299\n",
      "   macro avg       0.27      0.33      0.30      2299\n",
      "weighted avg       0.63      0.80      0.71      2299\n",
      "\n"
     ]
    },
    {
     "name": "stderr",
     "output_type": "stream",
     "text": [
      "C:\\Users\\ywei1\\Anaconda3\\lib\\site-packages\\sklearn\\metrics\\_classification.py:1221: UndefinedMetricWarning: Precision and F-score are ill-defined and being set to 0.0 in labels with no predicted samples. Use `zero_division` parameter to control this behavior.\n",
      "  _warn_prf(average, modifier, msg_start, len(result))\n",
      "C:\\Users\\ywei1\\Anaconda3\\lib\\site-packages\\sklearn\\metrics\\_classification.py:1221: UndefinedMetricWarning: Precision and F-score are ill-defined and being set to 0.0 in labels with no predicted samples. Use `zero_division` parameter to control this behavior.\n",
      "  _warn_prf(average, modifier, msg_start, len(result))\n",
      "C:\\Users\\ywei1\\Anaconda3\\lib\\site-packages\\sklearn\\metrics\\_classification.py:1221: UndefinedMetricWarning: Precision and F-score are ill-defined and being set to 0.0 in labels with no predicted samples. Use `zero_division` parameter to control this behavior.\n",
      "  _warn_prf(average, modifier, msg_start, len(result))\n",
      "C:\\Users\\ywei1\\Anaconda3\\lib\\site-packages\\sklearn\\metrics\\_classification.py:1221: UndefinedMetricWarning: Precision and F-score are ill-defined and being set to 0.0 in labels with no predicted samples. Use `zero_division` parameter to control this behavior.\n",
      "  _warn_prf(average, modifier, msg_start, len(result))\n",
      "C:\\Users\\ywei1\\Anaconda3\\lib\\site-packages\\sklearn\\metrics\\_classification.py:1221: UndefinedMetricWarning: Precision and F-score are ill-defined and being set to 0.0 in labels with no predicted samples. Use `zero_division` parameter to control this behavior.\n",
      "  _warn_prf(average, modifier, msg_start, len(result))\n",
      "C:\\Users\\ywei1\\Anaconda3\\lib\\site-packages\\sklearn\\metrics\\_classification.py:1221: UndefinedMetricWarning: Precision and F-score are ill-defined and being set to 0.0 in labels with no predicted samples. Use `zero_division` parameter to control this behavior.\n",
      "  _warn_prf(average, modifier, msg_start, len(result))\n"
     ]
    }
   ],
   "source": [
    "print(\"Train:\", logisticRegr.score(X_train, y_train))\n",
    "print(\"Test:\", logisticRegr.score(X_test, y_test))\n",
    "\n",
    "lr_y_preds_train = logisticRegr.predict(X_train)\n",
    "print(classification_report(y_train, lr_y_preds_train, target_names=['1', '2',\"3\"]))\n",
    "\n",
    "lr_y_preds_test = logisticRegr.predict(X_test)\n",
    "print(classification_report(y_test, lr_y_preds_test, target_names=['1', '2','3']))"
   ]
  },
  {
   "cell_type": "code",
   "execution_count": 191,
   "metadata": {},
   "outputs": [
    {
     "name": "stderr",
     "output_type": "stream",
     "text": [
      "C:\\Users\\ywei1\\Anaconda3\\lib\\site-packages\\ipykernel_launcher.py:5: DataConversionWarning: A column-vector y was passed when a 1d array was expected. Please change the shape of y to (n_samples,), for example using ravel().\n",
      "  \"\"\"\n"
     ]
    },
    {
     "name": "stdout",
     "output_type": "stream",
     "text": [
      "Accuracy: 0.7881687690300131\n",
      "[[   3    5   43]\n",
      " [   0   34  383]\n",
      " [   0   56 1775]]\n",
      "              precision    recall  f1-score   support\n",
      "\n",
      "           1       1.00      0.06      0.11        51\n",
      "           2       0.36      0.08      0.13       417\n",
      "           3       0.81      0.97      0.88      1831\n",
      "\n",
      "    accuracy                           0.79      2299\n",
      "   macro avg       0.72      0.37      0.37      2299\n",
      "weighted avg       0.73      0.79      0.73      2299\n",
      "\n"
     ]
    }
   ],
   "source": [
    "from sklearn.ensemble import RandomForestClassifier\n",
    "#class_weight = dict({2:1, 1:15, 0:50})\n",
    "rdf = RandomForestClassifier(n_estimators=300,random_state=35)\n",
    "\n",
    "rdf.fit(X_train,y_train)\n",
    "\n",
    "y_pred=rdf.predict(X_test)\n",
    "\n",
    "#Import scikit-learn metrics module for accuracy calculation\n",
    "from sklearn import metrics\n",
    "# Model Accuracy, how often is the classifier correct?\n",
    "print(\"Accuracy:\",metrics.accuracy_score(y_test, y_pred))\n",
    "\n",
    "from sklearn import metrics\n",
    "from sklearn.metrics import classification_report, confusion_matrix  \n",
    "print(confusion_matrix(y_test, y_pred))  \n",
    "print(classification_report(y_test, y_pred)) "
   ]
  },
  {
   "cell_type": "code",
   "execution_count": 192,
   "metadata": {},
   "outputs": [
    {
     "name": "stdout",
     "output_type": "stream",
     "text": [
      "[[   3    5   43]\n",
      " [   0   34  383]\n",
      " [   0   56 1775]]\n",
      "              precision    recall  f1-score   support\n",
      "\n",
      "           1       1.00      0.06      0.11        51\n",
      "           2       0.36      0.08      0.13       417\n",
      "           3       0.81      0.97      0.88      1831\n",
      "\n",
      "    accuracy                           0.79      2299\n",
      "   macro avg       0.72      0.37      0.37      2299\n",
      "weighted avg       0.73      0.79      0.73      2299\n",
      "\n",
      "Accuracy: 0.7881687690300131\n"
     ]
    }
   ],
   "source": [
    "from sklearn import metrics\n",
    "from sklearn.metrics import classification_report, confusion_matrix  \n",
    "print(confusion_matrix(y_test, y_pred))  \n",
    "print(classification_report(y_test, y_pred)) \n",
    "print(\"Accuracy:\",metrics.accuracy_score(y_test, y_pred))\n"
   ]
  },
  {
   "cell_type": "code",
   "execution_count": 196,
   "metadata": {},
   "outputs": [
    {
     "name": "stderr",
     "output_type": "stream",
     "text": [
      "C:\\Users\\ywei1\\Anaconda3\\lib\\site-packages\\sklearn\\utils\\validation.py:72: DataConversionWarning: A column-vector y was passed when a 1d array was expected. Please change the shape of y to (n_samples, ), for example using ravel().\n",
      "  return f(**kwargs)\n",
      "C:\\Users\\ywei1\\Anaconda3\\lib\\site-packages\\sklearn\\utils\\validation.py:72: DataConversionWarning: A column-vector y was passed when a 1d array was expected. Please change the shape of y to (n_samples, ), for example using ravel().\n",
      "  return f(**kwargs)\n"
     ]
    },
    {
     "name": "stdout",
     "output_type": "stream",
     "text": [
      "Accuracy: 0.7833840800347978\n",
      "[[   6   15   30]\n",
      " [   1   55  361]\n",
      " [   3   88 1740]]\n",
      "              precision    recall  f1-score   support\n",
      "\n",
      "           1       0.60      0.12      0.20        51\n",
      "           2       0.35      0.13      0.19       417\n",
      "           3       0.82      0.95      0.88      1831\n",
      "\n",
      "    accuracy                           0.78      2299\n",
      "   macro avg       0.59      0.40      0.42      2299\n",
      "weighted avg       0.73      0.78      0.74      2299\n",
      "\n"
     ]
    }
   ],
   "source": [
    "from sklearn.metrics import classification_report, confusion_matrix\n",
    "from imblearn.over_sampling import SMOTE\n",
    "from xgboost import XGBClassifier, plot_importance, plot_tree\n",
    "import itertools\n",
    "\n",
    "xgb = XGBClassifier(random_state=42)\n",
    "\n",
    "xgb.fit(X_train, y_train)\n",
    "\n",
    "\n",
    "y_pred=xgb.predict(X_test)\n",
    "\n",
    "#Import scikit-learn metrics module for accuracy calculation\n",
    "from sklearn import metrics\n",
    "# Model Accuracy, how often is the classifier correct?\n",
    "print(\"Accuracy:\",metrics.accuracy_score(y_test, y_pred))\n",
    "\n",
    "from sklearn import metrics\n",
    "from sklearn.metrics import classification_report, confusion_matrix  \n",
    "print(confusion_matrix(y_test, y_pred))  \n",
    "print(classification_report(y_test, y_pred)) \n",
    "\n"
   ]
  },
  {
   "cell_type": "code",
   "execution_count": 205,
   "metadata": {},
   "outputs": [
    {
     "data": {
      "image/png": "[encoded data removed]",
      "text/plain": [
       "<Figure size 720x864 with 1 Axes>"
      ]
     },
     "metadata": {
      "needs_background": "light"
     },
     "output_type": "display_data"
    }
   ],
   "source": [
    "# Get feature importance from xgb model\n",
    "ft_weights = pd.DataFrame(xgb.feature_importances_, columns=['weight'], index=X_train.columns)\n",
    "ft_weights.sort_values('weight', inplace=True)\n",
    "\n",
    "# Plotting feature importances\n",
    "plt.figure(figsize=(10,12))\n",
    "plt.barh(ft_weights.index, ft_weights.weight, align='center') \n",
    "plt.title(\"Feature importances in the XGBoost model\", fontsize=14)\n",
    "plt.xlabel(\"Feature importance\")\n",
    "plt.margins(y=0.01)\n",
    "plt.show()"
   ]
  },
  {
   "cell_type": "code",
   "execution_count": 197,
   "metadata": {},
   "outputs": [],
   "source": [
    "from sklearn.ensemble import RandomForestClassifier\n",
    "#class_weight = dict({2:1, 1:15, 0:50})\n",
    "rdf1 = RandomForestClassifier(bootstrap=True,\n",
    "            class_weight=\"balanced_subsample\", \n",
    "            criterion='gini',\n",
    "            max_depth=8, max_features='auto', max_leaf_nodes=None,\n",
    "            min_impurity_decrease=0.0, min_impurity_split=None,\n",
    "            min_samples_leaf=4, min_samples_split=10,\n",
    "            min_weight_fraction_leaf=0.0, n_estimators=300,\n",
    "            oob_score=True,\n",
    "            random_state=35,\n",
    "            verbose=0, warm_start=False)"
   ]
  },
  {
   "cell_type": "code",
   "execution_count": 198,
   "metadata": {},
   "outputs": [
    {
     "name": "stderr",
     "output_type": "stream",
     "text": [
      "C:\\Users\\ywei1\\Anaconda3\\lib\\site-packages\\ipykernel_launcher.py:2: DataConversionWarning: A column-vector y was passed when a 1d array was expected. Please change the shape of y to (n_samples,), for example using ravel().\n",
      "  \n"
     ]
    },
    {
     "name": "stdout",
     "output_type": "stream",
     "text": [
      "Accuracy: 0.6389734667246629\n",
      "[[  29   14    8]\n",
      " [  24  236  157]\n",
      " [  58  569 1204]]\n",
      "              precision    recall  f1-score   support\n",
      "\n",
      "           1       0.26      0.57      0.36        51\n",
      "           2       0.29      0.57      0.38       417\n",
      "           3       0.88      0.66      0.75      1831\n",
      "\n",
      "    accuracy                           0.64      2299\n",
      "   macro avg       0.48      0.60      0.50      2299\n",
      "weighted avg       0.76      0.64      0.68      2299\n",
      "\n"
     ]
    }
   ],
   "source": [
    "\n",
    "rdf1.fit(X_train,y_train)\n",
    "\n",
    "y_pred=rdf1.predict(X_test)\n",
    "\n",
    "\n",
    "#Import scikit-learn metrics module for accuracy calculation\n",
    "from sklearn import metrics\n",
    "# Model Accuracy, how often is the classifier correct?\n",
    "print(\"Accuracy:\",metrics.accuracy_score(y_test, y_pred))\n",
    "\n",
    "from sklearn import metrics\n",
    "from sklearn.metrics import classification_report, confusion_matrix  \n",
    "print(confusion_matrix(y_test, y_pred))  \n",
    "print(classification_report(y_test, y_pred)) "
   ]
  },
  {
   "cell_type": "code",
   "execution_count": 199,
   "metadata": {},
   "outputs": [
    {
     "name": "stdout",
     "output_type": "stream",
     "text": [
      "Feature: 0, Score: 0.01460\n",
      "Feature: 1, Score: 0.08714\n",
      "Feature: 2, Score: 0.01991\n",
      "Feature: 3, Score: 0.02405\n",
      "Feature: 4, Score: 0.04125\n",
      "Feature: 5, Score: 0.06013\n",
      "Feature: 6, Score: 0.00033\n",
      "Feature: 7, Score: 0.01385\n",
      "Feature: 8, Score: 0.01902\n",
      "Feature: 9, Score: 0.06364\n",
      "Feature: 10, Score: 0.08135\n",
      "Feature: 11, Score: 0.05452\n",
      "Feature: 12, Score: 0.05464\n",
      "Feature: 13, Score: 0.09174\n",
      "Feature: 14, Score: 0.03043\n",
      "Feature: 15, Score: 0.20874\n",
      "Feature: 16, Score: 0.04321\n",
      "Feature: 17, Score: 0.01612\n",
      "Feature: 18, Score: 0.00364\n",
      "Feature: 19, Score: 0.02478\n",
      "Feature: 20, Score: 0.04694\n"
     ]
    }
   ],
   "source": [
    "import matplotlib.pyplot as plt\n",
    "\n",
    "# get importance\n",
    "importance = rdf.feature_importances_\n",
    "# summarize feature importance\n",
    "for i,v in enumerate(importance):\n",
    "\tprint('Feature: %0d, Score: %.5f' % (i,v))\n"
   ]
  },
  {
   "cell_type": "code",
   "execution_count": 200,
   "metadata": {},
   "outputs": [
    {
     "data": {
      "text/plain": [
       "<matplotlib.axes._subplots.AxesSubplot at 0x1b187f38780>"
      ]
     },
     "execution_count": 200,
     "metadata": {},
     "output_type": "execute_result"
    },
    {
     "data": {
      "image/png": "[encoded data removed]",
      "text/plain": [
       "<Figure size 432x288 with 1 Axes>"
      ]
     },
     "metadata": {
      "needs_background": "light"
     },
     "output_type": "display_data"
    }
   ],
   "source": [
    "(pd.Series(rdf.feature_importances_)\n",
    "   .nlargest(10)\n",
    "   .plot(kind='barh'))  "
   ]
  },
  {
   "cell_type": "code",
   "execution_count": 148,
   "metadata": {},
   "outputs": [
    {
     "name": "stdout",
     "output_type": "stream",
     "text": [
      "Feature: 0, Score: 0.02786\n",
      "Feature: 1, Score: 0.15387\n",
      "Feature: 2, Score: 0.00887\n",
      "Feature: 3, Score: 0.01011\n",
      "Feature: 4, Score: 0.02989\n",
      "Feature: 5, Score: 0.02720\n",
      "Feature: 6, Score: 0.00000\n",
      "Feature: 7, Score: 0.06226\n",
      "Feature: 8, Score: 0.01728\n",
      "Feature: 9, Score: 0.08199\n",
      "Feature: 10, Score: 0.06147\n",
      "Feature: 11, Score: 0.02758\n",
      "Feature: 12, Score: 0.02924\n",
      "Feature: 13, Score: 0.09295\n",
      "Feature: 14, Score: 0.03195\n",
      "Feature: 15, Score: 0.08726\n",
      "Feature: 16, Score: 0.02079\n",
      "Feature: 17, Score: 0.06033\n",
      "Feature: 18, Score: 0.01110\n",
      "Feature: 19, Score: 0.04503\n",
      "Feature: 20, Score: 0.03500\n",
      "Feature: 21, Score: 0.05204\n",
      "Feature: 22, Score: 0.02591\n"
     ]
    }
   ],
   "source": [
    "# get importance\n",
    "importance = rdf1.feature_importances_\n",
    "# summarize feature importance\n",
    "for i,v in enumerate(importance):\n",
    "\tprint('Feature: %0d, Score: %.5f' % (i,v))\n"
   ]
  },
  {
   "cell_type": "code",
   "execution_count": 149,
   "metadata": {},
   "outputs": [
    {
     "data": {
      "text/plain": [
       "<matplotlib.axes._subplots.AxesSubplot at 0x1b187dd1828>"
      ]
     },
     "execution_count": 149,
     "metadata": {},
     "output_type": "execute_result"
    },
    {
     "data": {
      "image/png": "[encoded data removed]",
      "text/plain": [
       "<Figure size 432x288 with 1 Axes>"
      ]
     },
     "metadata": {
      "needs_background": "light"
     },
     "output_type": "display_data"
    }
   ],
   "source": [
    "(pd.Series(rdf1.feature_importances_)\n",
    "   .nlargest(10)\n",
    "   .plot(kind='barh'))  "
   ]
  },
  {
   "cell_type": "code",
   "execution_count": null,
   "metadata": {},
   "outputs": [],
   "source": [
    "def plot_feature_importances(model, figsize=(6,14)):\n",
    "    \"\"\"Plots a graph of feature importances for a model\"\"\"\n",
    "    ft_weights = pd.DataFrame(rdf.feature_importances_, columns=['weight'], index=df_train.columns)\n",
    "    ft_weights.sort_values('weight', inplace=True)\n",
    "    plt.figure(figsize=(10,14))\n",
    "    plt.barh(ft_weights.index, ft_weights.weight, align='center') \n",
    "    plt.title(\"Feature importances in the RDF model\", fontsize=14)\n",
    "    plt.xlabel(\"Feature importance\")\n",
    "    plt.margins(y=0.01)\n",
    "    plt.show()"
   ]
  },
  {
   "cell_type": "code",
   "execution_count": null,
   "metadata": {},
   "outputs": [],
   "source": [
    "plot_feature_importances(rdf)"
   ]
  },
  {
   "cell_type": "code",
   "execution_count": null,
   "metadata": {},
   "outputs": [],
   "source": []
  }
 ],
 "metadata": {
  "kernelspec": {
   "display_name": "Python 3",
   "language": "python",
   "name": "python3"
  },
  "language_info": {
   "codemirror_mode": {
    "name": "ipython",
    "version": 3
   },
   "file_extension": ".py",
   "mimetype": "text/x-python",
   "name": "python",
   "nbconvert_exporter": "python",
   "pygments_lexer": "ipython3",
   "version": "3.7.3"
  }
 },
 "nbformat": 4,
 "nbformat_minor": 2
}
