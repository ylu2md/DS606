{
 "cells": [
  {
   "cell_type": "code",
   "execution_count": 274,
   "metadata": {},
   "outputs": [],
   "source": [
    "# <1> \n",
    "# Import libraries\n",
    "import seaborn as sns\n",
    "import pandas as pd\n",
    "import numpy as np\n",
    "\n",
    "from gc import collect\n",
    "\n",
    "\n",
    "from matplotlib import patheffects as path_effects\n",
    "import matplotlib.pyplot as plt\n",
    "\n",
    "from sklearn.neighbors import RadiusNeighborsRegressor\n",
    "from sklearn.cluster import KMeans\n",
    "from folium.plugins import HeatMap\n",
    "\n",
    "import folium"
   ]
  },
  {
   "cell_type": "code",
   "execution_count": 275,
   "metadata": {},
   "outputs": [],
   "source": [
    "# load three datasets of fatal crash\n",
    "column_list= ['Report Number','Collision Type','Weather','Light','ACRS Report Type','Crash Date','Crash Time','Driver Substance Abuse']\n",
    "df_I = pd.read_csv(\"Crash_Reporting_IncidentsData_Part.csv\")"
   ]
  },
  {
   "cell_type": "code",
   "execution_count": 276,
   "metadata": {},
   "outputs": [
    {
     "name": "stdout",
     "output_type": "stream",
     "text": [
      "<class 'pandas.core.frame.DataFrame'>\n",
      "RangeIndex: 174 entries, 0 to 173\n",
      "Data columns (total 46 columns):\n",
      "Report Number                   174 non-null object\n",
      "Local Case Number               174 non-null int64\n",
      "Agency Name                     174 non-null object\n",
      "ACRS Report Type                174 non-null object\n",
      "Unnamed: 4                      0 non-null float64\n",
      "Crash Date                      174 non-null object\n",
      "Crash Time                      174 non-null object\n",
      "Hit/Run                         174 non-null object\n",
      "Route Type                      168 non-null object\n",
      "Mile Point                      169 non-null float64\n",
      "Mile Point Direction            168 non-null object\n",
      "Lane Direction                  170 non-null object\n",
      "Lane Number                     174 non-null int64\n",
      "Lane Type                       11 non-null object\n",
      "Number of Lanes                 174 non-null int64\n",
      "Direction                       169 non-null object\n",
      "Distance                        170 non-null float64\n",
      "Distance Unit                   170 non-null object\n",
      "Road Grade                      170 non-null object\n",
      "NonTraffic                      174 non-null object\n",
      "Road Name                       170 non-null object\n",
      "Cross-Street Type               168 non-null object\n",
      "Cross-Street Name               170 non-null object\n",
      "Off-Road Description            4 non-null object\n",
      "Municipality                    24 non-null object\n",
      "Related Non-Motorist            75 non-null object\n",
      "At Fault                        174 non-null object\n",
      "Collision Type                  174 non-null object\n",
      "Weather                         160 non-null object\n",
      "Surface Condition               167 non-null object\n",
      "Light                           174 non-null object\n",
      "Traffic Control                 138 non-null object\n",
      "Driver Substance Abuse          163 non-null object\n",
      "Non-Motorist Substance Abuse    69 non-null object\n",
      "First Harmful Event             174 non-null object\n",
      "Second Harmful Event            81 non-null object\n",
      "Fixed Oject Struck              75 non-null object\n",
      "Junction                        159 non-null object\n",
      "Intersection Type               89 non-null object\n",
      "Intersection Area               22 non-null object\n",
      "Road Alignment                  170 non-null object\n",
      "Road Condition                  166 non-null object\n",
      "Road Division                   169 non-null object\n",
      "Latitude                        174 non-null float64\n",
      "Longitude                       174 non-null float64\n",
      "Location                        174 non-null object\n",
      "dtypes: float64(5), int64(3), object(38)\n",
      "memory usage: 62.6+ KB\n"
     ]
    }
   ],
   "source": [
    "df_I.info()"
   ]
  },
  {
   "cell_type": "code",
   "execution_count": 277,
   "metadata": {},
   "outputs": [
    {
     "name": "stdout",
     "output_type": "stream",
     "text": [
      "<class 'pandas.core.frame.DataFrame'>\n",
      "RangeIndex: 77 entries, 0 to 76\n",
      "Data columns (total 32 columns):\n",
      "Report Number                       77 non-null object\n",
      "Local Case Number                   77 non-null int64\n",
      "Agency Name                         77 non-null object\n",
      "ACRS Report Type                    77 non-null object\n",
      "Crash Date/Time                     77 non-null object\n",
      "Route Type                          72 non-null object\n",
      "Road Name                           73 non-null object\n",
      "Cross-Street Type                   72 non-null object\n",
      "Cross-Street Name                   73 non-null object\n",
      "Off-Road Description                4 non-null object\n",
      "Municipality                        13 non-null object\n",
      "Related Non-Motorist                77 non-null object\n",
      "Collision Type                      77 non-null object\n",
      "Weather                             72 non-null object\n",
      "Surface Condition                   70 non-null object\n",
      "Light                               77 non-null object\n",
      "Traffic Control                     69 non-null object\n",
      "Driver Substance Abuse              69 non-null object\n",
      "Non-Motorist Substance Abuse        71 non-null object\n",
      "Person ID                           77 non-null object\n",
      "Pedestrian Type                     77 non-null object\n",
      "Pedestrian Movement                 77 non-null object\n",
      "Pedestrian Actions                  77 non-null object\n",
      "Pedestrian Location                 75 non-null object\n",
      "Pedestrian Obeyed Traffic Signal    64 non-null object\n",
      "Pedestrian Visibility               76 non-null object\n",
      "At Fault                            72 non-null object\n",
      "Injury Severity                     77 non-null object\n",
      "Safety Equipment                    54 non-null object\n",
      "Latitude                            77 non-null float64\n",
      "Longitude                           77 non-null float64\n",
      "Location                            77 non-null object\n",
      "dtypes: float64(2), int64(1), object(29)\n",
      "memory usage: 19.3+ KB\n"
     ]
    }
   ],
   "source": [
    "df_N = pd.read_csv(\"Crash_Reporting_NonMotoristsData_Part.csv\")\n",
    "df_N.info()"
   ]
  },
  {
   "cell_type": "code",
   "execution_count": 278,
   "metadata": {},
   "outputs": [
    {
     "data": {
      "text/plain": [
       "PEDESTRIAN          66\n",
       "BICYCLIST            8\n",
       "OTHER CONVEYANCE     2\n",
       "OTHER                1\n",
       "Name: Pedestrian Type, dtype: int64"
      ]
     },
     "execution_count": 278,
     "metadata": {},
     "output_type": "execute_result"
    }
   ],
   "source": [
    "df_N['Pedestrian Type'].value_counts()"
   ]
  },
  {
   "cell_type": "code",
   "execution_count": 279,
   "metadata": {},
   "outputs": [
    {
     "name": "stdout",
     "output_type": "stream",
     "text": [
      "<class 'pandas.core.frame.DataFrame'>\n",
      "RangeIndex: 247 entries, 0 to 246\n",
      "Data columns (total 43 columns):\n",
      "Report Number                     247 non-null object\n",
      "Local Case Number                 247 non-null int64\n",
      "Agency Name                       247 non-null object\n",
      "ACRS Report Type                  247 non-null object\n",
      "Crash Date/Time                   247 non-null object\n",
      "Route Type                        242 non-null object\n",
      "Road Name                         244 non-null object\n",
      "Cross-Street Type                 242 non-null object\n",
      "Cross-Street Name                 244 non-null object\n",
      "Off-Road Description              3 non-null object\n",
      "Municipality                      33 non-null object\n",
      "Related Non-Motorist              79 non-null object\n",
      "Collision Type                    247 non-null object\n",
      "Weather                           224 non-null object\n",
      "Surface Condition                 241 non-null object\n",
      "Light                             247 non-null object\n",
      "Traffic Control                   200 non-null object\n",
      "Driver Substance Abuse            227 non-null object\n",
      "Non-Motorist Substance Abuse      72 non-null object\n",
      "Person ID                         247 non-null object\n",
      "Driver At Fault                   247 non-null object\n",
      "Injury Severity                   247 non-null object\n",
      "Circumstance                      26 non-null object\n",
      "Driver Distracted By              247 non-null object\n",
      "Drivers License State             245 non-null object\n",
      "Vehicle ID                        247 non-null object\n",
      "Vehicle Damage Extent             247 non-null object\n",
      "Vehicle First Impact Location     247 non-null object\n",
      "Vehicle Second Impact Location    247 non-null object\n",
      "Vehicle Body Type                 245 non-null object\n",
      "Vehicle Movement                  247 non-null object\n",
      "Vehicle Continuing Dir            247 non-null object\n",
      "Vehicle Going Dir                 247 non-null object\n",
      "Speed Limit                       247 non-null int64\n",
      "Driverless Vehicle                247 non-null object\n",
      "Parked Vehicle                    247 non-null object\n",
      "Vehicle Year                      247 non-null int64\n",
      "Vehicle Make                      247 non-null object\n",
      "Vehicle Model                     247 non-null object\n",
      "Equipment Problems                209 non-null object\n",
      "Latitude                          247 non-null float64\n",
      "Longitude                         247 non-null float64\n",
      "Location                          247 non-null object\n",
      "dtypes: float64(2), int64(3), object(38)\n",
      "memory usage: 83.1+ KB\n"
     ]
    }
   ],
   "source": [
    "df_D = pd.read_csv(\"Crash_Reporting_DriversData_Part.csv\")\n",
    "df_D.info()"
   ]
  },
  {
   "cell_type": "markdown",
   "metadata": {},
   "source": [
    "## Observation: 174 fatal incidents involved 247 drivers, and 77 non-motorists. Let's merge driver dataset and Incidents dataset. "
   ]
  },
  {
   "cell_type": "code",
   "execution_count": 280,
   "metadata": {},
   "outputs": [],
   "source": [
    "merged = df_D.merge(df_I, on='Report Number', how='inner')"
   ]
  },
  {
   "cell_type": "code",
   "execution_count": 281,
   "metadata": {},
   "outputs": [
    {
     "data": {
      "text/html": [
       "<div>\n",
       "<style scoped>\n",
       "    .dataframe tbody tr th:only-of-type {\n",
       "        vertical-align: middle;\n",
       "    }\n",
       "\n",
       "    .dataframe tbody tr th {\n",
       "        vertical-align: top;\n",
       "    }\n",
       "\n",
       "    .dataframe thead th {\n",
       "        text-align: right;\n",
       "    }\n",
       "</style>\n",
       "<table border=\"1\" class=\"dataframe\">\n",
       "  <thead>\n",
       "    <tr style=\"text-align: right;\">\n",
       "      <th></th>\n",
       "      <th>Report Number</th>\n",
       "      <th>Local Case Number_x</th>\n",
       "      <th>Agency Name_x</th>\n",
       "      <th>ACRS Report Type_x</th>\n",
       "      <th>Crash Date/Time</th>\n",
       "      <th>Route Type_x</th>\n",
       "      <th>Road Name_x</th>\n",
       "      <th>Cross-Street Type_x</th>\n",
       "      <th>Cross-Street Name_x</th>\n",
       "      <th>Off-Road Description_x</th>\n",
       "      <th>...</th>\n",
       "      <th>Fixed Oject Struck</th>\n",
       "      <th>Junction</th>\n",
       "      <th>Intersection Type</th>\n",
       "      <th>Intersection Area</th>\n",
       "      <th>Road Alignment</th>\n",
       "      <th>Road Condition</th>\n",
       "      <th>Road Division</th>\n",
       "      <th>Latitude_y</th>\n",
       "      <th>Longitude_y</th>\n",
       "      <th>Location_y</th>\n",
       "    </tr>\n",
       "  </thead>\n",
       "  <tbody>\n",
       "    <tr>\n",
       "      <th>0</th>\n",
       "      <td>MCP2683003M</td>\n",
       "      <td>190006583</td>\n",
       "      <td>Montgomery County Police</td>\n",
       "      <td>Fatal Crash</td>\n",
       "      <td>2/10/2019 18:47</td>\n",
       "      <td>County</td>\n",
       "      <td>MONTGOMERY VILLAGE AVE</td>\n",
       "      <td>Maryland (State)</td>\n",
       "      <td>MIDCOUNTY HWY</td>\n",
       "      <td>NaN</td>\n",
       "      <td>...</td>\n",
       "      <td>NaN</td>\n",
       "      <td>INTERSECTION</td>\n",
       "      <td>T-INTERSECTION</td>\n",
       "      <td>INTERSECTION</td>\n",
       "      <td>STRAIGHT</td>\n",
       "      <td>NO DEFECTS</td>\n",
       "      <td>TWO-WAY, DIVIDED, POSITIVE MEDIAN BARRIER</td>\n",
       "      <td>39.157968</td>\n",
       "      <td>-77.201475</td>\n",
       "      <td>(39.15796833, -77.201475)</td>\n",
       "    </tr>\n",
       "  </tbody>\n",
       "</table>\n",
       "<p>1 rows × 88 columns</p>\n",
       "</div>"
      ],
      "text/plain": [
       "  Report Number  Local Case Number_x             Agency Name_x  \\\n",
       "0   MCP2683003M            190006583  Montgomery County Police   \n",
       "\n",
       "  ACRS Report Type_x  Crash Date/Time Route Type_x             Road Name_x  \\\n",
       "0        Fatal Crash  2/10/2019 18:47       County  MONTGOMERY VILLAGE AVE   \n",
       "\n",
       "  Cross-Street Type_x Cross-Street Name_x Off-Road Description_x  ...  \\\n",
       "0    Maryland (State)       MIDCOUNTY HWY                    NaN  ...   \n",
       "\n",
       "  Fixed Oject Struck      Junction Intersection Type Intersection Area  \\\n",
       "0                NaN  INTERSECTION    T-INTERSECTION      INTERSECTION   \n",
       "\n",
       "  Road Alignment Road Condition                              Road Division  \\\n",
       "0       STRAIGHT     NO DEFECTS  TWO-WAY, DIVIDED, POSITIVE MEDIAN BARRIER   \n",
       "\n",
       "  Latitude_y Longitude_y                 Location_y  \n",
       "0  39.157968  -77.201475  (39.15796833, -77.201475)  \n",
       "\n",
       "[1 rows x 88 columns]"
      ]
     },
     "execution_count": 281,
     "metadata": {},
     "output_type": "execute_result"
    }
   ],
   "source": [
    "merged.head(1)"
   ]
  },
  {
   "cell_type": "code",
   "execution_count": 282,
   "metadata": {},
   "outputs": [
    {
     "name": "stdout",
     "output_type": "stream",
     "text": [
      "<class 'pandas.core.frame.DataFrame'>\n",
      "Int64Index: 247 entries, 0 to 246\n",
      "Data columns (total 88 columns):\n",
      "Report Number                     247 non-null object\n",
      "Local Case Number_x               247 non-null int64\n",
      "Agency Name_x                     247 non-null object\n",
      "ACRS Report Type_x                247 non-null object\n",
      "Crash Date/Time                   247 non-null object\n",
      "Route Type_x                      242 non-null object\n",
      "Road Name_x                       244 non-null object\n",
      "Cross-Street Type_x               242 non-null object\n",
      "Cross-Street Name_x               244 non-null object\n",
      "Off-Road Description_x            3 non-null object\n",
      "Municipality_x                    33 non-null object\n",
      "Related Non-Motorist_x            79 non-null object\n",
      "Collision Type_x                  247 non-null object\n",
      "Weather_x                         224 non-null object\n",
      "Surface Condition_x               241 non-null object\n",
      "Light_x                           247 non-null object\n",
      "Traffic Control_x                 200 non-null object\n",
      "Driver Substance Abuse_x          227 non-null object\n",
      "Non-Motorist Substance Abuse_x    72 non-null object\n",
      "Person ID                         247 non-null object\n",
      "Driver At Fault                   247 non-null object\n",
      "Injury Severity                   247 non-null object\n",
      "Circumstance                      26 non-null object\n",
      "Driver Distracted By              247 non-null object\n",
      "Drivers License State             245 non-null object\n",
      "Vehicle ID                        247 non-null object\n",
      "Vehicle Damage Extent             247 non-null object\n",
      "Vehicle First Impact Location     247 non-null object\n",
      "Vehicle Second Impact Location    247 non-null object\n",
      "Vehicle Body Type                 245 non-null object\n",
      "Vehicle Movement                  247 non-null object\n",
      "Vehicle Continuing Dir            247 non-null object\n",
      "Vehicle Going Dir                 247 non-null object\n",
      "Speed Limit                       247 non-null int64\n",
      "Driverless Vehicle                247 non-null object\n",
      "Parked Vehicle                    247 non-null object\n",
      "Vehicle Year                      247 non-null int64\n",
      "Vehicle Make                      247 non-null object\n",
      "Vehicle Model                     247 non-null object\n",
      "Equipment Problems                209 non-null object\n",
      "Latitude_x                        247 non-null float64\n",
      "Longitude_x                       247 non-null float64\n",
      "Location_x                        247 non-null object\n",
      "Local Case Number_y               247 non-null int64\n",
      "Agency Name_y                     247 non-null object\n",
      "ACRS Report Type_y                247 non-null object\n",
      "Unnamed: 4                        0 non-null float64\n",
      "Crash Date                        247 non-null object\n",
      "Crash Time                        247 non-null object\n",
      "Hit/Run                           247 non-null object\n",
      "Route Type_y                      242 non-null object\n",
      "Mile Point                        243 non-null float64\n",
      "Mile Point Direction              242 non-null object\n",
      "Lane Direction                    244 non-null object\n",
      "Lane Number                       247 non-null int64\n",
      "Lane Type                         15 non-null object\n",
      "Number of Lanes                   247 non-null int64\n",
      "Direction                         243 non-null object\n",
      "Distance                          244 non-null float64\n",
      "Distance Unit                     244 non-null object\n",
      "Road Grade                        244 non-null object\n",
      "NonTraffic                        247 non-null object\n",
      "Road Name_y                       244 non-null object\n",
      "Cross-Street Type_y               242 non-null object\n",
      "Cross-Street Name_y               244 non-null object\n",
      "Off-Road Description_y            3 non-null object\n",
      "Municipality_y                    33 non-null object\n",
      "Related Non-Motorist_y            79 non-null object\n",
      "At Fault                          247 non-null object\n",
      "Collision Type_y                  247 non-null object\n",
      "Weather_y                         224 non-null object\n",
      "Surface Condition_y               241 non-null object\n",
      "Light_y                           247 non-null object\n",
      "Traffic Control_y                 200 non-null object\n",
      "Driver Substance Abuse_y          236 non-null object\n",
      "Non-Motorist Substance Abuse_y    72 non-null object\n",
      "First Harmful Event               247 non-null object\n",
      "Second Harmful Event              132 non-null object\n",
      "Fixed Oject Struck                109 non-null object\n",
      "Junction                          228 non-null object\n",
      "Intersection Type                 141 non-null object\n",
      "Intersection Area                 33 non-null object\n",
      "Road Alignment                    244 non-null object\n",
      "Road Condition                    240 non-null object\n",
      "Road Division                     242 non-null object\n",
      "Latitude_y                        247 non-null float64\n",
      "Longitude_y                       247 non-null float64\n",
      "Location_y                        247 non-null object\n",
      "dtypes: float64(7), int64(6), object(75)\n",
      "memory usage: 171.7+ KB\n"
     ]
    }
   ],
   "source": [
    "merged.info()"
   ]
  },
  {
   "cell_type": "code",
   "execution_count": 283,
   "metadata": {},
   "outputs": [
    {
     "data": {
      "text/html": [
       "<div>\n",
       "<style scoped>\n",
       "    .dataframe tbody tr th:only-of-type {\n",
       "        vertical-align: middle;\n",
       "    }\n",
       "\n",
       "    .dataframe tbody tr th {\n",
       "        vertical-align: top;\n",
       "    }\n",
       "\n",
       "    .dataframe thead th {\n",
       "        text-align: right;\n",
       "    }\n",
       "</style>\n",
       "<table border=\"1\" class=\"dataframe\">\n",
       "  <thead>\n",
       "    <tr style=\"text-align: right;\">\n",
       "      <th></th>\n",
       "      <th>Report Number</th>\n",
       "      <th>Local Case Number_x</th>\n",
       "      <th>Agency Name_x</th>\n",
       "      <th>ACRS Report Type_x</th>\n",
       "      <th>Crash Date/Time</th>\n",
       "      <th>Route Type_x</th>\n",
       "      <th>Road Name_x</th>\n",
       "      <th>Cross-Street Type_x</th>\n",
       "      <th>Cross-Street Name_x</th>\n",
       "      <th>Off-Road Description_x</th>\n",
       "      <th>...</th>\n",
       "      <th>Fixed Oject Struck</th>\n",
       "      <th>Junction</th>\n",
       "      <th>Intersection Type</th>\n",
       "      <th>Intersection Area</th>\n",
       "      <th>Road Alignment</th>\n",
       "      <th>Road Condition</th>\n",
       "      <th>Road Division</th>\n",
       "      <th>Latitude_y</th>\n",
       "      <th>Longitude_y</th>\n",
       "      <th>Location_y</th>\n",
       "    </tr>\n",
       "  </thead>\n",
       "  <tbody>\n",
       "    <tr>\n",
       "      <th>0</th>\n",
       "      <td>MCP2683003M</td>\n",
       "      <td>190006583</td>\n",
       "      <td>Montgomery County Police</td>\n",
       "      <td>Fatal Crash</td>\n",
       "      <td>2/10/2019 18:47</td>\n",
       "      <td>County</td>\n",
       "      <td>MONTGOMERY VILLAGE AVE</td>\n",
       "      <td>Maryland (State)</td>\n",
       "      <td>MIDCOUNTY HWY</td>\n",
       "      <td>NaN</td>\n",
       "      <td>...</td>\n",
       "      <td>NaN</td>\n",
       "      <td>INTERSECTION</td>\n",
       "      <td>T-INTERSECTION</td>\n",
       "      <td>INTERSECTION</td>\n",
       "      <td>STRAIGHT</td>\n",
       "      <td>NO DEFECTS</td>\n",
       "      <td>TWO-WAY, DIVIDED, POSITIVE MEDIAN BARRIER</td>\n",
       "      <td>39.157968</td>\n",
       "      <td>-77.201475</td>\n",
       "      <td>(39.15796833, -77.201475)</td>\n",
       "    </tr>\n",
       "    <tr>\n",
       "      <th>1</th>\n",
       "      <td>MCP3150000Q</td>\n",
       "      <td>190010125</td>\n",
       "      <td>Montgomery County Police</td>\n",
       "      <td>Fatal Crash</td>\n",
       "      <td>3/4/2019 15:43</td>\n",
       "      <td>Maryland (State)</td>\n",
       "      <td>CHERRY HILL RD</td>\n",
       "      <td>Maryland (State)</td>\n",
       "      <td>PROSPERITY DR</td>\n",
       "      <td>NaN</td>\n",
       "      <td>...</td>\n",
       "      <td>SIGN SUPPORT POLE</td>\n",
       "      <td>INTERSECTION</td>\n",
       "      <td>T-INTERSECTION</td>\n",
       "      <td>INTERSECTION</td>\n",
       "      <td>STRAIGHT</td>\n",
       "      <td>NO DEFECTS</td>\n",
       "      <td>TWO-WAY, DIVIDED, POSITIVE MEDIAN BARRIER</td>\n",
       "      <td>39.062090</td>\n",
       "      <td>-76.960157</td>\n",
       "      <td>(39.06209, -76.96015667)</td>\n",
       "    </tr>\n",
       "    <tr>\n",
       "      <th>2</th>\n",
       "      <td>MCP3150000Q</td>\n",
       "      <td>190010125</td>\n",
       "      <td>Montgomery County Police</td>\n",
       "      <td>Fatal Crash</td>\n",
       "      <td>3/4/2019 15:43</td>\n",
       "      <td>Maryland (State)</td>\n",
       "      <td>CHERRY HILL RD</td>\n",
       "      <td>Maryland (State)</td>\n",
       "      <td>PROSPERITY DR</td>\n",
       "      <td>NaN</td>\n",
       "      <td>...</td>\n",
       "      <td>SIGN SUPPORT POLE</td>\n",
       "      <td>INTERSECTION</td>\n",
       "      <td>T-INTERSECTION</td>\n",
       "      <td>INTERSECTION</td>\n",
       "      <td>STRAIGHT</td>\n",
       "      <td>NO DEFECTS</td>\n",
       "      <td>TWO-WAY, DIVIDED, POSITIVE MEDIAN BARRIER</td>\n",
       "      <td>39.062090</td>\n",
       "      <td>-76.960157</td>\n",
       "      <td>(39.06209, -76.96015667)</td>\n",
       "    </tr>\n",
       "    <tr>\n",
       "      <th>3</th>\n",
       "      <td>MCP20010013</td>\n",
       "      <td>190041758</td>\n",
       "      <td>Montgomery County Police</td>\n",
       "      <td>Fatal Crash</td>\n",
       "      <td>8/31/2019 16:46</td>\n",
       "      <td>County</td>\n",
       "      <td>HAWKESBURY LA</td>\n",
       "      <td>County</td>\n",
       "      <td>BRANDON GREEN DR</td>\n",
       "      <td>NaN</td>\n",
       "      <td>...</td>\n",
       "      <td>CURB</td>\n",
       "      <td>NON INTERSECTION</td>\n",
       "      <td>NaN</td>\n",
       "      <td>NaN</td>\n",
       "      <td>CURVE LEFT</td>\n",
       "      <td>NO DEFECTS</td>\n",
       "      <td>TWO-WAY, NOT DIVIDED</td>\n",
       "      <td>39.066535</td>\n",
       "      <td>-77.022475</td>\n",
       "      <td>(39.06653466, -77.02247501)</td>\n",
       "    </tr>\n",
       "    <tr>\n",
       "      <th>4</th>\n",
       "      <td>MCP12270013</td>\n",
       "      <td>200007223</td>\n",
       "      <td>Montgomery County Police</td>\n",
       "      <td>Fatal Crash</td>\n",
       "      <td>2/12/2020 19:05</td>\n",
       "      <td>Maryland (State)</td>\n",
       "      <td>MIDCOUNTY HWY</td>\n",
       "      <td>County</td>\n",
       "      <td>PIER POINT PL</td>\n",
       "      <td>NaN</td>\n",
       "      <td>...</td>\n",
       "      <td>NaN</td>\n",
       "      <td>INTERSECTION</td>\n",
       "      <td>T-INTERSECTION</td>\n",
       "      <td>NaN</td>\n",
       "      <td>STRAIGHT</td>\n",
       "      <td>NO DEFECTS</td>\n",
       "      <td>TWO-WAY, DIVIDED, POSITIVE MEDIAN BARRIER</td>\n",
       "      <td>39.159245</td>\n",
       "      <td>-77.198483</td>\n",
       "      <td>(39.15924546, -77.19848265)</td>\n",
       "    </tr>\n",
       "  </tbody>\n",
       "</table>\n",
       "<p>5 rows × 88 columns</p>\n",
       "</div>"
      ],
      "text/plain": [
       "  Report Number  Local Case Number_x             Agency Name_x  \\\n",
       "0   MCP2683003M            190006583  Montgomery County Police   \n",
       "1   MCP3150000Q            190010125  Montgomery County Police   \n",
       "2   MCP3150000Q            190010125  Montgomery County Police   \n",
       "3   MCP20010013            190041758  Montgomery County Police   \n",
       "4   MCP12270013            200007223  Montgomery County Police   \n",
       "\n",
       "  ACRS Report Type_x  Crash Date/Time      Route Type_x  \\\n",
       "0        Fatal Crash  2/10/2019 18:47            County   \n",
       "1        Fatal Crash   3/4/2019 15:43  Maryland (State)   \n",
       "2        Fatal Crash   3/4/2019 15:43  Maryland (State)   \n",
       "3        Fatal Crash  8/31/2019 16:46            County   \n",
       "4        Fatal Crash  2/12/2020 19:05  Maryland (State)   \n",
       "\n",
       "              Road Name_x Cross-Street Type_x Cross-Street Name_x  \\\n",
       "0  MONTGOMERY VILLAGE AVE    Maryland (State)       MIDCOUNTY HWY   \n",
       "1          CHERRY HILL RD    Maryland (State)       PROSPERITY DR   \n",
       "2          CHERRY HILL RD    Maryland (State)       PROSPERITY DR   \n",
       "3           HAWKESBURY LA              County    BRANDON GREEN DR   \n",
       "4           MIDCOUNTY HWY              County       PIER POINT PL   \n",
       "\n",
       "  Off-Road Description_x  ... Fixed Oject Struck          Junction  \\\n",
       "0                    NaN  ...                NaN      INTERSECTION   \n",
       "1                    NaN  ...  SIGN SUPPORT POLE      INTERSECTION   \n",
       "2                    NaN  ...  SIGN SUPPORT POLE      INTERSECTION   \n",
       "3                    NaN  ...               CURB  NON INTERSECTION   \n",
       "4                    NaN  ...                NaN      INTERSECTION   \n",
       "\n",
       "  Intersection Type Intersection Area Road Alignment Road Condition  \\\n",
       "0    T-INTERSECTION      INTERSECTION       STRAIGHT     NO DEFECTS   \n",
       "1    T-INTERSECTION      INTERSECTION       STRAIGHT     NO DEFECTS   \n",
       "2    T-INTERSECTION      INTERSECTION       STRAIGHT     NO DEFECTS   \n",
       "3               NaN               NaN     CURVE LEFT     NO DEFECTS   \n",
       "4    T-INTERSECTION               NaN       STRAIGHT     NO DEFECTS   \n",
       "\n",
       "                               Road Division Latitude_y Longitude_y  \\\n",
       "0  TWO-WAY, DIVIDED, POSITIVE MEDIAN BARRIER  39.157968  -77.201475   \n",
       "1  TWO-WAY, DIVIDED, POSITIVE MEDIAN BARRIER  39.062090  -76.960157   \n",
       "2  TWO-WAY, DIVIDED, POSITIVE MEDIAN BARRIER  39.062090  -76.960157   \n",
       "3                       TWO-WAY, NOT DIVIDED  39.066535  -77.022475   \n",
       "4  TWO-WAY, DIVIDED, POSITIVE MEDIAN BARRIER  39.159245  -77.198483   \n",
       "\n",
       "                    Location_y  \n",
       "0    (39.15796833, -77.201475)  \n",
       "1     (39.06209, -76.96015667)  \n",
       "2     (39.06209, -76.96015667)  \n",
       "3  (39.06653466, -77.02247501)  \n",
       "4  (39.15924546, -77.19848265)  \n",
       "\n",
       "[5 rows x 88 columns]"
      ]
     },
     "execution_count": 283,
     "metadata": {},
     "output_type": "execute_result"
    }
   ],
   "source": [
    "merged.head(5)"
   ]
  },
  {
   "cell_type": "markdown",
   "metadata": {},
   "source": [
    "## For those duplicated columns and columns with lots of null values, I would drop them. "
   ]
  },
  {
   "cell_type": "code",
   "execution_count": 284,
   "metadata": {},
   "outputs": [],
   "source": [
    "merged1 = merged.drop(columns =[\"Light_y\",'Surface Condition_y','Non-Motorist Substance Abuse_y','Location_y','Collision Type_y','Driver Substance Abuse_y','Municipality_y','Road Name_y','Traffic Control_y','Weather_y','Related Non-Motorist_y','Local Case Number_y','Road Name_x','Vehicle ID','Road Name_y','Unnamed: 4','Road Name_x','Cross-Street Name_x','Cross-Street Name_y','Crash Date/Time','ACRS Report Type_y','Local Case Number_x','Agency Name_y','Route Type_y','Cross-Street Type_y','Off-Road Description_y','Latitude_y','Longitude_y'])"
   ]
  },
  {
   "cell_type": "code",
   "execution_count": 285,
   "metadata": {},
   "outputs": [
    {
     "data": {
      "text/plain": [
       "Report Number                       0\n",
       "Agency Name_x                       0\n",
       "ACRS Report Type_x                  0\n",
       "Route Type_x                        5\n",
       "Cross-Street Type_x                 5\n",
       "Off-Road Description_x            244\n",
       "Municipality_x                    214\n",
       "Related Non-Motorist_x            168\n",
       "Collision Type_x                    0\n",
       "Weather_x                          23\n",
       "Surface Condition_x                 6\n",
       "Light_x                             0\n",
       "Traffic Control_x                  47\n",
       "Driver Substance Abuse_x           20\n",
       "Non-Motorist Substance Abuse_x    175\n",
       "Person ID                           0\n",
       "Driver At Fault                     0\n",
       "Injury Severity                     0\n",
       "Circumstance                      221\n",
       "Driver Distracted By                0\n",
       "Drivers License State               2\n",
       "Vehicle Damage Extent               0\n",
       "Vehicle First Impact Location       0\n",
       "Vehicle Second Impact Location      0\n",
       "Vehicle Body Type                   2\n",
       "Vehicle Movement                    0\n",
       "Vehicle Continuing Dir              0\n",
       "Vehicle Going Dir                   0\n",
       "Speed Limit                         0\n",
       "Driverless Vehicle                  0\n",
       "                                 ... \n",
       "Vehicle Make                        0\n",
       "Vehicle Model                       0\n",
       "Equipment Problems                 38\n",
       "Latitude_x                          0\n",
       "Longitude_x                         0\n",
       "Location_x                          0\n",
       "Crash Date                          0\n",
       "Crash Time                          0\n",
       "Hit/Run                             0\n",
       "Mile Point                          4\n",
       "Mile Point Direction                5\n",
       "Lane Direction                      3\n",
       "Lane Number                         0\n",
       "Lane Type                         232\n",
       "Number of Lanes                     0\n",
       "Direction                           4\n",
       "Distance                            3\n",
       "Distance Unit                       3\n",
       "Road Grade                          3\n",
       "NonTraffic                          0\n",
       "At Fault                            0\n",
       "First Harmful Event                 0\n",
       "Second Harmful Event              115\n",
       "Fixed Oject Struck                138\n",
       "Junction                           19\n",
       "Intersection Type                 106\n",
       "Intersection Area                 214\n",
       "Road Alignment                      3\n",
       "Road Condition                      7\n",
       "Road Division                       5\n",
       "Length: 62, dtype: int64"
      ]
     },
     "execution_count": 285,
     "metadata": {},
     "output_type": "execute_result"
    }
   ],
   "source": [
    "# A few more data checks\n",
    "merged1.isnull().sum()"
   ]
  },
  {
   "cell_type": "code",
   "execution_count": 286,
   "metadata": {},
   "outputs": [
    {
     "name": "stdout",
     "output_type": "stream",
     "text": [
      "<class 'pandas.core.frame.DataFrame'>\n",
      "Int64Index: 247 entries, 0 to 246\n",
      "Data columns (total 62 columns):\n",
      "Report Number                     247 non-null object\n",
      "Agency Name_x                     247 non-null object\n",
      "ACRS Report Type_x                247 non-null object\n",
      "Route Type_x                      242 non-null object\n",
      "Cross-Street Type_x               242 non-null object\n",
      "Off-Road Description_x            3 non-null object\n",
      "Municipality_x                    33 non-null object\n",
      "Related Non-Motorist_x            79 non-null object\n",
      "Collision Type_x                  247 non-null object\n",
      "Weather_x                         224 non-null object\n",
      "Surface Condition_x               241 non-null object\n",
      "Light_x                           247 non-null object\n",
      "Traffic Control_x                 200 non-null object\n",
      "Driver Substance Abuse_x          227 non-null object\n",
      "Non-Motorist Substance Abuse_x    72 non-null object\n",
      "Person ID                         247 non-null object\n",
      "Driver At Fault                   247 non-null object\n",
      "Injury Severity                   247 non-null object\n",
      "Circumstance                      26 non-null object\n",
      "Driver Distracted By              247 non-null object\n",
      "Drivers License State             245 non-null object\n",
      "Vehicle Damage Extent             247 non-null object\n",
      "Vehicle First Impact Location     247 non-null object\n",
      "Vehicle Second Impact Location    247 non-null object\n",
      "Vehicle Body Type                 245 non-null object\n",
      "Vehicle Movement                  247 non-null object\n",
      "Vehicle Continuing Dir            247 non-null object\n",
      "Vehicle Going Dir                 247 non-null object\n",
      "Speed Limit                       247 non-null int64\n",
      "Driverless Vehicle                247 non-null object\n",
      "Parked Vehicle                    247 non-null object\n",
      "Vehicle Year                      247 non-null int64\n",
      "Vehicle Make                      247 non-null object\n",
      "Vehicle Model                     247 non-null object\n",
      "Equipment Problems                209 non-null object\n",
      "Latitude_x                        247 non-null float64\n",
      "Longitude_x                       247 non-null float64\n",
      "Location_x                        247 non-null object\n",
      "Crash Date                        247 non-null object\n",
      "Crash Time                        247 non-null object\n",
      "Hit/Run                           247 non-null object\n",
      "Mile Point                        243 non-null float64\n",
      "Mile Point Direction              242 non-null object\n",
      "Lane Direction                    244 non-null object\n",
      "Lane Number                       247 non-null int64\n",
      "Lane Type                         15 non-null object\n",
      "Number of Lanes                   247 non-null int64\n",
      "Direction                         243 non-null object\n",
      "Distance                          244 non-null float64\n",
      "Distance Unit                     244 non-null object\n",
      "Road Grade                        244 non-null object\n",
      "NonTraffic                        247 non-null object\n",
      "At Fault                          247 non-null object\n",
      "First Harmful Event               247 non-null object\n",
      "Second Harmful Event              132 non-null object\n",
      "Fixed Oject Struck                109 non-null object\n",
      "Junction                          228 non-null object\n",
      "Intersection Type                 141 non-null object\n",
      "Intersection Area                 33 non-null object\n",
      "Road Alignment                    244 non-null object\n",
      "Road Condition                    240 non-null object\n",
      "Road Division                     242 non-null object\n",
      "dtypes: float64(4), int64(4), object(54)\n",
      "memory usage: 121.6+ KB\n"
     ]
    }
   ],
   "source": [
    "merged1.info()"
   ]
  },
  {
   "cell_type": "code",
   "execution_count": 287,
   "metadata": {},
   "outputs": [],
   "source": [
    "New = merged1.drop(columns =[\"Off-Road Description_x\",'Person ID','Municipality_x','Intersection Area','Lane Type','Circumstance'])"
   ]
  },
  {
   "cell_type": "code",
   "execution_count": 288,
   "metadata": {},
   "outputs": [],
   "source": [
    "#merged1['Report Number'].value_counts()"
   ]
  },
  {
   "cell_type": "code",
   "execution_count": 289,
   "metadata": {
    "scrolled": true
   },
   "outputs": [
    {
     "name": "stdout",
     "output_type": "stream",
     "text": [
      "<class 'pandas.core.frame.DataFrame'>\n",
      "Int64Index: 247 entries, 0 to 246\n",
      "Data columns (total 56 columns):\n",
      "Report Number                     247 non-null object\n",
      "Agency Name_x                     247 non-null object\n",
      "ACRS Report Type_x                247 non-null object\n",
      "Route Type_x                      242 non-null object\n",
      "Cross-Street Type_x               242 non-null object\n",
      "Related Non-Motorist_x            79 non-null object\n",
      "Collision Type_x                  247 non-null object\n",
      "Weather_x                         224 non-null object\n",
      "Surface Condition_x               241 non-null object\n",
      "Light_x                           247 non-null object\n",
      "Traffic Control_x                 200 non-null object\n",
      "Driver Substance Abuse_x          227 non-null object\n",
      "Non-Motorist Substance Abuse_x    72 non-null object\n",
      "Driver At Fault                   247 non-null object\n",
      "Injury Severity                   247 non-null object\n",
      "Driver Distracted By              247 non-null object\n",
      "Drivers License State             245 non-null object\n",
      "Vehicle Damage Extent             247 non-null object\n",
      "Vehicle First Impact Location     247 non-null object\n",
      "Vehicle Second Impact Location    247 non-null object\n",
      "Vehicle Body Type                 245 non-null object\n",
      "Vehicle Movement                  247 non-null object\n",
      "Vehicle Continuing Dir            247 non-null object\n",
      "Vehicle Going Dir                 247 non-null object\n",
      "Speed Limit                       247 non-null int64\n",
      "Driverless Vehicle                247 non-null object\n",
      "Parked Vehicle                    247 non-null object\n",
      "Vehicle Year                      247 non-null int64\n",
      "Vehicle Make                      247 non-null object\n",
      "Vehicle Model                     247 non-null object\n",
      "Equipment Problems                209 non-null object\n",
      "Latitude_x                        247 non-null float64\n",
      "Longitude_x                       247 non-null float64\n",
      "Location_x                        247 non-null object\n",
      "Crash Date                        247 non-null object\n",
      "Crash Time                        247 non-null object\n",
      "Hit/Run                           247 non-null object\n",
      "Mile Point                        243 non-null float64\n",
      "Mile Point Direction              242 non-null object\n",
      "Lane Direction                    244 non-null object\n",
      "Lane Number                       247 non-null int64\n",
      "Number of Lanes                   247 non-null int64\n",
      "Direction                         243 non-null object\n",
      "Distance                          244 non-null float64\n",
      "Distance Unit                     244 non-null object\n",
      "Road Grade                        244 non-null object\n",
      "NonTraffic                        247 non-null object\n",
      "At Fault                          247 non-null object\n",
      "First Harmful Event               247 non-null object\n",
      "Second Harmful Event              132 non-null object\n",
      "Fixed Oject Struck                109 non-null object\n",
      "Junction                          228 non-null object\n",
      "Intersection Type                 141 non-null object\n",
      "Road Alignment                    244 non-null object\n",
      "Road Condition                    240 non-null object\n",
      "Road Division                     242 non-null object\n",
      "dtypes: float64(4), int64(4), object(48)\n",
      "memory usage: 110.0+ KB\n"
     ]
    }
   ],
   "source": [
    "New.info()"
   ]
  },
  {
   "cell_type": "code",
   "execution_count": 290,
   "metadata": {},
   "outputs": [],
   "source": [
    "New.fillna('UNKNOWN', inplace=True)"
   ]
  },
  {
   "cell_type": "code",
   "execution_count": 291,
   "metadata": {},
   "outputs": [
    {
     "data": {
      "text/plain": [
       "UNKNOWN            215\n",
       "NONE DETECTED       24\n",
       "ALCOHOL PRESENT      8\n",
       "Name: Non-Motorist Substance Abuse_x, dtype: int64"
      ]
     },
     "execution_count": 291,
     "metadata": {},
     "output_type": "execute_result"
    }
   ],
   "source": [
    "# explore each column to check missing values and the different catagories\n",
    "New['Non-Motorist Substance Abuse_x'].value_counts()"
   ]
  },
  {
   "cell_type": "code",
   "execution_count": 292,
   "metadata": {},
   "outputs": [
    {
     "data": {
      "text/plain": [
       "1    239\n",
       "2      8\n",
       "Name: Non-Motorist Substance Abuse_x, dtype: int64"
      ]
     },
     "execution_count": 292,
     "metadata": {},
     "output_type": "execute_result"
    }
   ],
   "source": [
    "encoding_light = {\"Non-Motorist Substance Abuse_x\": \n",
    "                            {\"UNKNOWN\": 1,\n",
    "                             \"NONE DETECTED\": 1,\n",
    "                             \"ALCOHOL PRESENT\": 2,\n",
    "                             }}\n",
    "New.replace(encoding_light, inplace=True)\n",
    "New['Non-Motorist Substance Abuse_x'].value_counts()"
   ]
  },
  {
   "cell_type": "code",
   "execution_count": 293,
   "metadata": {},
   "outputs": [
    {
     "data": {
      "text/plain": [
       "NO APPARENT INJURY          99\n",
       "FATAL INJURY                86\n",
       "SUSPECTED MINOR INJURY      27\n",
       "POSSIBLE INJURY             25\n",
       "SUSPECTED SERIOUS INJURY    10\n",
       "Name: Injury Severity, dtype: int64"
      ]
     },
     "execution_count": 293,
     "metadata": {},
     "output_type": "execute_result"
    }
   ],
   "source": [
    "# Here Injury Severity meas the injury to a Driver\n",
    "New['Injury Severity'].value_counts()"
   ]
  },
  {
   "cell_type": "code",
   "execution_count": 294,
   "metadata": {},
   "outputs": [
    {
     "data": {
      "text/plain": [
       "PASSENGER CAR                                                148\n",
       "(SPORT) UTILITY VEHICLE                                       37\n",
       "MOTORCYCLE                                                    19\n",
       "PICKUP TRUCK                                                  14\n",
       "VAN                                                            8\n",
       "TRANSIT BUS                                                    4\n",
       "CARGO VAN/LIGHT TRUCK 2 AXLES (OVER 10,000LBS (4,536 KG))      3\n",
       "MEDIUM/HEAVY TRUCKS 3 AXLES (OVER 10,000LBS (4,536KG))         3\n",
       "SCHOOL BUS                                                     3\n",
       "UNKNOWN                                                        2\n",
       "TRUCK TRACTOR                                                  1\n",
       "MOPED                                                          1\n",
       "OTHER LIGHT TRUCKS (10,000LBS (4,536KG) OR LESS)               1\n",
       "STATION WAGON                                                  1\n",
       "ALL TERRAIN VEHICLE (ATV)                                      1\n",
       "OTHER                                                          1\n",
       "Name: Vehicle Body Type, dtype: int64"
      ]
     },
     "execution_count": 294,
     "metadata": {},
     "output_type": "execute_result"
    }
   ],
   "source": [
    "New['Vehicle Body Type'].value_counts()"
   ]
  },
  {
   "cell_type": "code",
   "execution_count": 295,
   "metadata": {},
   "outputs": [
    {
     "data": {
      "text/plain": [
       "No    247\n",
       "Name: Driverless Vehicle, dtype: int64"
      ]
     },
     "execution_count": 295,
     "metadata": {},
     "output_type": "execute_result"
    }
   ],
   "source": [
    "New['Driverless Vehicle'].value_counts()"
   ]
  },
  {
   "cell_type": "code",
   "execution_count": 296,
   "metadata": {},
   "outputs": [
    {
     "data": {
      "text/plain": [
       "NO CONTROLS                83\n",
       "TRAFFIC SIGNAL             73\n",
       "UNKNOWN                    48\n",
       "STOP SIGN                  23\n",
       "FLASHING TRAFFIC SIGNAL    13\n",
       "OTHER                       5\n",
       "WARNING SIGN                2\n",
       "Name: Traffic Control_x, dtype: int64"
      ]
     },
     "execution_count": 296,
     "metadata": {},
     "output_type": "execute_result"
    }
   ],
   "source": [
    "New['Traffic Control_x'].value_counts()"
   ]
  },
  {
   "cell_type": "code",
   "execution_count": 297,
   "metadata": {},
   "outputs": [
    {
     "data": {
      "text/plain": [
       "1    131\n",
       "2     86\n",
       "3     25\n",
       "4      5\n",
       "Name: Traffic Control_x, dtype: int64"
      ]
     },
     "execution_count": 297,
     "metadata": {},
     "output_type": "execute_result"
    }
   ],
   "source": [
    "encoding_light = {\"Traffic Control_x\": \n",
    "                            {\"NO CONTROLS\": 1,\n",
    "                             \"FLASHING TRAFFIC SIGNAL\": 2,\n",
    "                             \"TRAFFIC SIGNAL\": 2,\n",
    "                             \"WARNING SIGN\": 3,\n",
    "                             \"STOP SIGN\": 3,\n",
    "                             \"OTHER\": 4,\n",
    "                             \"UNKNOWN\": 1,\n",
    "                             }}\n",
    "New.replace(encoding_light, inplace=True)\n",
    "New['Traffic Control_x'].value_counts()"
   ]
  },
  {
   "cell_type": "code",
   "execution_count": 298,
   "metadata": {},
   "outputs": [
    {
     "data": {
      "text/plain": [
       "No    247\n",
       "Name: Parked Vehicle, dtype: int64"
      ]
     },
     "execution_count": 298,
     "metadata": {},
     "output_type": "execute_result"
    }
   ],
   "source": [
    "New['Parked Vehicle'].value_counts()"
   ]
  },
  {
   "cell_type": "code",
   "execution_count": 299,
   "metadata": {},
   "outputs": [
    {
     "data": {
      "text/plain": [
       "INTERSECTION            108\n",
       "NON INTERSECTION         83\n",
       "INTERSECTION RELATED     26\n",
       "UNKNOWN                  19\n",
       "RESIDENTIAL DRIVEWAY      6\n",
       "COMMERCIAL DRIVEWAY       3\n",
       "OTHER                     2\n",
       "Name: Junction, dtype: int64"
      ]
     },
     "execution_count": 299,
     "metadata": {},
     "output_type": "execute_result"
    }
   ],
   "source": [
    "New['Junction'].value_counts()"
   ]
  },
  {
   "cell_type": "code",
   "execution_count": 300,
   "metadata": {},
   "outputs": [
    {
     "data": {
      "text/plain": [
       "1    134\n",
       "2     83\n",
       "4     21\n",
       "3      9\n",
       "Name: Junction, dtype: int64"
      ]
     },
     "execution_count": 300,
     "metadata": {},
     "output_type": "execute_result"
    }
   ],
   "source": [
    "encoding_Junction = {\"Junction\": \n",
    "                            {\"INTERSECTION\": 1,\n",
    "                             \"NON INTERSECTION\": 2,\n",
    "                             \"INTERSECTION RELATED\": 1,\n",
    "                             \"RESIDENTIAL DRIVEWAY\": 3,\n",
    "                             \"COMMERCIAL DRIVEWAY\": 3,\n",
    "                             \"OTHER\": 4,\n",
    "                            \"UNKNOWN\": 4,\n",
    "                             }}\n",
    "New.replace(encoding_Junction, inplace=True)\n",
    "New['Junction'].value_counts()"
   ]
  },
  {
   "cell_type": "code",
   "execution_count": 301,
   "metadata": {},
   "outputs": [
    {
     "data": {
      "text/plain": [
       "40    84\n",
       "35    40\n",
       "50    37\n",
       "30    36\n",
       "45    30\n",
       "25    17\n",
       "0      2\n",
       "15     1\n",
       "Name: Speed Limit, dtype: int64"
      ]
     },
     "execution_count": 301,
     "metadata": {},
     "output_type": "execute_result"
    }
   ],
   "source": [
    "New['Speed Limit'].value_counts()"
   ]
  },
  {
   "cell_type": "code",
   "execution_count": 302,
   "metadata": {},
   "outputs": [
    {
     "data": {
      "text/plain": [
       "SINGLE VEHICLE              83\n",
       "STRAIGHT MOVEMENT ANGLE     47\n",
       "OTHER                       34\n",
       "HEAD ON                     30\n",
       "HEAD ON LEFT TURN           29\n",
       "SAME DIR REAR END           18\n",
       "ANGLE MEETS LEFT HEAD ON     2\n",
       "SAME DIR REND RIGHT TURN     2\n",
       "SAME DIRECTION LEFT TURN     2\n",
       "Name: Collision Type_x, dtype: int64"
      ]
     },
     "execution_count": 302,
     "metadata": {},
     "output_type": "execute_result"
    }
   ],
   "source": [
    "New['Collision Type_x'].value_counts()"
   ]
  },
  {
   "cell_type": "code",
   "execution_count": 303,
   "metadata": {},
   "outputs": [
    {
     "data": {
      "text/plain": [
       "Text(0.5, 1.05, 'Collision Type')"
      ]
     },
     "execution_count": 303,
     "metadata": {},
     "output_type": "execute_result"
    },
    {
     "data": {
      "image/png": "[encoded data removed]",
      "text/plain": [
       "<Figure size 720x432 with 1 Axes>"
      ]
     },
     "metadata": {
      "needs_background": "light"
     },
     "output_type": "display_data"
    }
   ],
   "source": [
    "df = New.groupby(['Collision Type_x']).size().reset_index(name='counts')\n",
    "\n",
    "fig, ax = plt.subplots(figsize=(10,6))\n",
    "\n",
    "sns.barplot(x ='Collision Type_x',\n",
    "            y='counts',\n",
    "            ax=ax,\n",
    "            data=df)\n",
    "ax.set_title('Collision Type', fontsize=18, position=(0.5,1.05))"
   ]
  },
  {
   "cell_type": "code",
   "execution_count": 306,
   "metadata": {},
   "outputs": [
    {
     "ename": "TypeError",
     "evalue": "Cannot compare types 'ndarray(dtype=int64)' and 'str'",
     "output_type": "error",
     "traceback": [
      "\u001b[1;31m---------------------------------------------------------------------------\u001b[0m",
      "\u001b[1;31mTypeError\u001b[0m                                 Traceback (most recent call last)",
      "\u001b[1;32m<ipython-input-306-415784dd077a>\u001b[0m in \u001b[0;36m<module>\u001b[1;34m\u001b[0m\n\u001b[0;32m     10\u001b[0m                              \u001b[1;34m\"OTHER\"\u001b[0m\u001b[1;33m:\u001b[0m\u001b[1;36m9\u001b[0m\u001b[1;33m,\u001b[0m\u001b[1;33m\u001b[0m\u001b[1;33m\u001b[0m\u001b[0m\n\u001b[0;32m     11\u001b[0m                              }}\n\u001b[1;32m---> 12\u001b[1;33m \u001b[0mNew\u001b[0m\u001b[1;33m.\u001b[0m\u001b[0mreplace\u001b[0m\u001b[1;33m(\u001b[0m\u001b[0mencoding_CollisionType\u001b[0m\u001b[1;33m,\u001b[0m \u001b[0minplace\u001b[0m\u001b[1;33m=\u001b[0m\u001b[1;32mTrue\u001b[0m\u001b[1;33m)\u001b[0m\u001b[1;33m\u001b[0m\u001b[1;33m\u001b[0m\u001b[0m\n\u001b[0m\u001b[0;32m     13\u001b[0m \u001b[0mNew\u001b[0m\u001b[1;33m[\u001b[0m\u001b[1;34m'Collision Type_x'\u001b[0m\u001b[1;33m]\u001b[0m\u001b[1;33m.\u001b[0m\u001b[0mvalue_counts\u001b[0m\u001b[1;33m(\u001b[0m\u001b[1;33m)\u001b[0m\u001b[1;33m\u001b[0m\u001b[1;33m\u001b[0m\u001b[0m\n",
      "\u001b[1;32m~\\Anaconda3\\lib\\site-packages\\pandas\\core\\frame.py\u001b[0m in \u001b[0;36mreplace\u001b[1;34m(self, to_replace, value, inplace, limit, regex, method)\u001b[0m\n\u001b[0;32m   4040\u001b[0m                                               \u001b[0mvalue\u001b[0m\u001b[1;33m=\u001b[0m\u001b[0mvalue\u001b[0m\u001b[1;33m,\u001b[0m \u001b[0minplace\u001b[0m\u001b[1;33m=\u001b[0m\u001b[0minplace\u001b[0m\u001b[1;33m,\u001b[0m\u001b[1;33m\u001b[0m\u001b[1;33m\u001b[0m\u001b[0m\n\u001b[0;32m   4041\u001b[0m                                               \u001b[0mlimit\u001b[0m\u001b[1;33m=\u001b[0m\u001b[0mlimit\u001b[0m\u001b[1;33m,\u001b[0m \u001b[0mregex\u001b[0m\u001b[1;33m=\u001b[0m\u001b[0mregex\u001b[0m\u001b[1;33m,\u001b[0m\u001b[1;33m\u001b[0m\u001b[1;33m\u001b[0m\u001b[0m\n\u001b[1;32m-> 4042\u001b[1;33m                                               method=method)\n\u001b[0m\u001b[0;32m   4043\u001b[0m \u001b[1;33m\u001b[0m\u001b[0m\n\u001b[0;32m   4044\u001b[0m     \u001b[1;33m@\u001b[0m\u001b[0mAppender\u001b[0m\u001b[1;33m(\u001b[0m\u001b[0m_shared_docs\u001b[0m\u001b[1;33m[\u001b[0m\u001b[1;34m'shift'\u001b[0m\u001b[1;33m]\u001b[0m \u001b[1;33m%\u001b[0m \u001b[0m_shared_doc_kwargs\u001b[0m\u001b[1;33m)\u001b[0m\u001b[1;33m\u001b[0m\u001b[1;33m\u001b[0m\u001b[0m\n",
      "\u001b[1;32m~\\Anaconda3\\lib\\site-packages\\pandas\\core\\generic.py\u001b[0m in \u001b[0;36mreplace\u001b[1;34m(self, to_replace, value, inplace, limit, regex, method)\u001b[0m\n\u001b[0;32m   6496\u001b[0m \u001b[1;33m\u001b[0m\u001b[0m\n\u001b[0;32m   6497\u001b[0m             return self.replace(to_replace, value, inplace=inplace,\n\u001b[1;32m-> 6498\u001b[1;33m                                 limit=limit, regex=regex)\n\u001b[0m\u001b[0;32m   6499\u001b[0m         \u001b[1;32melse\u001b[0m\u001b[1;33m:\u001b[0m\u001b[1;33m\u001b[0m\u001b[1;33m\u001b[0m\u001b[0m\n\u001b[0;32m   6500\u001b[0m \u001b[1;33m\u001b[0m\u001b[0m\n",
      "\u001b[1;32m~\\Anaconda3\\lib\\site-packages\\pandas\\core\\frame.py\u001b[0m in \u001b[0;36mreplace\u001b[1;34m(self, to_replace, value, inplace, limit, regex, method)\u001b[0m\n\u001b[0;32m   4040\u001b[0m                                               \u001b[0mvalue\u001b[0m\u001b[1;33m=\u001b[0m\u001b[0mvalue\u001b[0m\u001b[1;33m,\u001b[0m \u001b[0minplace\u001b[0m\u001b[1;33m=\u001b[0m\u001b[0minplace\u001b[0m\u001b[1;33m,\u001b[0m\u001b[1;33m\u001b[0m\u001b[1;33m\u001b[0m\u001b[0m\n\u001b[0;32m   4041\u001b[0m                                               \u001b[0mlimit\u001b[0m\u001b[1;33m=\u001b[0m\u001b[0mlimit\u001b[0m\u001b[1;33m,\u001b[0m \u001b[0mregex\u001b[0m\u001b[1;33m=\u001b[0m\u001b[0mregex\u001b[0m\u001b[1;33m,\u001b[0m\u001b[1;33m\u001b[0m\u001b[1;33m\u001b[0m\u001b[0m\n\u001b[1;32m-> 4042\u001b[1;33m                                               method=method)\n\u001b[0m\u001b[0;32m   4043\u001b[0m \u001b[1;33m\u001b[0m\u001b[0m\n\u001b[0;32m   4044\u001b[0m     \u001b[1;33m@\u001b[0m\u001b[0mAppender\u001b[0m\u001b[1;33m(\u001b[0m\u001b[0m_shared_docs\u001b[0m\u001b[1;33m[\u001b[0m\u001b[1;34m'shift'\u001b[0m\u001b[1;33m]\u001b[0m \u001b[1;33m%\u001b[0m \u001b[0m_shared_doc_kwargs\u001b[0m\u001b[1;33m)\u001b[0m\u001b[1;33m\u001b[0m\u001b[1;33m\u001b[0m\u001b[0m\n",
      "\u001b[1;32m~\\Anaconda3\\lib\\site-packages\\pandas\\core\\generic.py\u001b[0m in \u001b[0;36mreplace\u001b[1;34m(self, to_replace, value, inplace, limit, regex, method)\u001b[0m\n\u001b[0;32m   6515\u001b[0m                                                     \u001b[0mvalue\u001b[0m\u001b[1;33m=\u001b[0m\u001b[0mvalue\u001b[0m\u001b[1;33m[\u001b[0m\u001b[0mc\u001b[0m\u001b[1;33m]\u001b[0m\u001b[1;33m,\u001b[0m\u001b[1;33m\u001b[0m\u001b[1;33m\u001b[0m\u001b[0m\n\u001b[0;32m   6516\u001b[0m                                                     \u001b[0minplace\u001b[0m\u001b[1;33m=\u001b[0m\u001b[1;32mFalse\u001b[0m\u001b[1;33m,\u001b[0m\u001b[1;33m\u001b[0m\u001b[1;33m\u001b[0m\u001b[0m\n\u001b[1;32m-> 6517\u001b[1;33m                                                     regex=regex)\n\u001b[0m\u001b[0;32m   6518\u001b[0m                     \u001b[1;32mreturn\u001b[0m \u001b[1;32mNone\u001b[0m \u001b[1;32mif\u001b[0m \u001b[0minplace\u001b[0m \u001b[1;32melse\u001b[0m \u001b[0mres\u001b[0m\u001b[1;33m\u001b[0m\u001b[1;33m\u001b[0m\u001b[0m\n\u001b[0;32m   6519\u001b[0m \u001b[1;33m\u001b[0m\u001b[0m\n",
      "\u001b[1;32m~\\Anaconda3\\lib\\site-packages\\pandas\\core\\series.py\u001b[0m in \u001b[0;36mreplace\u001b[1;34m(self, to_replace, value, inplace, limit, regex, method)\u001b[0m\n\u001b[0;32m   3843\u001b[0m         return super(Series, self).replace(to_replace=to_replace, value=value,\n\u001b[0;32m   3844\u001b[0m                                            \u001b[0minplace\u001b[0m\u001b[1;33m=\u001b[0m\u001b[0minplace\u001b[0m\u001b[1;33m,\u001b[0m \u001b[0mlimit\u001b[0m\u001b[1;33m=\u001b[0m\u001b[0mlimit\u001b[0m\u001b[1;33m,\u001b[0m\u001b[1;33m\u001b[0m\u001b[1;33m\u001b[0m\u001b[0m\n\u001b[1;32m-> 3845\u001b[1;33m                                            regex=regex, method=method)\n\u001b[0m\u001b[0;32m   3846\u001b[0m \u001b[1;33m\u001b[0m\u001b[0m\n\u001b[0;32m   3847\u001b[0m     \u001b[1;33m@\u001b[0m\u001b[0mAppender\u001b[0m\u001b[1;33m(\u001b[0m\u001b[0mgeneric\u001b[0m\u001b[1;33m.\u001b[0m\u001b[0m_shared_docs\u001b[0m\u001b[1;33m[\u001b[0m\u001b[1;34m'shift'\u001b[0m\u001b[1;33m]\u001b[0m \u001b[1;33m%\u001b[0m \u001b[0m_shared_doc_kwargs\u001b[0m\u001b[1;33m)\u001b[0m\u001b[1;33m\u001b[0m\u001b[1;33m\u001b[0m\u001b[0m\n",
      "\u001b[1;32m~\\Anaconda3\\lib\\site-packages\\pandas\\core\\generic.py\u001b[0m in \u001b[0;36mreplace\u001b[1;34m(self, to_replace, value, inplace, limit, regex, method)\u001b[0m\n\u001b[0;32m   6545\u001b[0m                                                        \u001b[0mdest_list\u001b[0m\u001b[1;33m=\u001b[0m\u001b[0mvalue\u001b[0m\u001b[1;33m,\u001b[0m\u001b[1;33m\u001b[0m\u001b[1;33m\u001b[0m\u001b[0m\n\u001b[0;32m   6546\u001b[0m                                                        \u001b[0minplace\u001b[0m\u001b[1;33m=\u001b[0m\u001b[0minplace\u001b[0m\u001b[1;33m,\u001b[0m\u001b[1;33m\u001b[0m\u001b[1;33m\u001b[0m\u001b[0m\n\u001b[1;32m-> 6547\u001b[1;33m                                                        regex=regex)\n\u001b[0m\u001b[0;32m   6548\u001b[0m \u001b[1;33m\u001b[0m\u001b[0m\n\u001b[0;32m   6549\u001b[0m                 \u001b[1;32melse\u001b[0m\u001b[1;33m:\u001b[0m  \u001b[1;31m# [NA, ''] -> 0\u001b[0m\u001b[1;33m\u001b[0m\u001b[1;33m\u001b[0m\u001b[0m\n",
      "\u001b[1;32m~\\Anaconda3\\lib\\site-packages\\pandas\\core\\internals\\managers.py\u001b[0m in \u001b[0;36mreplace_list\u001b[1;34m(self, src_list, dest_list, inplace, regex)\u001b[0m\n\u001b[0;32m    557\u001b[0m             \u001b[1;32mreturn\u001b[0m \u001b[0m_compare_or_regex_search\u001b[0m\u001b[1;33m(\u001b[0m\u001b[0mvalues\u001b[0m\u001b[1;33m,\u001b[0m \u001b[0ms\u001b[0m\u001b[1;33m,\u001b[0m \u001b[0mregex\u001b[0m\u001b[1;33m)\u001b[0m\u001b[1;33m\u001b[0m\u001b[1;33m\u001b[0m\u001b[0m\n\u001b[0;32m    558\u001b[0m \u001b[1;33m\u001b[0m\u001b[0m\n\u001b[1;32m--> 559\u001b[1;33m         \u001b[0mmasks\u001b[0m \u001b[1;33m=\u001b[0m \u001b[1;33m[\u001b[0m\u001b[0mcomp\u001b[0m\u001b[1;33m(\u001b[0m\u001b[0ms\u001b[0m\u001b[1;33m,\u001b[0m \u001b[0mregex\u001b[0m\u001b[1;33m)\u001b[0m \u001b[1;32mfor\u001b[0m \u001b[0mi\u001b[0m\u001b[1;33m,\u001b[0m \u001b[0ms\u001b[0m \u001b[1;32min\u001b[0m \u001b[0menumerate\u001b[0m\u001b[1;33m(\u001b[0m\u001b[0msrc_list\u001b[0m\u001b[1;33m)\u001b[0m\u001b[1;33m]\u001b[0m\u001b[1;33m\u001b[0m\u001b[1;33m\u001b[0m\u001b[0m\n\u001b[0m\u001b[0;32m    560\u001b[0m \u001b[1;33m\u001b[0m\u001b[0m\n\u001b[0;32m    561\u001b[0m         \u001b[0mresult_blocks\u001b[0m \u001b[1;33m=\u001b[0m \u001b[1;33m[\u001b[0m\u001b[1;33m]\u001b[0m\u001b[1;33m\u001b[0m\u001b[1;33m\u001b[0m\u001b[0m\n",
      "\u001b[1;32m~\\Anaconda3\\lib\\site-packages\\pandas\\core\\internals\\managers.py\u001b[0m in \u001b[0;36m<listcomp>\u001b[1;34m(.0)\u001b[0m\n\u001b[0;32m    557\u001b[0m             \u001b[1;32mreturn\u001b[0m \u001b[0m_compare_or_regex_search\u001b[0m\u001b[1;33m(\u001b[0m\u001b[0mvalues\u001b[0m\u001b[1;33m,\u001b[0m \u001b[0ms\u001b[0m\u001b[1;33m,\u001b[0m \u001b[0mregex\u001b[0m\u001b[1;33m)\u001b[0m\u001b[1;33m\u001b[0m\u001b[1;33m\u001b[0m\u001b[0m\n\u001b[0;32m    558\u001b[0m \u001b[1;33m\u001b[0m\u001b[0m\n\u001b[1;32m--> 559\u001b[1;33m         \u001b[0mmasks\u001b[0m \u001b[1;33m=\u001b[0m \u001b[1;33m[\u001b[0m\u001b[0mcomp\u001b[0m\u001b[1;33m(\u001b[0m\u001b[0ms\u001b[0m\u001b[1;33m,\u001b[0m \u001b[0mregex\u001b[0m\u001b[1;33m)\u001b[0m \u001b[1;32mfor\u001b[0m \u001b[0mi\u001b[0m\u001b[1;33m,\u001b[0m \u001b[0ms\u001b[0m \u001b[1;32min\u001b[0m \u001b[0menumerate\u001b[0m\u001b[1;33m(\u001b[0m\u001b[0msrc_list\u001b[0m\u001b[1;33m)\u001b[0m\u001b[1;33m]\u001b[0m\u001b[1;33m\u001b[0m\u001b[1;33m\u001b[0m\u001b[0m\n\u001b[0m\u001b[0;32m    560\u001b[0m \u001b[1;33m\u001b[0m\u001b[0m\n\u001b[0;32m    561\u001b[0m         \u001b[0mresult_blocks\u001b[0m \u001b[1;33m=\u001b[0m \u001b[1;33m[\u001b[0m\u001b[1;33m]\u001b[0m\u001b[1;33m\u001b[0m\u001b[1;33m\u001b[0m\u001b[0m\n",
      "\u001b[1;32m~\\Anaconda3\\lib\\site-packages\\pandas\\core\\internals\\managers.py\u001b[0m in \u001b[0;36mcomp\u001b[1;34m(s, regex)\u001b[0m\n\u001b[0;32m    555\u001b[0m                 return _compare_or_regex_search(maybe_convert_objects(values),\n\u001b[0;32m    556\u001b[0m                                                 getattr(s, 'asm8'), regex)\n\u001b[1;32m--> 557\u001b[1;33m             \u001b[1;32mreturn\u001b[0m \u001b[0m_compare_or_regex_search\u001b[0m\u001b[1;33m(\u001b[0m\u001b[0mvalues\u001b[0m\u001b[1;33m,\u001b[0m \u001b[0ms\u001b[0m\u001b[1;33m,\u001b[0m \u001b[0mregex\u001b[0m\u001b[1;33m)\u001b[0m\u001b[1;33m\u001b[0m\u001b[1;33m\u001b[0m\u001b[0m\n\u001b[0m\u001b[0;32m    558\u001b[0m \u001b[1;33m\u001b[0m\u001b[0m\n\u001b[0;32m    559\u001b[0m         \u001b[0mmasks\u001b[0m \u001b[1;33m=\u001b[0m \u001b[1;33m[\u001b[0m\u001b[0mcomp\u001b[0m\u001b[1;33m(\u001b[0m\u001b[0ms\u001b[0m\u001b[1;33m,\u001b[0m \u001b[0mregex\u001b[0m\u001b[1;33m)\u001b[0m \u001b[1;32mfor\u001b[0m \u001b[0mi\u001b[0m\u001b[1;33m,\u001b[0m \u001b[0ms\u001b[0m \u001b[1;32min\u001b[0m \u001b[0menumerate\u001b[0m\u001b[1;33m(\u001b[0m\u001b[0msrc_list\u001b[0m\u001b[1;33m)\u001b[0m\u001b[1;33m]\u001b[0m\u001b[1;33m\u001b[0m\u001b[1;33m\u001b[0m\u001b[0m\n",
      "\u001b[1;32m~\\Anaconda3\\lib\\site-packages\\pandas\\core\\internals\\managers.py\u001b[0m in \u001b[0;36m_compare_or_regex_search\u001b[1;34m(a, b, regex)\u001b[0m\n\u001b[0;32m   1949\u001b[0m         raise TypeError(\n\u001b[0;32m   1950\u001b[0m             \"Cannot compare types {a!r} and {b!r}\".format(a=type_names[0],\n\u001b[1;32m-> 1951\u001b[1;33m                                                           b=type_names[1]))\n\u001b[0m\u001b[0;32m   1952\u001b[0m     \u001b[1;32mreturn\u001b[0m \u001b[0mresult\u001b[0m\u001b[1;33m\u001b[0m\u001b[1;33m\u001b[0m\u001b[0m\n\u001b[0;32m   1953\u001b[0m \u001b[1;33m\u001b[0m\u001b[0m\n",
      "\u001b[1;31mTypeError\u001b[0m: Cannot compare types 'ndarray(dtype=int64)' and 'str'"
     ]
    }
   ],
   "source": [
    "encoding_CollisionType = {\"Collision Type_x\": \n",
    "                            {\"SINGLE VEHICLE\": 1,\n",
    "                             \"STRAIGHT MOVEMENT ANGLE\": 2,\n",
    "                             \"HEAD ON\": 3,\n",
    "                             \"HEAD ON LEFT TURN\": 4,\n",
    "                             \"SAME DIR REAR END\": 5,\n",
    "                             \"SAME DIR REND RIGHT TURN\": 6,\n",
    "                             \"SAME DIRECTION LEFT TURN\": 7,\n",
    "                             \"ANGLE MEETS LEFT HEAD ON\": 8,\n",
    "                             \"OTHER\":9,\n",
    "                             }}\n",
    "New.replace(encoding_CollisionType, inplace=True)\n",
    "New['Collision Type_x'].value_counts()"
   ]
  },
  {
   "cell_type": "code",
   "execution_count": 307,
   "metadata": {},
   "outputs": [
    {
     "data": {
      "text/plain": [
       "Text(0.5, 1.05, 'Collision Type')"
      ]
     },
     "execution_count": 307,
     "metadata": {},
     "output_type": "execute_result"
    },
    {
     "data": {
      "image/png": "[encoded data removed]",
      "text/plain": [
       "<Figure size 720x432 with 1 Axes>"
      ]
     },
     "metadata": {
      "needs_background": "light"
     },
     "output_type": "display_data"
    }
   ],
   "source": [
    "df = New.groupby(['Collision Type_x']).size().reset_index(name='counts')\n",
    "\n",
    "fig, ax = plt.subplots(figsize=(10,6))\n",
    "\n",
    "sns.barplot(x ='Collision Type_x',\n",
    "            y='counts',\n",
    "            ax=ax,\n",
    "            data=df)\n",
    "ax.set_title('Collision Type', fontsize=18, position=(0.5,1.05))"
   ]
  },
  {
   "cell_type": "code",
   "execution_count": 308,
   "metadata": {},
   "outputs": [
    {
     "data": {
      "text/plain": [
       "NONE DETECTED                 127\n",
       "UNKNOWN                        98\n",
       "ALCOHOL PRESENT                12\n",
       "COMBINED SUBSTANCE PRESENT      4\n",
       "ALCOHOL CONTRIBUTED             3\n",
       "ILLEGAL DRUG PRESENT            2\n",
       "MEDICATION PRESENT              1\n",
       "Name: Driver Substance Abuse_x, dtype: int64"
      ]
     },
     "execution_count": 308,
     "metadata": {},
     "output_type": "execute_result"
    }
   ],
   "source": [
    "New['Driver Substance Abuse_x'].value_counts() "
   ]
  },
  {
   "cell_type": "code",
   "execution_count": 309,
   "metadata": {},
   "outputs": [
    {
     "data": {
      "text/plain": [
       "1    225\n",
       "2     22\n",
       "Name: Driver Substance Abuse_x, dtype: int64"
      ]
     },
     "execution_count": 309,
     "metadata": {},
     "output_type": "execute_result"
    }
   ],
   "source": [
    "encoding_DriverAbuse = {\"Driver Substance Abuse_x\": \n",
    "                            {\"NONE DETECTED\": 1,\n",
    "                             \"UNKNOWN\": 1,\n",
    "                             \"ALCOHOL PRESENT\": 2,\n",
    "                             \"COMBINED SUBSTANCE PRESENT\": 2,\n",
    "                             \"ALCOHOL CONTRIBUTED\": 2,\n",
    "                             \"ILLEGAL DRUG PRESENT\": 2,\n",
    "                             \"MEDICATION PRESENT\": 2,\n",
    "                             }}\n",
    "New.replace(encoding_DriverAbuse, inplace=True)\n",
    "New['Driver Substance Abuse_x'].value_counts()"
   ]
  },
  {
   "cell_type": "code",
   "execution_count": 310,
   "metadata": {},
   "outputs": [],
   "source": [
    "New['Driver Substance Abuse_x'].fillna('UNKNOWN', inplace=True)"
   ]
  },
  {
   "cell_type": "code",
   "execution_count": 311,
   "metadata": {},
   "outputs": [],
   "source": [
    "New['Non-Motorist Substance Abuse_x'].fillna('UNKNOWN', inplace=True)"
   ]
  },
  {
   "cell_type": "code",
   "execution_count": 312,
   "metadata": {},
   "outputs": [
    {
     "data": {
      "text/plain": [
       "1    239\n",
       "2      8\n",
       "Name: Non-Motorist Substance Abuse_x, dtype: int64"
      ]
     },
     "execution_count": 312,
     "metadata": {},
     "output_type": "execute_result"
    }
   ],
   "source": [
    "New['Non-Motorist Substance Abuse_x'].value_counts()"
   ]
  },
  {
   "cell_type": "code",
   "execution_count": 313,
   "metadata": {
    "scrolled": true
   },
   "outputs": [
    {
     "data": {
      "text/plain": [
       "Maryland (State)        148\n",
       "County                   74\n",
       "US (State)                9\n",
       "Municipality              9\n",
       "UNKNOWN                   5\n",
       "Other Public Roadway      1\n",
       "Government                1\n",
       "Name: Route Type_x, dtype: int64"
      ]
     },
     "execution_count": 313,
     "metadata": {},
     "output_type": "execute_result"
    }
   ],
   "source": [
    "New['Route Type_x'].value_counts()"
   ]
  },
  {
   "cell_type": "code",
   "execution_count": 314,
   "metadata": {},
   "outputs": [
    {
     "data": {
      "text/plain": [
       "UNKNOWN                                   182\n",
       "NOT DISTRACTED                             56\n",
       "LOOKED BUT DID NOT SEE                      7\n",
       "TALKING OR LISTENING TO CELLULAR PHONE      1\n",
       "OTHER DISTRACTION                           1\n",
       "Name: Driver Distracted By, dtype: int64"
      ]
     },
     "execution_count": 314,
     "metadata": {},
     "output_type": "execute_result"
    }
   ],
   "source": [
    "New['Driver Distracted By'].value_counts()"
   ]
  },
  {
   "cell_type": "code",
   "execution_count": 315,
   "metadata": {},
   "outputs": [
    {
     "data": {
      "text/plain": [
       "1    238\n",
       "2      9\n",
       "Name: Driver Distracted By, dtype: int64"
      ]
     },
     "execution_count": 315,
     "metadata": {},
     "output_type": "execute_result"
    }
   ],
   "source": [
    "encoding_DriverDistract = {\"Driver Distracted By\": \n",
    "                            {\"NOT DISTRACTED\": 1,\n",
    "                             \"UNKNOWN\": 1,\n",
    "                             \"LOOKED BUT DID NOT SEE\": 2,\n",
    "                             \"TALKING OR LISTENING TO CELLULAR PHONE\": 2,\n",
    "                             \"OTHER DISTRACTION\": 2,\n",
    "                            \n",
    "                             }}\n",
    "New.replace(encoding_DriverDistract, inplace=True)\n",
    "New['Driver Distracted By'].value_counts()"
   ]
  },
  {
   "cell_type": "code",
   "execution_count": 316,
   "metadata": {},
   "outputs": [
    {
     "data": {
      "text/plain": [
       "No     238\n",
       "Yes      9\n",
       "Name: Hit/Run, dtype: int64"
      ]
     },
     "execution_count": 316,
     "metadata": {},
     "output_type": "execute_result"
    }
   ],
   "source": [
    "New['Hit/Run'].value_counts()"
   ]
  },
  {
   "cell_type": "code",
   "execution_count": 317,
   "metadata": {},
   "outputs": [
    {
     "data": {
      "text/plain": [
       "1    238\n",
       "2      9\n",
       "Name: Hit/Run, dtype: int64"
      ]
     },
     "execution_count": 317,
     "metadata": {},
     "output_type": "execute_result"
    }
   ],
   "source": [
    "encoding_hitrun = {\"Hit/Run\": \n",
    "                            {\"No\": 1,\n",
    "                             \"Yes\": 2\n",
    "                             }}\n",
    "New.replace(encoding_hitrun, inplace=True)\n",
    "New['Hit/Run'].value_counts()"
   ]
  },
  {
   "cell_type": "code",
   "execution_count": 318,
   "metadata": {},
   "outputs": [
    {
     "data": {
      "text/plain": [
       "1    130\n",
       "2     65\n",
       "3     38\n",
       "5      7\n",
       "4      7\n",
       "Name: First Harmful Event, dtype: int64"
      ]
     },
     "execution_count": 318,
     "metadata": {},
     "output_type": "execute_result"
    }
   ],
   "source": [
    "encoding_FirstHarm = {\"First Harmful Event\": \n",
    "                            {\"OTHER VEHICLE\": 1,\n",
    "                             \"PEDESTRIAN\": 2,\n",
    "                             \"FIXED OBJECT\": 3,\n",
    "                             \"BICYCLE\": 4,\n",
    "                             \"OFF ROAD\": 5,\n",
    "                             \"OVERTURN\": 5,\n",
    "                             \"UNKNOWN\": 5,\n",
    "                             'OTHER CONVEYANCE':5\n",
    "                             }}\n",
    "New.replace(encoding_FirstHarm, inplace=True)\n",
    "New['First Harmful Event'].value_counts()"
   ]
  },
  {
   "cell_type": "code",
   "execution_count": 319,
   "metadata": {},
   "outputs": [
    {
     "data": {
      "text/plain": [
       "1    130\n",
       "2     65\n",
       "3     38\n",
       "5      7\n",
       "4      7\n",
       "Name: First Harmful Event, dtype: int64"
      ]
     },
     "execution_count": 319,
     "metadata": {},
     "output_type": "execute_result"
    }
   ],
   "source": [
    "New['First Harmful Event'].value_counts()"
   ]
  },
  {
   "cell_type": "code",
   "execution_count": 320,
   "metadata": {},
   "outputs": [
    {
     "data": {
      "text/plain": [
       "TWELVE OCLOCK    157\n",
       "ELEVEN OCLOCK     14\n",
       "ONE OCLOCK        12\n",
       "TWO OCLOCK        10\n",
       "THREE OCLOCK       9\n",
       "NINE OCLOCK        8\n",
       "SIX OCLOCK         7\n",
       "UNKNOWN            7\n",
       "EIGHT OCLOCK       6\n",
       "ROOF TOP           4\n",
       "FOUR OCLOCK        4\n",
       "FIVE OCLOCK        3\n",
       "TEN OCLOCK         3\n",
       "UNDERSIDE          2\n",
       "SEVEN OCLOCK       1\n",
       "Name: Vehicle First Impact Location, dtype: int64"
      ]
     },
     "execution_count": 320,
     "metadata": {},
     "output_type": "execute_result"
    }
   ],
   "source": [
    "New['Vehicle First Impact Location'].value_counts()"
   ]
  },
  {
   "cell_type": "code",
   "execution_count": 321,
   "metadata": {},
   "outputs": [
    {
     "data": {
      "text/plain": [
       "6    115\n",
       "3     81\n",
       "1     26\n",
       "5     11\n",
       "2     10\n",
       "4      4\n",
       "Name: Second Harmful Event, dtype: int64"
      ]
     },
     "execution_count": 321,
     "metadata": {},
     "output_type": "execute_result"
    }
   ],
   "source": [
    "encoding_SecondHarm = {\"Second Harmful Event\": \n",
    "                            {\"OTHER VEHICLE\": 1,\n",
    "                             \"PEDESTRIAN\": 2,\n",
    "                             \"FIXED OBJECT\": 3,\n",
    "                             \"EXPLOSION OR FIRE\": 4,\n",
    "                             \"OFF ROAD\": 5,\n",
    "                             \"OVERTURN\": 5,\n",
    "                             \"PARKED VEHICLE\": 3,\n",
    "                             'OTHER OBJECT':3,\n",
    "                             'FELL JUMPED FROM MOTOR VEHICLE':5,\n",
    "                             'UNKNOWN': 6}}\n",
    "New.replace(encoding_SecondHarm, inplace=True)\n",
    "New['Second Harmful Event'].value_counts()"
   ]
  },
  {
   "cell_type": "code",
   "execution_count": 322,
   "metadata": {},
   "outputs": [],
   "source": [
    "## I think 'First Harmful Event' shall be given different weight, need further consideration of how to apply that in model?"
   ]
  },
  {
   "cell_type": "code",
   "execution_count": 323,
   "metadata": {},
   "outputs": [
    {
     "data": {
      "text/plain": [
       "DRY        201\n",
       "WET         34\n",
       "UNKNOWN      6\n",
       "SLUSH        4\n",
       "OTHER        2\n",
       "Name: Surface Condition_x, dtype: int64"
      ]
     },
     "execution_count": 323,
     "metadata": {},
     "output_type": "execute_result"
    }
   ],
   "source": [
    "New['Surface Condition_x'].value_counts()"
   ]
  },
  {
   "cell_type": "code",
   "execution_count": 324,
   "metadata": {},
   "outputs": [],
   "source": [
    "New['Surface Condition_x'].fillna('OTHER', inplace=True)"
   ]
  },
  {
   "cell_type": "code",
   "execution_count": 325,
   "metadata": {},
   "outputs": [
    {
     "data": {
      "text/plain": [
       "1    209\n",
       "2     38\n",
       "Name: Surface Condition_x, dtype: int64"
      ]
     },
     "execution_count": 325,
     "metadata": {},
     "output_type": "execute_result"
    }
   ],
   "source": [
    "encoding_surface = {\"Surface Condition_x\": \n",
    "                            {\"DRY\": 1,\n",
    "                             \"WET\": 2,\n",
    "                             \"SLUSH\": 2,\n",
    "                             'OTHER': 1,\n",
    "                             \"UNKNOWN\": 1 }}\n",
    "New.replace(encoding_surface, inplace=True)\n",
    "New['Surface Condition_x'].value_counts()"
   ]
  },
  {
   "cell_type": "code",
   "execution_count": 326,
   "metadata": {},
   "outputs": [],
   "source": [
    "## combine wet and slush to one category."
   ]
  },
  {
   "cell_type": "code",
   "execution_count": 327,
   "metadata": {},
   "outputs": [
    {
     "data": {
      "text/plain": [
       "CLEAR           181\n",
       "UNKNOWN          23\n",
       "RAINING          20\n",
       "CLOUDY           19\n",
       "WINTRY MIX        2\n",
       "SEVERE WINDS      1\n",
       "FOGGY             1\n",
       "Name: Weather_x, dtype: int64"
      ]
     },
     "execution_count": 327,
     "metadata": {},
     "output_type": "execute_result"
    }
   ],
   "source": [
    "New['Weather_x'].value_counts()"
   ]
  },
  {
   "cell_type": "code",
   "execution_count": 328,
   "metadata": {},
   "outputs": [
    {
     "data": {
      "text/plain": [
       "1    223\n",
       "2     20\n",
       "3      2\n",
       "5      1\n",
       "4      1\n",
       "Name: Weather_x, dtype: int64"
      ]
     },
     "execution_count": 328,
     "metadata": {},
     "output_type": "execute_result"
    }
   ],
   "source": [
    "encoding_weather = {\"Weather_x\": \n",
    "                            {\"CLEAR\": 1,\n",
    "                             \"RAINING\": 2,\n",
    "                             \"CLOUDY\": 1,\n",
    "                             \"WINTRY MIX\": 3,\n",
    "                             \"SEVERE WINDS\": 4,\n",
    "                             \"FOGGY\": 5,\n",
    "                            \n",
    "                             \"UNKNOWN\": 1}}\n",
    "New.replace(encoding_weather, inplace=True)\n",
    "New['Weather_x'].value_counts()"
   ]
  },
  {
   "cell_type": "code",
   "execution_count": 329,
   "metadata": {},
   "outputs": [
    {
     "data": {
      "text/plain": [
       "Text(0.5, 1.05, 'Weather Condition')"
      ]
     },
     "execution_count": 329,
     "metadata": {},
     "output_type": "execute_result"
    },
    {
     "data": {
      "image/png": "[encoded data removed]",
      "text/plain": [
       "<Figure size 720x432 with 1 Axes>"
      ]
     },
     "metadata": {
      "needs_background": "light"
     },
     "output_type": "display_data"
    }
   ],
   "source": [
    "df = New.groupby(['Weather_x']).size().reset_index(name='counts')\n",
    "\n",
    "fig, ax = plt.subplots(figsize=(10,6))\n",
    "\n",
    "sns.barplot(x ='Weather_x',\n",
    "            y='counts',\n",
    "            ax=ax,\n",
    "            data=df)\n",
    "ax.set_title('Weather Condition', fontsize=18, position=(0.5,1.05))"
   ]
  },
  {
   "cell_type": "code",
   "execution_count": 330,
   "metadata": {},
   "outputs": [
    {
     "data": {
      "text/plain": [
       "0    18:47:00\n",
       "1    15:43:00\n",
       "2    15:43:00\n",
       "3    16:46:00\n",
       "4    19:05:00\n",
       "Name: Crash Time, dtype: object"
      ]
     },
     "execution_count": 330,
     "metadata": {},
     "output_type": "execute_result"
    }
   ],
   "source": [
    "merged1['Crash Time'].head(5)"
   ]
  },
  {
   "cell_type": "code",
   "execution_count": 331,
   "metadata": {},
   "outputs": [],
   "source": [
    "def period(row):\n",
    "    rdf = []\n",
    "    if(type(row) == float):\n",
    "        row = str(row)\n",
    "        rdf = row.split(\".\")\n",
    "    else:\n",
    "        rdf = str(row).split(\":\"); # day -- 7am-7pm\n",
    "        \n",
    "    hr = rdf[0]\n",
    "    if int(hr) > 7 and int(hr) < 9: # morning rush hour\n",
    "        return 1;\n",
    "    if int(hr) > 9 and int(hr) < 16:# day time\n",
    "        return 2;\n",
    "    if int(hr) > 16 and int(hr) <19: # afternoon rush hour:\n",
    "        return 3;\n",
    "    else: # night\n",
    "        return 4;"
   ]
  },
  {
   "cell_type": "code",
   "execution_count": 332,
   "metadata": {},
   "outputs": [],
   "source": [
    "New['Crash Time'] = New['Crash Time'].apply(period)"
   ]
  },
  {
   "cell_type": "code",
   "execution_count": 333,
   "metadata": {},
   "outputs": [
    {
     "data": {
      "text/plain": [
       "4    147\n",
       "2     60\n",
       "3     35\n",
       "1      5\n",
       "Name: Crash Time, dtype: int64"
      ]
     },
     "execution_count": 333,
     "metadata": {},
     "output_type": "execute_result"
    }
   ],
   "source": [
    "New['Crash Time'].value_counts()"
   ]
  },
  {
   "cell_type": "code",
   "execution_count": 334,
   "metadata": {},
   "outputs": [
    {
     "data": {
      "text/plain": [
       "Text(0.5, 1.05, 'Crash Time Distribution')"
      ]
     },
     "execution_count": 334,
     "metadata": {},
     "output_type": "execute_result"
    },
    {
     "data": {
      "image/png": "[encoded data removed]",
      "text/plain": [
       "<Figure size 720x432 with 1 Axes>"
      ]
     },
     "metadata": {
      "needs_background": "light"
     },
     "output_type": "display_data"
    }
   ],
   "source": [
    "df = New.groupby(['Crash Time']).size().reset_index(name='counts')\n",
    "\n",
    "fig, ax = plt.subplots(figsize=(10,6))\n",
    "\n",
    "sns.barplot(x ='Crash Time',\n",
    "            y='counts',\n",
    "            ax=ax,\n",
    "            data=df)\n",
    "ax.set_title('Crash Time Distribution', fontsize=18, position=(0.5,1.05))"
   ]
  },
  {
   "cell_type": "code",
   "execution_count": 335,
   "metadata": {},
   "outputs": [
    {
     "data": {
      "text/plain": [
       "DAYLIGHT                    116\n",
       "DARK LIGHTS ON               87\n",
       "DARK NO LIGHTS               24\n",
       "DUSK                         10\n",
       "DARK -- UNKNOWN LIGHTING      7\n",
       "DAWN                          3\n",
       "Name: Light_x, dtype: int64"
      ]
     },
     "execution_count": 335,
     "metadata": {},
     "output_type": "execute_result"
    }
   ],
   "source": [
    "New[\"Light_x\"].value_counts()"
   ]
  },
  {
   "cell_type": "code",
   "execution_count": 336,
   "metadata": {},
   "outputs": [],
   "source": [
    "New['Light_x'].fillna('UNKNOWN', inplace=True)"
   ]
  },
  {
   "cell_type": "code",
   "execution_count": 337,
   "metadata": {},
   "outputs": [
    {
     "data": {
      "text/plain": [
       "1    116\n",
       "2     87\n",
       "3     31\n",
       "4     13\n",
       "Name: Light_x, dtype: int64"
      ]
     },
     "execution_count": 337,
     "metadata": {},
     "output_type": "execute_result"
    }
   ],
   "source": [
    "encoding_light = {\"Light_x\": \n",
    "                            {\"DAYLIGHT\": 1,\n",
    "                             \"DARK LIGHTS ON\": 2,\n",
    "                             \"DARK NO LIGHTS\": 3,\n",
    "                             \"DUSK\": 4,\n",
    "                             \"DARK -- UNKNOWN LIGHTING\": 3,\n",
    "                             \"DAWN\": 4,\n",
    "                             \"UNKNOWN\": 1}}\n",
    "New.replace(encoding_light, inplace=True)\n",
    "New['Light_x'].value_counts()"
   ]
  },
  {
   "cell_type": "code",
   "execution_count": 338,
   "metadata": {},
   "outputs": [
    {
     "data": {
      "text/plain": [
       "Text(0.5, 1.05, 'Light Condition')"
      ]
     },
     "execution_count": 338,
     "metadata": {},
     "output_type": "execute_result"
    },
    {
     "data": {
      "image/png": "[encoded data removed]",
      "text/plain": [
       "<Figure size 720x432 with 1 Axes>"
      ]
     },
     "metadata": {
      "needs_background": "light"
     },
     "output_type": "display_data"
    }
   ],
   "source": [
    "df = New.groupby(['Light_x']).size().reset_index(name='counts')\n",
    "\n",
    "fig, ax = plt.subplots(figsize=(10,6))\n",
    "\n",
    "sns.barplot(x ='Light_x',\n",
    "            y='counts',\n",
    "            ax=ax,\n",
    "            data=df)\n",
    "ax.set_title('Light Condition', fontsize=18, position=(0.5,1.05))"
   ]
  },
  {
   "cell_type": "code",
   "execution_count": 339,
   "metadata": {},
   "outputs": [
    {
     "name": "stdout",
     "output_type": "stream",
     "text": [
      "['Report Number', 'Agency Name_x', 'ACRS Report Type_x', 'Route Type_x', 'Cross-Street Type_x', 'Related Non-Motorist_x', 'Collision Type_x', 'Weather_x', 'Surface Condition_x', 'Light_x', 'Traffic Control_x', 'Driver Substance Abuse_x', 'Non-Motorist Substance Abuse_x', 'Driver At Fault', 'Injury Severity', 'Driver Distracted By', 'Drivers License State', 'Vehicle Damage Extent', 'Vehicle First Impact Location', 'Vehicle Second Impact Location', 'Vehicle Body Type', 'Vehicle Movement', 'Vehicle Continuing Dir', 'Vehicle Going Dir', 'Speed Limit', 'Driverless Vehicle', 'Parked Vehicle', 'Vehicle Year', 'Vehicle Make', 'Vehicle Model', 'Equipment Problems', 'Latitude_x', 'Longitude_x', 'Location_x', 'Crash Date', 'Crash Time', 'Hit/Run', 'Mile Point', 'Mile Point Direction', 'Lane Direction', 'Lane Number', 'Number of Lanes', 'Direction', 'Distance', 'Distance Unit', 'Road Grade', 'NonTraffic', 'At Fault', 'First Harmful Event', 'Second Harmful Event', 'Fixed Oject Struck', 'Junction', 'Intersection Type', 'Road Alignment', 'Road Condition', 'Road Division']\n"
     ]
    }
   ],
   "source": [
    "#print(New.columns.values)\n",
    "print(New.columns.tolist())"
   ]
  },
  {
   "cell_type": "code",
   "execution_count": 340,
   "metadata": {},
   "outputs": [
    {
     "data": {
      "text/plain": [
       "2015    18\n",
       "2014    18\n",
       "2012    17\n",
       "2009    15\n",
       "2005    15\n",
       "2011    14\n",
       "2003    13\n",
       "2004    13\n",
       "2006    12\n",
       "2016    12\n",
       "2017    11\n",
       "2002    11\n",
       "2008    10\n",
       "2013     9\n",
       "2007     9\n",
       "2018     8\n",
       "2010     6\n",
       "1997     6\n",
       "2019     5\n",
       "2000     5\n",
       "1999     5\n",
       "1995     3\n",
       "1998     3\n",
       "2020     2\n",
       "2001     2\n",
       "0        2\n",
       "1990     1\n",
       "1989     1\n",
       "1984     1\n",
       "Name: Vehicle Year, dtype: int64"
      ]
     },
     "execution_count": 340,
     "metadata": {},
     "output_type": "execute_result"
    }
   ],
   "source": [
    "New['Vehicle Year'].value_counts()"
   ]
  },
  {
   "cell_type": "code",
   "execution_count": 341,
   "metadata": {},
   "outputs": [
    {
     "data": {
      "text/plain": [
       "TOYOTA             34\n",
       "HONDA              30\n",
       "FORD               24\n",
       "NISSAN             11\n",
       "CHEV                9\n",
       "BMW                 9\n",
       "CHEVROLET           8\n",
       "LEXUS               7\n",
       "ACURA               7\n",
       "TOYT                6\n",
       "DODGE               6\n",
       "SUZUKI              6\n",
       "GMC                 5\n",
       "HYUNDAI             5\n",
       "VOLKSWAGEN          5\n",
       "AUDI                5\n",
       "JEEP                4\n",
       "GILLIG              4\n",
       "SUBARU              3\n",
       "CADILLAC            3\n",
       "HARLEY DAVIDSON     3\n",
       "MERCEDES            3\n",
       "MACK                3\n",
       "VOLVO               2\n",
       "MERZ                2\n",
       "VOLK                2\n",
       "THOMAS              2\n",
       "INFINITI            2\n",
       "CHEVY               2\n",
       "TAO TAO             2\n",
       "KIA                 2\n",
       "MAZDA               2\n",
       "UNKNOWN             2\n",
       "HOND                2\n",
       "MAZD                1\n",
       "ROCKBIKE            1\n",
       "THOM                1\n",
       "KAWASAKI            1\n",
       "MITSUBISHI          1\n",
       "MERCURY             1\n",
       "HARLEY DAV          1\n",
       "SCION               1\n",
       "KTM                 1\n",
       "TOYTA               1\n",
       "BUICK               1\n",
       "VOLKSWAGON          1\n",
       "YAMAHA              1\n",
       "LINCOLN             1\n",
       "NISS                1\n",
       "CHRYSLER            1\n",
       "TRIUMPH             1\n",
       "VOLKS               1\n",
       "PETE                1\n",
       "DODG                1\n",
       "AGUSTA              1\n",
       "SATURN              1\n",
       "FREIGHTLINER        1\n",
       "CADI                1\n",
       "VW                  1\n",
       "Name: Vehicle Make, dtype: int64"
      ]
     },
     "execution_count": 341,
     "metadata": {},
     "output_type": "execute_result"
    }
   ],
   "source": [
    "New['Vehicle Make'].value_counts()"
   ]
  },
  {
   "cell_type": "code",
   "execution_count": 342,
   "metadata": {},
   "outputs": [
    {
     "data": {
      "text/plain": [
       "CAMRY          14\n",
       "ACCORD         12\n",
       "COROLLA         8\n",
       "CIVIC           7\n",
       "ALTIMA          4\n",
       "RAV4            4\n",
       "BUS             3\n",
       "PILOT           3\n",
       "F250            3\n",
       "UNKNOWN         3\n",
       "JETTA           3\n",
       "4S              3\n",
       "EXPLORER        3\n",
       "MUSTANG         3\n",
       "EXPEDITION      3\n",
       "PASSAT          3\n",
       "3               3\n",
       "CRV             2\n",
       "MDX             2\n",
       "MALIBU          2\n",
       "CHEROKEE        2\n",
       "ESCAPE          2\n",
       "SONATA          2\n",
       "TK              2\n",
       "FUSION          2\n",
       "ROGUE           2\n",
       "TAHOE           2\n",
       "PRIUS           2\n",
       "RX350           2\n",
       "TAURUS          2\n",
       "               ..\n",
       "RAV-4           1\n",
       "TRASH           1\n",
       "ULTRA           1\n",
       "F3 800          1\n",
       "TLX             1\n",
       "COROLA          1\n",
       "TRASH TRUCK     1\n",
       "RAM 2500        1\n",
       "Q7              1\n",
       "VOLT            1\n",
       "Q50S            1\n",
       "ARMADA          1\n",
       "S6              1\n",
       "CBR             1\n",
       "SILVERADO       1\n",
       "SAVANA          1\n",
       "A4              1\n",
       "C-MAX           1\n",
       "SCOOTER         1\n",
       "TRAILBLAZER     1\n",
       "BONNEVILLE      1\n",
       "BEETLE          1\n",
       "335I            1\n",
       "HR-V            1\n",
       "F-250           1\n",
       "CHALLENGER      1\n",
       "GSX-1000        1\n",
       "ESCALADE        1\n",
       "SIERRA          1\n",
       "SV650           1\n",
       "Name: Vehicle Model, Length: 163, dtype: int64"
      ]
     },
     "execution_count": 342,
     "metadata": {},
     "output_type": "execute_result"
    }
   ],
   "source": [
    "New['Vehicle Model'].value_counts()"
   ]
  },
  {
   "cell_type": "code",
   "execution_count": 343,
   "metadata": {},
   "outputs": [],
   "source": [
    "# I decided to drop vehicle year, vehicle model and make. I don't think much trend related to vehicle."
   ]
  },
  {
   "cell_type": "code",
   "execution_count": 344,
   "metadata": {},
   "outputs": [
    {
     "data": {
      "text/plain": [
       "TWO-WAY, DIVIDED, POSITIVE MEDIAN BARRIER           119\n",
       "TWO-WAY, NOT DIVIDED                                 82\n",
       "TWO-WAY, DIVIDED, UNPROTECTED PAINTED MIN 4 FEET     39\n",
       "UNKNOWN                                               5\n",
       "TWO-WAY, NOT DIVIDED WITH A CONTINUOUS LEFT TURN      2\n",
       "Name: Road Division, dtype: int64"
      ]
     },
     "execution_count": 344,
     "metadata": {},
     "output_type": "execute_result"
    }
   ],
   "source": [
    "New['Road Division'].value_counts()"
   ]
  },
  {
   "cell_type": "code",
   "execution_count": 345,
   "metadata": {},
   "outputs": [
    {
     "data": {
      "text/plain": [
       "1    124\n",
       "2     84\n",
       "3     39\n",
       "Name: Road Division, dtype: int64"
      ]
     },
     "execution_count": 345,
     "metadata": {},
     "output_type": "execute_result"
    }
   ],
   "source": [
    "encoding_RoadDivision = {\"Road Division\": \n",
    "                            {\"TWO-WAY, DIVIDED, POSITIVE MEDIAN BARRIER\": 1,\n",
    "                             \"TWO-WAY, NOT DIVIDED\": 2,\n",
    "                             \"TWO-WAY, DIVIDED, UNPROTECTED PAINTED MIN 4 FEET\": 3,\n",
    "                             \"TWO-WAY, NOT DIVIDED WITH A CONTINUOUS LEFT TURN\": 2,\n",
    "                             \n",
    "                            \n",
    "                             \"UNKNOWN\": 1}}\n",
    "New.replace(encoding_RoadDivision, inplace=True)\n",
    "New['Road Division'].value_counts()"
   ]
  },
  {
   "cell_type": "code",
   "execution_count": 346,
   "metadata": {},
   "outputs": [
    {
     "data": {
      "text/plain": [
       "STRAIGHT       0.740891\n",
       "CURVE RIGHT    0.145749\n",
       "CURVE LEFT     0.097166\n",
       "UNKNOWN        0.012146\n",
       "OTHER          0.004049\n",
       "Name: Road Alignment, dtype: float64"
      ]
     },
     "execution_count": 346,
     "metadata": {},
     "output_type": "execute_result"
    }
   ],
   "source": [
    "New['Road Alignment'].value_counts(normalize= True)"
   ]
  },
  {
   "cell_type": "code",
   "execution_count": 347,
   "metadata": {},
   "outputs": [
    {
     "data": {
      "text/plain": [
       "Text(0.5, 1.05, 'Road Alignment')"
      ]
     },
     "execution_count": 347,
     "metadata": {},
     "output_type": "execute_result"
    },
    {
     "data": {
      "image/png": "[encoded data removed]",
      "text/plain": [
       "<Figure size 720x432 with 1 Axes>"
      ]
     },
     "metadata": {
      "needs_background": "light"
     },
     "output_type": "display_data"
    }
   ],
   "source": [
    "df = New.groupby(['Road Alignment']).size().reset_index(name='counts')\n",
    "\n",
    "fig, ax = plt.subplots(figsize=(10,6))\n",
    "\n",
    "sns.barplot(x ='Road Alignment',\n",
    "            y='counts',\n",
    "            ax=ax,\n",
    "            data=df)\n",
    "ax.set_title('Road Alignment', fontsize=18, position=(0.5,1.05))"
   ]
  },
  {
   "cell_type": "code",
   "execution_count": 348,
   "metadata": {},
   "outputs": [
    {
     "data": {
      "text/plain": [
       "1    183\n",
       "2     36\n",
       "3     24\n",
       "4      4\n",
       "Name: Road Alignment, dtype: int64"
      ]
     },
     "execution_count": 348,
     "metadata": {},
     "output_type": "execute_result"
    }
   ],
   "source": [
    "encoding_RoadAlign = {\"Road Alignment\": \n",
    "                            {\"STRAIGHT\": 1,\n",
    "                             \"CURVE RIGHT\": 2,\n",
    "                             \"CURVE LEFT\": 3,\n",
    "                             \"UNKNOWN\": 4,\n",
    "                             \"OTHER\": 4}}\n",
    "New.replace(encoding_RoadAlign, inplace=True)\n",
    "New['Road Alignment'].value_counts()"
   ]
  },
  {
   "cell_type": "markdown",
   "metadata": {},
   "source": [
    "New['Fixed Oject Struck'].value_counts()"
   ]
  },
  {
   "cell_type": "code",
   "execution_count": 349,
   "metadata": {},
   "outputs": [
    {
     "data": {
      "text/plain": [
       "North      107\n",
       "East        80\n",
       "South       32\n",
       "West        24\n",
       "UNKNOWN      4\n",
       "Name: Direction, dtype: int64"
      ]
     },
     "execution_count": 349,
     "metadata": {},
     "output_type": "execute_result"
    }
   ],
   "source": [
    "New['Direction'].value_counts()"
   ]
  },
  {
   "cell_type": "code",
   "execution_count": 350,
   "metadata": {},
   "outputs": [
    {
     "data": {
      "text/plain": [
       "2     84\n",
       "3     81\n",
       "1     46\n",
       "4     16\n",
       "6     10\n",
       "10     3\n",
       "5      3\n",
       "0      3\n",
       "7      1\n",
       "Name: Number of Lanes, dtype: int64"
      ]
     },
     "execution_count": 350,
     "metadata": {},
     "output_type": "execute_result"
    }
   ],
   "source": [
    "New['Number of Lanes'].value_counts()"
   ]
  },
  {
   "cell_type": "code",
   "execution_count": 351,
   "metadata": {},
   "outputs": [
    {
     "data": {
      "text/plain": [
       "1    131\n",
       "2     70\n",
       "3     27\n",
       "0     18\n",
       "5      1\n",
       "Name: Lane Number, dtype: int64"
      ]
     },
     "execution_count": 351,
     "metadata": {},
     "output_type": "execute_result"
    }
   ],
   "source": [
    "New['Lane Number'].value_counts()"
   ]
  },
  {
   "cell_type": "code",
   "execution_count": 352,
   "metadata": {},
   "outputs": [
    {
     "data": {
      "text/plain": [
       "MOVING CONSTANT SPEED      132\n",
       "UNKNOWN                     45\n",
       "MAKING LEFT TURN            30\n",
       "STOPPED IN TRAFFIC LANE      8\n",
       "ACCELERATING                 5\n",
       "MAKING RIGHT TURN            4\n",
       "SLOWING OR STOPPING          4\n",
       "CHANGING LANES               3\n",
       "NEGOTIATING A CURVE          3\n",
       "SKIDDING                     3\n",
       "LEAVING TRAFFIC LANE         3\n",
       "ENTERING TRAFFIC LANE        2\n",
       "MAKING U TURN                2\n",
       "RIGHT TURN ON RED            1\n",
       "BACKING                      1\n",
       "STARTING FROM LANE           1\n",
       "Name: Vehicle Movement, dtype: int64"
      ]
     },
     "execution_count": 352,
     "metadata": {},
     "output_type": "execute_result"
    }
   ],
   "source": [
    "New['Vehicle Movement'].value_counts()"
   ]
  },
  {
   "cell_type": "code",
   "execution_count": 353,
   "metadata": {},
   "outputs": [
    {
     "data": {
      "text/plain": [
       "No     244\n",
       "Yes      3\n",
       "Name: NonTraffic, dtype: int64"
      ]
     },
     "execution_count": 353,
     "metadata": {},
     "output_type": "execute_result"
    }
   ],
   "source": [
    "New['NonTraffic'].value_counts()"
   ]
  },
  {
   "cell_type": "code",
   "execution_count": 354,
   "metadata": {},
   "outputs": [
    {
     "data": {
      "text/plain": [
       "1    244\n",
       "2      3\n",
       "Name: NonTraffic, dtype: int64"
      ]
     },
     "execution_count": 354,
     "metadata": {},
     "output_type": "execute_result"
    }
   ],
   "source": [
    "encoding_NonTraffic = {\"NonTraffic\": \n",
    "                           \n",
    "                            {\"No\": 1,\n",
    "                             \"Yes\": 2,\n",
    "                           }}\n",
    "New.replace(encoding_NonTraffic, inplace=True)\n",
    "New['NonTraffic'].value_counts()"
   ]
  },
  {
   "cell_type": "code",
   "execution_count": 355,
   "metadata": {},
   "outputs": [
    {
     "data": {
      "text/plain": [
       "UNKNOWN             168\n",
       "PEDESTRIAN           67\n",
       "BICYCLIST             8\n",
       "OTHER CONVEYANCE      2\n",
       "OTHER                 2\n",
       "Name: Related Non-Motorist_x, dtype: int64"
      ]
     },
     "execution_count": 355,
     "metadata": {},
     "output_type": "execute_result"
    }
   ],
   "source": [
    "New['Related Non-Motorist_x'].value_counts()"
   ]
  },
  {
   "cell_type": "code",
   "execution_count": 356,
   "metadata": {},
   "outputs": [
    {
     "data": {
      "text/plain": [
       "UNKNOWN        133\n",
       "DRIVER          95\n",
       "NONMOTORIST     16\n",
       "BOTH             3\n",
       "Name: At Fault, dtype: int64"
      ]
     },
     "execution_count": 356,
     "metadata": {},
     "output_type": "execute_result"
    }
   ],
   "source": [
    "New['At Fault'].value_counts()"
   ]
  },
  {
   "cell_type": "code",
   "execution_count": 357,
   "metadata": {},
   "outputs": [
    {
     "data": {
      "text/plain": [
       "3    133\n",
       "1     98\n",
       "2     16\n",
       "Name: At Fault, dtype: int64"
      ]
     },
     "execution_count": 357,
     "metadata": {},
     "output_type": "execute_result"
    }
   ],
   "source": [
    "encoding_AtFault = {\"At Fault\": \n",
    "                           \n",
    "                            {\"UNKNOWN\": 3,\n",
    "                             \"DRIVER\": 1,\n",
    "                             'NONMOTORIST': 2,\n",
    "                             'BOTH': 1 }}\n",
    "New.replace(encoding_AtFault, inplace=True)\n",
    "New['At Fault'].value_counts()"
   ]
  },
  {
   "cell_type": "code",
   "execution_count": 359,
   "metadata": {},
   "outputs": [],
   "source": [
    "df_train1 = New[['Related Non-Motorist_x', 'Vehicle Year','Collision Type_x', 'Weather_x', 'Surface Condition_x', 'Light_x', 'Traffic Control_x', 'Driver Substance Abuse_x', 'Non-Motorist Substance Abuse_x', 'At Fault', 'Injury Severity', 'Driver Distracted By', 'Vehicle Body Type', 'Vehicle Movement', 'Vehicle Continuing Dir', 'Vehicle Going Dir', 'Speed Limit', 'Driverless Vehicle', 'Equipment Problems', 'Crash Date', 'Crash Time', 'Hit/Run', 'Mile Point', 'Number of Lanes', 'Distance', 'Distance Unit', 'NonTraffic', 'First Harmful Event', 'Second Harmful Event', 'Fixed Oject Struck', 'Junction', 'Intersection Type', 'Road Alignment', 'Road Division']]"
   ]
  },
  {
   "cell_type": "code",
   "execution_count": 360,
   "metadata": {},
   "outputs": [
    {
     "name": "stdout",
     "output_type": "stream",
     "text": [
      "<class 'pandas.core.frame.DataFrame'>\n",
      "Int64Index: 247 entries, 0 to 246\n",
      "Data columns (total 34 columns):\n",
      "Related Non-Motorist_x            247 non-null object\n",
      "Vehicle Year                      247 non-null int64\n",
      "Collision Type_x                  247 non-null int64\n",
      "Weather_x                         247 non-null int64\n",
      "Surface Condition_x               247 non-null int64\n",
      "Light_x                           247 non-null object\n",
      "Traffic Control_x                 247 non-null int64\n",
      "Driver Substance Abuse_x          247 non-null int64\n",
      "Non-Motorist Substance Abuse_x    247 non-null int64\n",
      "At Fault                          247 non-null int64\n",
      "Injury Severity                   247 non-null object\n",
      "Driver Distracted By              247 non-null int64\n",
      "Vehicle Body Type                 247 non-null object\n",
      "Vehicle Movement                  247 non-null object\n",
      "Vehicle Continuing Dir            247 non-null object\n",
      "Vehicle Going Dir                 247 non-null object\n",
      "Speed Limit                       247 non-null int64\n",
      "Driverless Vehicle                247 non-null object\n",
      "Equipment Problems                247 non-null object\n",
      "Crash Date                        247 non-null object\n",
      "Crash Time                        247 non-null int64\n",
      "Hit/Run                           247 non-null int64\n",
      "Mile Point                        247 non-null object\n",
      "Number of Lanes                   247 non-null int64\n",
      "Distance                          247 non-null object\n",
      "Distance Unit                     247 non-null object\n",
      "NonTraffic                        247 non-null int64\n",
      "First Harmful Event               247 non-null int64\n",
      "Second Harmful Event              247 non-null int64\n",
      "Fixed Oject Struck                247 non-null object\n",
      "Junction                          247 non-null int64\n",
      "Intersection Type                 247 non-null object\n",
      "Road Alignment                    247 non-null int64\n",
      "Road Division                     247 non-null int64\n",
      "dtypes: int64(19), object(15)\n",
      "memory usage: 67.5+ KB\n"
     ]
    }
   ],
   "source": [
    "df_train1.info()"
   ]
  },
  {
   "cell_type": "code",
   "execution_count": 361,
   "metadata": {},
   "outputs": [
    {
     "name": "stderr",
     "output_type": "stream",
     "text": [
      "C:\\Users\\ywei1\\Anaconda3\\lib\\site-packages\\ipykernel_launcher.py:7: SettingWithCopyWarning: \n",
      "A value is trying to be set on a copy of a slice from a DataFrame.\n",
      "Try using .loc[row_indexer,col_indexer] = value instead\n",
      "\n",
      "See the caveats in the documentation: http://pandas.pydata.org/pandas-docs/stable/indexing.html#indexing-view-versus-copy\n",
      "  import sys\n"
     ]
    },
    {
     "ename": "TypeError",
     "evalue": "Encoders require their input to be uniformly strings or numbers. Got ['float', 'str']",
     "output_type": "error",
     "traceback": [
      "\u001b[1;31m---------------------------------------------------------------------------\u001b[0m",
      "\u001b[1;31mTypeError\u001b[0m                                 Traceback (most recent call last)",
      "\u001b[1;32m~\\Anaconda3\\lib\\site-packages\\sklearn\\preprocessing\\_label.py\u001b[0m in \u001b[0;36m_encode\u001b[1;34m(values, uniques, encode, check_unknown)\u001b[0m\n\u001b[0;32m    112\u001b[0m         \u001b[1;32mtry\u001b[0m\u001b[1;33m:\u001b[0m\u001b[1;33m\u001b[0m\u001b[1;33m\u001b[0m\u001b[0m\n\u001b[1;32m--> 113\u001b[1;33m             \u001b[0mres\u001b[0m \u001b[1;33m=\u001b[0m \u001b[0m_encode_python\u001b[0m\u001b[1;33m(\u001b[0m\u001b[0mvalues\u001b[0m\u001b[1;33m,\u001b[0m \u001b[0muniques\u001b[0m\u001b[1;33m,\u001b[0m \u001b[0mencode\u001b[0m\u001b[1;33m)\u001b[0m\u001b[1;33m\u001b[0m\u001b[1;33m\u001b[0m\u001b[0m\n\u001b[0m\u001b[0;32m    114\u001b[0m         \u001b[1;32mexcept\u001b[0m \u001b[0mTypeError\u001b[0m\u001b[1;33m:\u001b[0m\u001b[1;33m\u001b[0m\u001b[1;33m\u001b[0m\u001b[0m\n",
      "\u001b[1;32m~\\Anaconda3\\lib\\site-packages\\sklearn\\preprocessing\\_label.py\u001b[0m in \u001b[0;36m_encode_python\u001b[1;34m(values, uniques, encode)\u001b[0m\n\u001b[0;32m     60\u001b[0m     \u001b[1;32mif\u001b[0m \u001b[0muniques\u001b[0m \u001b[1;32mis\u001b[0m \u001b[1;32mNone\u001b[0m\u001b[1;33m:\u001b[0m\u001b[1;33m\u001b[0m\u001b[1;33m\u001b[0m\u001b[0m\n\u001b[1;32m---> 61\u001b[1;33m         \u001b[0muniques\u001b[0m \u001b[1;33m=\u001b[0m \u001b[0msorted\u001b[0m\u001b[1;33m(\u001b[0m\u001b[0mset\u001b[0m\u001b[1;33m(\u001b[0m\u001b[0mvalues\u001b[0m\u001b[1;33m)\u001b[0m\u001b[1;33m)\u001b[0m\u001b[1;33m\u001b[0m\u001b[1;33m\u001b[0m\u001b[0m\n\u001b[0m\u001b[0;32m     62\u001b[0m         \u001b[0muniques\u001b[0m \u001b[1;33m=\u001b[0m \u001b[0mnp\u001b[0m\u001b[1;33m.\u001b[0m\u001b[0marray\u001b[0m\u001b[1;33m(\u001b[0m\u001b[0muniques\u001b[0m\u001b[1;33m,\u001b[0m \u001b[0mdtype\u001b[0m\u001b[1;33m=\u001b[0m\u001b[0mvalues\u001b[0m\u001b[1;33m.\u001b[0m\u001b[0mdtype\u001b[0m\u001b[1;33m)\u001b[0m\u001b[1;33m\u001b[0m\u001b[1;33m\u001b[0m\u001b[0m\n",
      "\u001b[1;31mTypeError\u001b[0m: '<' not supported between instances of 'str' and 'float'",
      "\nDuring handling of the above exception, another exception occurred:\n",
      "\u001b[1;31mTypeError\u001b[0m                                 Traceback (most recent call last)",
      "\u001b[1;32m<ipython-input-361-2894032059d1>\u001b[0m in \u001b[0;36m<module>\u001b[1;34m\u001b[0m\n\u001b[0;32m      4\u001b[0m \u001b[1;32mfor\u001b[0m \u001b[0mi\u001b[0m \u001b[1;32min\u001b[0m \u001b[0mdf_train1\u001b[0m\u001b[1;33m:\u001b[0m\u001b[1;33m\u001b[0m\u001b[1;33m\u001b[0m\u001b[0m\n\u001b[0;32m      5\u001b[0m     \u001b[1;32mif\u001b[0m \u001b[0mdf_train1\u001b[0m\u001b[1;33m[\u001b[0m\u001b[0mi\u001b[0m\u001b[1;33m]\u001b[0m\u001b[1;33m.\u001b[0m\u001b[0mdtype\u001b[0m \u001b[1;33m==\u001b[0m \u001b[1;34m'object'\u001b[0m\u001b[1;33m:\u001b[0m\u001b[1;33m\u001b[0m\u001b[1;33m\u001b[0m\u001b[0m\n\u001b[1;32m----> 6\u001b[1;33m         \u001b[0mlblE\u001b[0m\u001b[1;33m.\u001b[0m\u001b[0mfit\u001b[0m\u001b[1;33m(\u001b[0m\u001b[0mdf_train1\u001b[0m\u001b[1;33m[\u001b[0m\u001b[0mi\u001b[0m\u001b[1;33m]\u001b[0m\u001b[1;33m)\u001b[0m\u001b[1;33m\u001b[0m\u001b[1;33m\u001b[0m\u001b[0m\n\u001b[0m\u001b[0;32m      7\u001b[0m         \u001b[0mdf_train1\u001b[0m\u001b[1;33m[\u001b[0m\u001b[0mi\u001b[0m\u001b[1;33m]\u001b[0m \u001b[1;33m=\u001b[0m \u001b[0mlblE\u001b[0m\u001b[1;33m.\u001b[0m\u001b[0mtransform\u001b[0m\u001b[1;33m(\u001b[0m\u001b[0mdf_train1\u001b[0m\u001b[1;33m[\u001b[0m\u001b[0mi\u001b[0m\u001b[1;33m]\u001b[0m\u001b[1;33m)\u001b[0m\u001b[1;33m\u001b[0m\u001b[1;33m\u001b[0m\u001b[0m\n",
      "\u001b[1;32m~\\Anaconda3\\lib\\site-packages\\sklearn\\preprocessing\\_label.py\u001b[0m in \u001b[0;36mfit\u001b[1;34m(self, y)\u001b[0m\n\u001b[0;32m    238\u001b[0m         \"\"\"\n\u001b[0;32m    239\u001b[0m         \u001b[0my\u001b[0m \u001b[1;33m=\u001b[0m \u001b[0mcolumn_or_1d\u001b[0m\u001b[1;33m(\u001b[0m\u001b[0my\u001b[0m\u001b[1;33m,\u001b[0m \u001b[0mwarn\u001b[0m\u001b[1;33m=\u001b[0m\u001b[1;32mTrue\u001b[0m\u001b[1;33m)\u001b[0m\u001b[1;33m\u001b[0m\u001b[1;33m\u001b[0m\u001b[0m\n\u001b[1;32m--> 240\u001b[1;33m         \u001b[0mself\u001b[0m\u001b[1;33m.\u001b[0m\u001b[0mclasses_\u001b[0m \u001b[1;33m=\u001b[0m \u001b[0m_encode\u001b[0m\u001b[1;33m(\u001b[0m\u001b[0my\u001b[0m\u001b[1;33m)\u001b[0m\u001b[1;33m\u001b[0m\u001b[1;33m\u001b[0m\u001b[0m\n\u001b[0m\u001b[0;32m    241\u001b[0m         \u001b[1;32mreturn\u001b[0m \u001b[0mself\u001b[0m\u001b[1;33m\u001b[0m\u001b[1;33m\u001b[0m\u001b[0m\n\u001b[0;32m    242\u001b[0m \u001b[1;33m\u001b[0m\u001b[0m\n",
      "\u001b[1;32m~\\Anaconda3\\lib\\site-packages\\sklearn\\preprocessing\\_label.py\u001b[0m in \u001b[0;36m_encode\u001b[1;34m(values, uniques, encode, check_unknown)\u001b[0m\n\u001b[0;32m    115\u001b[0m             types = sorted(t.__qualname__\n\u001b[0;32m    116\u001b[0m                            for t in set(type(v) for v in values))\n\u001b[1;32m--> 117\u001b[1;33m             raise TypeError(\"Encoders require their input to be uniformly \"\n\u001b[0m\u001b[0;32m    118\u001b[0m                             f\"strings or numbers. Got {types}\")\n\u001b[0;32m    119\u001b[0m         \u001b[1;32mreturn\u001b[0m \u001b[0mres\u001b[0m\u001b[1;33m\u001b[0m\u001b[1;33m\u001b[0m\u001b[0m\n",
      "\u001b[1;31mTypeError\u001b[0m: Encoders require their input to be uniformly strings or numbers. Got ['float', 'str']"
     ]
    }
   ],
   "source": [
    "# Label encoder\n",
    "from sklearn.preprocessing import LabelEncoder\n",
    "lblE = LabelEncoder()\n",
    "for i in df_train1:\n",
    "    if df_train1[i].dtype == 'object':\n",
    "        lblE.fit(df_train1[i])\n",
    "        df_train1[i] = lblE.transform(df_train1[i])"
   ]
  },
  {
   "cell_type": "code",
   "execution_count": 362,
   "metadata": {},
   "outputs": [
    {
     "name": "stdout",
     "output_type": "stream",
     "text": [
      "Couldn't covert Mile Point to float\n",
      "Couldn't covert Distance to float\n",
      "Couldn't covert Distance Unit to float\n",
      "Couldn't covert Fixed Oject Struck to float\n",
      "Couldn't covert Intersection Type to float\n"
     ]
    }
   ],
   "source": [
    "cols_to_remove = []\n",
    "\n",
    "for col in df_train1.columns:\n",
    "    try:\n",
    "        _ = df_train1[col].astype(float)\n",
    "    except ValueError:\n",
    "        print('Couldn\\'t covert %s to float' % col)\n",
    "        cols_to_remove.append(col)\n",
    "        pass\n",
    "\n",
    "# keep only the columns in df that do not contain string\n",
    "df_train = df_train1[[col for col in df_train1.columns if col not in cols_to_remove]]"
   ]
  },
  {
   "cell_type": "code",
   "execution_count": 384,
   "metadata": {},
   "outputs": [
    {
     "data": {
      "text/html": [
       "<div>\n",
       "<style scoped>\n",
       "    .dataframe tbody tr th:only-of-type {\n",
       "        vertical-align: middle;\n",
       "    }\n",
       "\n",
       "    .dataframe tbody tr th {\n",
       "        vertical-align: top;\n",
       "    }\n",
       "\n",
       "    .dataframe thead th {\n",
       "        text-align: right;\n",
       "    }\n",
       "</style>\n",
       "<table border=\"1\" class=\"dataframe\">\n",
       "  <thead>\n",
       "    <tr style=\"text-align: right;\">\n",
       "      <th></th>\n",
       "      <th>Related Non-Motorist_x</th>\n",
       "      <th>Vehicle Year</th>\n",
       "      <th>Collision Type_x</th>\n",
       "      <th>Weather_x</th>\n",
       "      <th>Surface Condition_x</th>\n",
       "      <th>Light_x</th>\n",
       "      <th>Traffic Control_x</th>\n",
       "      <th>Driver Substance Abuse_x</th>\n",
       "      <th>Non-Motorist Substance Abuse_x</th>\n",
       "      <th>At Fault</th>\n",
       "      <th>...</th>\n",
       "      <th>Crash Date</th>\n",
       "      <th>Crash Time</th>\n",
       "      <th>Hit/Run</th>\n",
       "      <th>Number of Lanes</th>\n",
       "      <th>NonTraffic</th>\n",
       "      <th>First Harmful Event</th>\n",
       "      <th>Second Harmful Event</th>\n",
       "      <th>Junction</th>\n",
       "      <th>Road Alignment</th>\n",
       "      <th>Road Division</th>\n",
       "    </tr>\n",
       "  </thead>\n",
       "  <tbody>\n",
       "    <tr>\n",
       "      <th>141</th>\n",
       "      <td>2</td>\n",
       "      <td>2011</td>\n",
       "      <td>1</td>\n",
       "      <td>2</td>\n",
       "      <td>2</td>\n",
       "      <td>2</td>\n",
       "      <td>2</td>\n",
       "      <td>1</td>\n",
       "      <td>2</td>\n",
       "      <td>3</td>\n",
       "      <td>...</td>\n",
       "      <td>92</td>\n",
       "      <td>4</td>\n",
       "      <td>1</td>\n",
       "      <td>2</td>\n",
       "      <td>1</td>\n",
       "      <td>2</td>\n",
       "      <td>6</td>\n",
       "      <td>1</td>\n",
       "      <td>1</td>\n",
       "      <td>3</td>\n",
       "    </tr>\n",
       "    <tr>\n",
       "      <th>160</th>\n",
       "      <td>4</td>\n",
       "      <td>2003</td>\n",
       "      <td>2</td>\n",
       "      <td>1</td>\n",
       "      <td>1</td>\n",
       "      <td>0</td>\n",
       "      <td>2</td>\n",
       "      <td>1</td>\n",
       "      <td>1</td>\n",
       "      <td>3</td>\n",
       "      <td>...</td>\n",
       "      <td>90</td>\n",
       "      <td>2</td>\n",
       "      <td>1</td>\n",
       "      <td>2</td>\n",
       "      <td>1</td>\n",
       "      <td>1</td>\n",
       "      <td>6</td>\n",
       "      <td>1</td>\n",
       "      <td>1</td>\n",
       "      <td>1</td>\n",
       "    </tr>\n",
       "    <tr>\n",
       "      <th>142</th>\n",
       "      <td>4</td>\n",
       "      <td>2010</td>\n",
       "      <td>1</td>\n",
       "      <td>1</td>\n",
       "      <td>1</td>\n",
       "      <td>0</td>\n",
       "      <td>1</td>\n",
       "      <td>1</td>\n",
       "      <td>1</td>\n",
       "      <td>1</td>\n",
       "      <td>...</td>\n",
       "      <td>61</td>\n",
       "      <td>2</td>\n",
       "      <td>1</td>\n",
       "      <td>2</td>\n",
       "      <td>1</td>\n",
       "      <td>3</td>\n",
       "      <td>3</td>\n",
       "      <td>2</td>\n",
       "      <td>1</td>\n",
       "      <td>2</td>\n",
       "    </tr>\n",
       "  </tbody>\n",
       "</table>\n",
       "<p>3 rows × 29 columns</p>\n",
       "</div>"
      ],
      "text/plain": [
       "     Related Non-Motorist_x  Vehicle Year  Collision Type_x  Weather_x  \\\n",
       "141                       2          2011                 1          2   \n",
       "160                       4          2003                 2          1   \n",
       "142                       4          2010                 1          1   \n",
       "\n",
       "     Surface Condition_x  Light_x  Traffic Control_x  \\\n",
       "141                    2        2                  2   \n",
       "160                    1        0                  2   \n",
       "142                    1        0                  1   \n",
       "\n",
       "     Driver Substance Abuse_x  Non-Motorist Substance Abuse_x  At Fault  ...  \\\n",
       "141                         1                               2         3  ...   \n",
       "160                         1                               1         3  ...   \n",
       "142                         1                               1         1  ...   \n",
       "\n",
       "     Crash Date  Crash Time  Hit/Run  Number of Lanes  NonTraffic  \\\n",
       "141          92           4        1                2           1   \n",
       "160          90           2        1                2           1   \n",
       "142          61           2        1                2           1   \n",
       "\n",
       "     First Harmful Event  Second Harmful Event  Junction  Road Alignment  \\\n",
       "141                    2                     6         1               1   \n",
       "160                    1                     6         1               1   \n",
       "142                    3                     3         2               1   \n",
       "\n",
       "     Road Division  \n",
       "141              3  \n",
       "160              1  \n",
       "142              2  \n",
       "\n",
       "[3 rows x 29 columns]"
      ]
     },
     "execution_count": 384,
     "metadata": {},
     "output_type": "execute_result"
    }
   ],
   "source": [
    "df_train.sample(3)"
   ]
  },
  {
   "cell_type": "code",
   "execution_count": 364,
   "metadata": {},
   "outputs": [
    {
     "data": {
      "text/plain": [
       "NO APPARENT INJURY          99\n",
       "FATAL INJURY                86\n",
       "SUSPECTED MINOR INJURY      27\n",
       "POSSIBLE INJURY             25\n",
       "SUSPECTED SERIOUS INJURY    10\n",
       "Name: Injury Severity, dtype: int64"
      ]
     },
     "execution_count": 364,
     "metadata": {},
     "output_type": "execute_result"
    }
   ],
   "source": [
    "New['Injury Severity'].value_counts()"
   ]
  },
  {
   "cell_type": "code",
   "execution_count": 365,
   "metadata": {},
   "outputs": [
    {
     "data": {
      "text/plain": [
       "3    99\n",
       "1    96\n",
       "2    52\n",
       "Name: Injury Severity, dtype: int64"
      ]
     },
     "execution_count": 365,
     "metadata": {},
     "output_type": "execute_result"
    }
   ],
   "source": [
    "encoding_Severity = {\"Injury Severity\": \n",
    "                           \n",
    "                            {\"NO APPARENT INJURY\": 3,\n",
    "                             \"FATAL INJURY\": 1,\n",
    "                             'SUSPECTED MINOR INJURY': 2,\n",
    "                             'POSSIBLE INJURY': 2,\n",
    "                            'SUSPECTED SERIOUS INJURY': 1}}\n",
    "New.replace(encoding_Severity, inplace=True)\n",
    "New['Injury Severity'].value_counts()"
   ]
  },
  {
   "cell_type": "code",
   "execution_count": 366,
   "metadata": {},
   "outputs": [],
   "source": [
    "df_test = New[['Injury Severity']]"
   ]
  },
  {
   "cell_type": "code",
   "execution_count": 387,
   "metadata": {},
   "outputs": [],
   "source": [
    "from sklearn.model_selection import train_test_split\n",
    "X_train, X_test, y_train, y_test = train_test_split(df_train, df_test, test_size=0.2)"
   ]
  },
  {
   "cell_type": "code",
   "execution_count": 388,
   "metadata": {},
   "outputs": [
    {
     "name": "stdout",
     "output_type": "stream",
     "text": [
      "[[14  2  1]\n",
      " [ 3  6  4]\n",
      " [ 5  0 15]]\n",
      "              precision    recall  f1-score   support\n",
      "\n",
      "           1       0.64      0.82      0.72        17\n",
      "           2       0.75      0.46      0.57        13\n",
      "           3       0.75      0.75      0.75        20\n",
      "\n",
      "    accuracy                           0.70        50\n",
      "   macro avg       0.71      0.68      0.68        50\n",
      "weighted avg       0.71      0.70      0.69        50\n",
      "\n",
      "Accuracy: 0.7\n"
     ]
    },
    {
     "name": "stderr",
     "output_type": "stream",
     "text": [
      "C:\\Users\\ywei1\\Anaconda3\\lib\\site-packages\\sklearn\\utils\\validation.py:72: DataConversionWarning: A column-vector y was passed when a 1d array was expected. Please change the shape of y to (n_samples, ), for example using ravel().\n",
      "  return f(**kwargs)\n",
      "C:\\Users\\ywei1\\Anaconda3\\lib\\site-packages\\sklearn\\linear_model\\_logistic.py:764: ConvergenceWarning: lbfgs failed to converge (status=1):\n",
      "STOP: TOTAL NO. of ITERATIONS REACHED LIMIT.\n",
      "\n",
      "Increase the number of iterations (max_iter) or scale the data as shown in:\n",
      "    https://scikit-learn.org/stable/modules/preprocessing.html\n",
      "Please also refer to the documentation for alternative solver options:\n",
      "    https://scikit-learn.org/stable/modules/linear_model.html#logistic-regression\n",
      "  extra_warning_msg=_LOGISTIC_SOLVER_CONVERGENCE_MSG)\n"
     ]
    }
   ],
   "source": [
    "from sklearn.linear_model import LogisticRegression\n",
    "logisticRegr = LogisticRegression()\n",
    "logisticRegr.fit(X_train, y_train)\n",
    "y_pred = logisticRegr.predict(X_test)\n",
    "print(confusion_matrix(y_test, y_pred))  \n",
    "print(classification_report(y_test, y_pred)) \n",
    "print(\"Accuracy:\",metrics.accuracy_score(y_test, y_pred))"
   ]
  },
  {
   "cell_type": "code",
   "execution_count": 389,
   "metadata": {},
   "outputs": [
    {
     "name": "stderr",
     "output_type": "stream",
     "text": [
      "C:\\Users\\ywei1\\Anaconda3\\lib\\site-packages\\ipykernel_launcher.py:5: DataConversionWarning: A column-vector y was passed when a 1d array was expected. Please change the shape of y to (n_samples,), for example using ravel().\n",
      "  \"\"\"\n"
     ]
    },
    {
     "name": "stdout",
     "output_type": "stream",
     "text": [
      "Accuracy: 0.92\n",
      "[[16  1  0]\n",
      " [ 0 10  3]\n",
      " [ 0  0 20]]\n",
      "              precision    recall  f1-score   support\n",
      "\n",
      "           1       1.00      0.94      0.97        17\n",
      "           2       0.91      0.77      0.83        13\n",
      "           3       0.87      1.00      0.93        20\n",
      "\n",
      "    accuracy                           0.92        50\n",
      "   macro avg       0.93      0.90      0.91        50\n",
      "weighted avg       0.92      0.92      0.92        50\n",
      "\n"
     ]
    }
   ],
   "source": [
    "from sklearn.ensemble import RandomForestClassifier\n",
    "#class_weight = dict({2:1, 1:15, 0:50})\n",
    "rdf = RandomForestClassifier(n_estimators=300,random_state=35)\n",
    "\n",
    "rdf.fit(X_train,y_train)\n",
    "\n",
    "y_pred=rdf.predict(X_test)\n",
    "\n",
    "#Import scikit-learn metrics module for accuracy calculation\n",
    "from sklearn import metrics\n",
    "# Model Accuracy, how often is the classifier correct?\n",
    "print(\"Accuracy:\",metrics.accuracy_score(y_test, y_pred))\n",
    "\n",
    "from sklearn import metrics\n",
    "from sklearn.metrics import classification_report, confusion_matrix  \n",
    "print(confusion_matrix(y_test, y_pred))  \n",
    "print(classification_report(y_test, y_pred)) "
   ]
  },
  {
   "cell_type": "code",
   "execution_count": 390,
   "metadata": {},
   "outputs": [],
   "source": [
    "from sklearn.ensemble import RandomForestClassifier\n",
    "#class_weight = dict({2:1, 1:15, 0:50})\n",
    "rdf = RandomForestClassifier(bootstrap=True,\n",
    "            class_weight=\"balanced_subsample\", \n",
    "            criterion='gini',\n",
    "            max_depth=8, max_features='auto', max_leaf_nodes=None,\n",
    "            min_impurity_decrease=0.0, min_impurity_split=None,\n",
    "            min_samples_leaf=4, min_samples_split=10,\n",
    "            min_weight_fraction_leaf=0.0, n_estimators=300,\n",
    "            oob_score=True,\n",
    "            random_state=35,\n",
    "            verbose=0, warm_start=False)"
   ]
  },
  {
   "cell_type": "code",
   "execution_count": 391,
   "metadata": {},
   "outputs": [
    {
     "name": "stdout",
     "output_type": "stream",
     "text": [
      "[[16  1  0]\n",
      " [ 0 10  3]\n",
      " [ 0  0 20]]\n",
      "              precision    recall  f1-score   support\n",
      "\n",
      "           1       1.00      0.94      0.97        17\n",
      "           2       0.91      0.77      0.83        13\n",
      "           3       0.87      1.00      0.93        20\n",
      "\n",
      "    accuracy                           0.92        50\n",
      "   macro avg       0.93      0.90      0.91        50\n",
      "weighted avg       0.92      0.92      0.92        50\n",
      "\n",
      "Accuracy: 0.92\n"
     ]
    }
   ],
   "source": [
    "from sklearn import metrics\n",
    "from sklearn.metrics import classification_report, confusion_matrix  \n",
    "print(confusion_matrix(y_test, y_pred))  \n",
    "print(classification_report(y_test, y_pred)) \n",
    "print(\"Accuracy:\",metrics.accuracy_score(y_test, y_pred))\n"
   ]
  },
  {
   "cell_type": "code",
   "execution_count": null,
   "metadata": {},
   "outputs": [],
   "source": []
  }
 ],
 "metadata": {
  "kernelspec": {
   "display_name": "Python 3",
   "language": "python",
   "name": "python3"
  },
  "language_info": {
   "codemirror_mode": {
    "name": "ipython",
    "version": 3
   },
   "file_extension": ".py",
   "mimetype": "text/x-python",
   "name": "python",
   "nbconvert_exporter": "python",
   "pygments_lexer": "ipython3",
   "version": "3.7.3"
  }
 },
 "nbformat": 4,
 "nbformat_minor": 2
}
